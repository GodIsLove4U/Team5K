{
  "nbformat": 4,
  "nbformat_minor": 0,
  "metadata": {
    "colab": {
      "name": "State Data Load.ipynb",
      "provenance": [],
      "collapsed_sections": []
    },
    "kernelspec": {
      "name": "python3",
      "display_name": "Python 3"
    }
  },
  "cells": [
    {
      "cell_type": "code",
      "metadata": {
        "id": "un3CVJFNOXm5",
        "colab_type": "code",
        "colab": {}
      },
      "source": [
        "# Install Java, Spark, and Findspark\n",
        "!apt-get install openjdk-8-jdk-headless -qq > /dev/null\n",
        "!wget -q http://www-us.apache.org/dist/spark/spark-2.4.6/spark-2.4.6-bin-hadoop2.7.tgz\n",
        "!tar xf spark-2.4.6-bin-hadoop2.7.tgz\n",
        "!pip install -q findspark\n",
        "\n",
        "# Set Environment Variables\n",
        "import os\n",
        "os.environ[\"JAVA_HOME\"] = \"/usr/lib/jvm/java-8-openjdk-amd64\"\n",
        "os.environ[\"SPARK_HOME\"] = \"/content/spark-2.4.6-bin-hadoop2.7\"\n",
        "\n",
        "# Start a SparkSession\n",
        "import findspark\n",
        "findspark.init()\n",
        "\n",
        "#from google.cloud import storage\n",
        "#!pip install gcsfs\n",
        "import pandas as pd"
      ],
      "execution_count": null,
      "outputs": []
    },
    {
      "cell_type": "code",
      "metadata": {
        "id": "p-jjMVRFSdkg",
        "colab_type": "code",
        "colab": {
          "base_uri": "https://localhost:8080/",
          "height": 204
        },
        "outputId": "84f0fd67-1e97-4039-94b1-393ee1e03757"
      },
      "source": [
        "!wget https://jdbc.postgresql.org/download/postgresql-42.2.9.jar"
      ],
      "execution_count": null,
      "outputs": [
        {
          "output_type": "stream",
          "text": [
            "--2020-07-26 19:44:59--  https://jdbc.postgresql.org/download/postgresql-42.2.9.jar\n",
            "Resolving jdbc.postgresql.org (jdbc.postgresql.org)... 72.32.157.228, 2001:4800:3e1:1::228\n",
            "Connecting to jdbc.postgresql.org (jdbc.postgresql.org)|72.32.157.228|:443... connected.\n",
            "HTTP request sent, awaiting response... 200 OK\n",
            "Length: 914037 (893K) [application/java-archive]\n",
            "Saving to: ‘postgresql-42.2.9.jar.1’\n",
            "\n",
            "postgresql-42.2.9.j 100%[===================>] 892.61K  4.54MB/s    in 0.2s    \n",
            "\n",
            "2020-07-26 19:44:59 (4.54 MB/s) - ‘postgresql-42.2.9.jar.1’ saved [914037/914037]\n",
            "\n"
          ],
          "name": "stdout"
        }
      ]
    },
    {
      "cell_type": "code",
      "metadata": {
        "id": "PgNHKnrJSfy8",
        "colab_type": "code",
        "colab": {}
      },
      "source": [
        "from pyspark.sql import SparkSession\n",
        "spark = SparkSession.builder.appName(\"CloudETL\").config(\"spark.driver.extraClassPath\",\"/content/postgresql-42.2.9.jar\").getOrCreate()"
      ],
      "execution_count": null,
      "outputs": []
    },
    {
      "cell_type": "code",
      "metadata": {
        "id": "XiH75Lv2Sjej",
        "colab_type": "code",
        "colab": {
          "base_uri": "https://localhost:8080/",
          "height": 479
        },
        "outputId": "1908d0f5-735d-4a5f-ae71-34f92222d3eb"
      },
      "source": [
        "# Read in data from GCS Buckets\n",
        "from pyspark import SparkFiles\n",
        "url =\"https://storage.googleapis.com/team5k/sample_data/fl2.csv\"\n",
        "spark.sparkContext.addFile(url)\n",
        "df = spark.read.csv(SparkFiles.get(\"fl2.csv\"), header=True, inferSchema=True)\n",
        "\n",
        "# Show DataFrame\n",
        "df.show()"
      ],
      "execution_count": null,
      "outputs": [
        {
          "output_type": "stream",
          "text": [
            "+------+---------+---------+------+---------------+-----------+--------------+---------+----------+------------+---------------+-----+-----+--------------------+----------+--------------+---------------+--------+-------+--------+-------+---------+-------------------+\n",
            "|    id|   cmt_id|amndt_ind|rpt_tp|transaction_pgi|  image_num|transaction_tp|entity_tp| last_name|  first_name|           city|state|  zip|            employer|occupation|transaction_dt|transaction_amt|other_id|tran_id|file_num|memo_cd|memo_text|             sub id|\n",
            "+------+---------+---------+------+---------------+-----------+--------------+---------+----------+------------+---------------+-----+-----+--------------------+----------+--------------+---------------+--------+-------+--------+-------+---------+-------------------+\n",
            "|513914|c00008201|        n|    my|           null|99034714312|            15|     null|montgomery|    robert e|  daytona beach|   fl|32127|                null|      null|     6/18/1999|            300|    null|   null|    null|   null|     null|3061920110007110000|\n",
            "|513915|c00310490|        n|    my|           null|99020070026|            15|     null|      egan|      john m|     clearwater|   fl|33767|               antec|      null|     3/20/1999|           1000|    null|   null|    null|   null|     null|3061920110007060000|\n",
            "|513916|c00310490|        n|    my|           null|99020070026|            15|     null|      egan|      john m|     clearwater|   fl|33767|               antec|      null|     3/20/1999|           1000|    null|   null|    null|   null|     null|3061920110007060000|\n",
            "|513917|c00310490|        n|    my|           null|99020070055|            15|     null|   mishkin|     david g|    miami beach|   fl|33140|  northwest airlines|      null|     3/29/1999|            500|    null|   null|    null|   null|     null|3061920110007090000|\n",
            "|513918|c00310490|        n|    my|           null|99020070005|            15|     null|    arison|       micky|    bal harbour|   fl|33154|carnival corporation|      null|     6/22/1999|           1000|    null|   null|    null|   null|     null|3061920110007090000|\n",
            "|513919|c00310490|        n|    my|           null|99020070063|            15|     null|  peterson|       dan a|    winter park|   fl|32790|    dap & associates|      null|     3/20/1999|           1000|    null|   null|    null|   null|     null|3061920110007110000|\n",
            "|513920|c00310490|        n|    my|           null|99020070063|            15|     null|  peterson|       dan a|    winter park|   fl|32790|    dap & associates|      null|     3/20/1999|           1000|    null|   null|    null|   null|     null|3061920110007110000|\n",
            "|513921|c00310490|        n|    my|           null|99020070079|            15|     null|    torres|     osvaldo|        hialeah|   fl|33010|           telemundo|      null|     6/30/1999|           1000|    null|   null|    null|   null|     null|3061920110007120000|\n",
            "|513922|c00261388|        n|    my|           null|99034714165|            15|     null|     davis|      alan t|        orlando|   fl|32803|           millenium|      null|      5/4/1999|            250|    null|   null|    null|   null|     null|3061920110007010000|\n",
            "|513923|c00287953|        n|    my|           null|99020080812|            15|     null|    schaus|    nicholas|     vero beach|   fl|32963|             retired|      null|     6/28/1999|            500|    null|   null|    null|   null|     null|3061920110007140000|\n",
            "|513924|c00281840|        n|    my|           null|99034704140|            15|     null|    gahhos|    nicholas|         venice|   fl|34285|              doctor|      null|     2/16/1999|            250|    null|   null|    null|   null|     null|3061920110007120000|\n",
            "|513925|c00349241|        a|    ye|           null|20035043006|            15|     null|   simmons|      daniel|     palm coast|   fl|32137|             retired|      null|    12/10/1999|            200|    null|   null|    null|   null|     null|3061920110006610000|\n",
            "|513926|c00331397|        a|    ye|           null|20035202203|            15|     null|     wells|  marion mrs|fort lauderdale|   fl|33301|           homemaker|      null|    12/21/1999|           1000|    null|   null|    null|   null|     null|3061920110006700000|\n",
            "|513927|c00007682|        a|    ye|           null|20035120233|            15|     null|   soriano|     amado c|        orlando|   fl|32828|             retired|      null|     10/8/1999|            400|    null|   null|    null|   null|     null|3061920110006560000|\n",
            "|513928|c00007682|        a|    ye|           null|20035120233|            15|     null|   soriano|     amado c|        orlando|   fl|32828|             retired|      null|    10/25/1999|            250|    null|   null|    null|   null|     null|3061920110006560000|\n",
            "|513929|c00007682|        a|    ye|           null|20035120215|            15|     null|     gould|       taffy|   coral gables|   fl|33133|housing engineers...|      null|      8/2/1999|            250|    null|   null|    null|   null|     null|3061920110006560000|\n",
            "|513930|c00007682|        a|    ye|           null|20035120202|            15|     null| carrizosa|  alberto mr|          miami|   fl|33165|   new world network|      null|      7/1/1999|           1000|    null|   null|    null|   null|     null|3061920110006590000|\n",
            "|513931|c00007682|        a|    ye|           null|20035120203|            15|     null|     cerna|      juan f|   key biscayne|   fl|33149|   yeserra guadalupe|      null|    11/18/1999|           1000|    null|   null|    null|   null|     null|3061920110006590000|\n",
            "|513932|c00007682|        a|    ye|           null|20035120198|            15|     null|      ames|herbert m mr|     palm beach|   fl|33480|             retired|      null|    10/19/1999|            250|    null|   null|    null|   null|     null|3061920110006590000|\n",
            "|513933|c00007682|        a|    ye|           null|20035120198|            15|     null|      ames|herbert m mr|     palm beach|   fl|33480|             retired|      null|    12/28/1999|            500|    null|   null|    null|   null|     null|3061920110006590000|\n",
            "+------+---------+---------+------+---------------+-----------+--------------+---------+----------+------------+---------------+-----+-----+--------------------+----------+--------------+---------------+--------+-------+--------+-------+---------+-------------------+\n",
            "only showing top 20 rows\n",
            "\n"
          ],
          "name": "stdout"
        }
      ]
    },
    {
      "cell_type": "code",
      "metadata": {
        "id": "C4pFa8syF7aH",
        "colab_type": "code",
        "colab": {
          "base_uri": "https://localhost:8080/",
          "height": 442
        },
        "outputId": "cd762de6-0cd2-4bfc-f2e2-b2681a524356"
      },
      "source": [
        "#Check Shema\n",
        "df.printSchema()"
      ],
      "execution_count": null,
      "outputs": [
        {
          "output_type": "stream",
          "text": [
            "root\n",
            " |-- id: integer (nullable = true)\n",
            " |-- cmt_id: string (nullable = true)\n",
            " |-- amndt_ind: string (nullable = true)\n",
            " |-- rpt_tp: string (nullable = true)\n",
            " |-- transaction_pgi: string (nullable = true)\n",
            " |-- image_num: long (nullable = true)\n",
            " |-- transaction_tp: integer (nullable = true)\n",
            " |-- entity_tp: string (nullable = true)\n",
            " |-- last_name: string (nullable = true)\n",
            " |-- first_name: string (nullable = true)\n",
            " |-- city: string (nullable = true)\n",
            " |-- state: string (nullable = true)\n",
            " |-- zip: integer (nullable = true)\n",
            " |-- employer: string (nullable = true)\n",
            " |-- occupation: string (nullable = true)\n",
            " |-- transaction_dt: string (nullable = true)\n",
            " |-- transaction_amt: integer (nullable = true)\n",
            " |-- other_id: string (nullable = true)\n",
            " |-- tran_id: string (nullable = true)\n",
            " |-- file_num: string (nullable = true)\n",
            " |-- memo_cd: string (nullable = true)\n",
            " |-- memo_text: string (nullable = true)\n",
            " |-- sub id: long (nullable = true)\n",
            "\n"
          ],
          "name": "stdout"
        }
      ]
    },
    {
      "cell_type": "code",
      "metadata": {
        "id": "YXjEk0H0Sxqy",
        "colab_type": "code",
        "colab": {}
      },
      "source": [
        "# Configure settings for RDS\n",
        "mode = \"append\"\n",
        "jdbc_url=\"jdbc:postgresql://34.67.52.115/team5k\"\n",
        "config = {\"user\":\"postgres\", \n",
        "          \"password\": \"team5kteam5k\", \n",
        "          \"driver\":\"org.postgresql.Driver\"}"
      ],
      "execution_count": null,
      "outputs": []
    },
    {
      "cell_type": "code",
      "metadata": {
        "id": "jtgj_s52S4SN",
        "colab_type": "code",
        "colab": {}
      },
      "source": [
        "# Write DataFrame to RDS\n",
        "df.write.jdbc(url=jdbc_url, table=\"fec_donor_fl\", mode=mode, properties=config)"
      ],
      "execution_count": null,
      "outputs": []
    },
    {
      "cell_type": "code",
      "metadata": {
        "id": "sVsVL0pLI5by",
        "colab_type": "code",
        "colab": {
          "base_uri": "https://localhost:8080/",
          "height": 479
        },
        "outputId": "7dd2cdf0-4fec-4774-f9e2-9fa49b8f77c4"
      },
      "source": [
        "# Read in data from GCS Buckets\n",
        "from pyspark import SparkFiles\n",
        "url =\"https://storage.googleapis.com/team5k/sample_data/pa.csv\"\n",
        "spark.sparkContext.addFile(url)\n",
        "df = spark.read.csv(SparkFiles.get(\"pa.csv\"), header=True, inferSchema=True)\n",
        "\n",
        "# Show DataFrame\n",
        "df.show()"
      ],
      "execution_count": null,
      "outputs": [
        {
          "output_type": "stream",
          "text": [
            "+------+---------+---------+------+---------------+-----------+--------------+---------+-----------+------------+------------+-----+-----+--------------------+----------+--------------+---------------+--------+-------+--------+-------+---------+-------------------+\n",
            "|    id|   cmt_id|amndt_ind|rpt_tp|transaction_pgi|  image_num|transaction_tp|entity_tp|  last_name|  first_name|        city|state|  zip|            employer|occupation|transaction_dt|transaction_amt|other_id|tran_id|file_num|memo_cd|memo_text|             sub id|\n",
            "+------+---------+---------+------+---------------+-----------+--------------+---------+-----------+------------+------------+-----+-----+--------------------+----------+--------------+---------------+--------+-------+--------+-------+---------+-------------------+\n",
            "|373985|c00310490|        n|    my|           null|99020070026|            15|     null|    edwards|  edwin l sr|  pittsburgh|   pa|15239|glencairn broadca...|      null|     6/22/1999|           1000|    null|   null|    null|   null|     null|3061920110007060000|\n",
            "|373986|c00310490|        n|    my|           null|99020070048|            15|     null|    lenfest|   h f gerry|        oaks|   pa|19456|       lenfest group|      null|     6/16/1999|           1000|    null|   null|    null|   null|     null|3061920110007090000|\n",
            "|373987|c00310490|        n|    my|           null|99020070026|            15|     null|    edwards|  edwin l sr|  pittsburgh|   pa|15239|glencairn broadca...|      null|     6/22/1999|           1000|    null|   null|    null|   null|     null|3061920110007110000|\n",
            "|373988|c00310490|        n|    my|           null|99020070013|            15|     null|   brubaker|     peter p|        york|   pa|17403|   susquehanna cable|      null|     6/16/1999|           1000|    null|   null|    null|   null|     null|3061920110007100000|\n",
            "|373989|c00310490|        n|    my|           null|99020070061|            15|     null|       page|raymond s jr|    gladwyne|   pa|19035|             retired|      null|      5/4/1999|            500|    null|   null|    null|   null|     null|3061920110007110000|\n",
            "|373990|c00310490|        n|    my|           null|99020070067|            15|     null|      rigas|        john| coudersport|   pa|16915|adelphia communic...|      null|     6/16/1999|           1000|    null|   null|    null|   null|     null|3061920110007110000|\n",
            "|373991|c00310490|        n|    my|           null|99020070067|            15|     null|      rigas|   michael j| coudersport|   pa|16915|adelphia communic...|      null|     6/16/1999|           1000|    null|   null|    null|   null|     null|3061920110007110000|\n",
            "|373992|c00310490|        n|    my|           null|99020070072|            15|     null|silverstein|    martin j|philadelphia|   pa|19102|            attorney|      null|      3/6/1999|            300|    null|   null|    null|   null|     null|3061920110007120000|\n",
            "|373993|c00287953|        n|    my|           null|99020080811|            15|     null|silverstein|      martin|philadelphia|   pa|19102|                null|      null|     5/29/1999|            500|    null|   null|    null|   null|     null|3061920110007140000|\n",
            "|373994|c00281840|        n|    my|           null|99034704133|            15|     null| blakenship|   george dr| hummelstown|   pa|17036|              doctor|      null|      6/2/1999|            250|    null|   null|    null|   null|     null|3061920110007110000|\n",
            "|373995|c00281840|        n|    my|           null|99034704149|            15|     null|      leoni|      joseph|  wyomissing|   pa|19610|              doctor|      null|     4/26/1999|            250|    null|   null|    null|   null|     null|3061920110007120000|\n",
            "|373996|c00284174|        a|    ye|           null|20035180783|            15|     null|   reschini|         r j|     indiana|   pa|15701|  reschini insurance|      null|     12/5/1999|           1000|    null|   null|    null|   null|     null|3061920110006730000|\n",
            "|373997|c00284174|        a|    ye|           null|20035180786|            15|     null|   reschini|       robin|     indiana|   pa|15701|  reschini insurance|      null|     12/5/1999|           1000|    null|   null|    null|   null|     null|3061920110006730000|\n",
            "|373998|c00284174|        a|    ye|           null|20035180787|            15|     null|   calandra|       frank|  pittsburgh|   pa|15238|management consul...|      null|    11/26/1999|            500|    null|   null|    null|   null|     null|3061920110006730000|\n",
            "|373999|c00284174|        a|    ye|           null|20035180790|            15|     null|  mccracken|      ronald|   charleroi|   pa|45022|merit contracting...|      null|    11/26/1999|           1000|    null|   null|    null|   null|     null|3061920110006760000|\n",
            "|374000|c00305342|        n|    ye|           null|20035140714|            15|     null|    johnson|  eldridge r|   bryn mawr|   pa|19010|            investor|      null|     9/30/1999|            250|    null|   null|    null|   null|     null|3061920110006920000|\n",
            "|374001|c00305342|        n|    ye|           null|20035140718|            15|     null|  stoltzfus|       myron|      denver|   pa|17517|                null|      null|    10/25/1999|            250|    null|   null|    null|   null|     null|3061920110006920000|\n",
            "|374002|c00305342|        n|    ye|           null|20035140710|            15|     null|     atkins|        jean|  pittsburgh|   pa|15216|atkins engineerin...|      null|     9/20/1999|            250|    null|   null|    null|   null|     null|3061920110006920000|\n",
            "|374003|c00305342|        n|    ye|           null|20035140710|            15|     null|    frances|l chew trust| springfield|   pa|19064|                null|      null|     9/20/1999|           1000|    null|   null|    null|   null|     null|3061920110006920000|\n",
            "|374004|c00305342|        n|    ye|           null|20035140708|            15|     null|      lewis|     edgar s|   sewickley|   pa|15143|             retired|      null|     9/17/1999|            200|    null|   null|    null|   null|     null|3061920110006920000|\n",
            "+------+---------+---------+------+---------------+-----------+--------------+---------+-----------+------------+------------+-----+-----+--------------------+----------+--------------+---------------+--------+-------+--------+-------+---------+-------------------+\n",
            "only showing top 20 rows\n",
            "\n"
          ],
          "name": "stdout"
        }
      ]
    },
    {
      "cell_type": "code",
      "metadata": {
        "id": "Y7dXcrQMI9gN",
        "colab_type": "code",
        "colab": {}
      },
      "source": [
        "# Write DataFrame to RDS\n",
        "df.write.jdbc(url=jdbc_url, table=\"fec_donor_pa\", mode=mode, properties=config)"
      ],
      "execution_count": null,
      "outputs": []
    },
    {
      "cell_type": "code",
      "metadata": {
        "id": "a5UVw9e1JO3D",
        "colab_type": "code",
        "colab": {
          "base_uri": "https://localhost:8080/",
          "height": 479
        },
        "outputId": "b2e33413-95d9-42ac-e4e1-49485f484c2a"
      },
      "source": [
        "# Read in data from GCS Buckets\n",
        "from pyspark import SparkFiles\n",
        "url =\"https://storage.googleapis.com/team5k/sample_data/mi.csv\"\n",
        "spark.sparkContext.addFile(url)\n",
        "df = spark.read.csv(SparkFiles.get(\"mi.csv\"), header=True, inferSchema=True)\n",
        "\n",
        "# Show DataFrame\n",
        "df.show()"
      ],
      "execution_count": null,
      "outputs": [
        {
          "output_type": "stream",
          "text": [
            "+------+---------+---------+------+---------------+-----------+--------------+---------+---------+---------------+----------------+-----+-----+--------------------+----------+--------------+---------------+---------+-------+--------+-------+---------+-------------------+\n",
            "|    id|   cmt_id|amndt_ind|rpt_tp|transaction_pgi|  image_num|transaction_tp|entity_tp|last_name|     first_name|            city|state|  zip|            employer|occupation|transaction_dt|transaction_amt| other_id|tran_id|file_num|memo_cd|memo_text|             sub id|\n",
            "+------+---------+---------+------+---------------+-----------+--------------+---------+---------+---------------+----------------+-----+-----+--------------------+----------+--------------+---------------+---------+-------+--------+-------+---------+-------------------+\n",
            "|240285|c00008201|        n|    my|           null|99034714307|            15|     null| armstead|         almz a| west bloomfield|   mi|48324|           physician|      null|     5/26/1999|           1000|     null|   null|    null|   null|     null|3061920110007090000|\n",
            "|240286|c00008201|        n|    my|           null|99034714307|            15|     null|   barden|          don h|         detroit|   mi|48243|barden companies inc|      null|     5/26/1999|           1000|     null|   null|    null|   null|     null|3061920110007090000|\n",
            "|240287|c00008201|        n|    my|           null|99034714307|            15|     null|   barden|          don h|         detroit|   mi|48243|barden companies inc|      null|     5/26/1999|           1000|     null|   null|    null|   null|     null|3061920110007090000|\n",
            "|240288|c00008201|        n|    my|           null|99034714311|            15|     null| marshall|          bella|         detroit|   mi|48243|waycor developmen...|      null|     5/26/1999|           1000|     null|   null|    null|   null|     null|3061920110007110000|\n",
            "|240289|c00008201|        n|    my|           null|99034714310|            15|     null|hollowell|       melvin j|         detroit|   mi|48203|         butzel long|      null|     5/14/1999|            250|     null|   null|    null|   null|     null|3061920110007120000|\n",
            "|240290|c00008201|        n|    my|           null|99034714311|            15|     null| marshall|          bella|         detroit|   mi|48243|waycor developmen...|      null|     5/26/1999|           1000|     null|   null|    null|   null|     null|3061920110007110000|\n",
            "|240291|c00008201|        n|    my|           null|99034714309|            15|     null|  follmer|         gordon|            troy|   mi|48084|follmer rudzewicz...|      null|     5/14/1999|           1000|     null|   null|    null|   null|     null|3061920110007120000|\n",
            "|240292|c00008201|        n|    my|           null|99034714313|            15|     null|   wilson|     ralph c jr|   grosse pointe|   mi|48236|       buffalo bills|      null|     6/18/1999|           1000|     null|   null|    null|   null|     null|3061920110007120000|\n",
            "|240293|c00008201|        n|    my|           null|99034714313|            15|     null|   wilson|     ralph c jr|   grosse pointe|   mi|48236|       buffalo bills|      null|     6/18/1999|           1000|     null|   null|    null|   null|     null|3061920110007120000|\n",
            "|240294|c00310490|        n|    my|           null|99020070027|            15|     null|    essad|        karen j|    orchard lake|   mi|48324|           homemaker|      null|     6/30/1999|           1000|     null|   null|    null|   null|     null|3061920110007060000|\n",
            "|240295|c00310490|        n|    my|           null|99020070029|            15|     null|  fiedler|      charles a|bloomfield hills|   mi|48304|        chestershire|      null|     6/30/1999|           1000|     null|   null|    null|   null|     null|3061920110007060000|\n",
            "|240296|c00310490|        n|    my|           null|99020070029|            15|     null|  fiedler|      charles a|bloomfield hills|   mi|48304|        chestershire|      null|     6/30/1999|           1000|     null|   null|    null|   null|     null|3061920110007060000|\n",
            "|240297|c00310490|        n|    my|           null|99020070048|            15|     null|      law|       robert c|       ann arbor|   mi|48104|sills law essad f...|      null|     6/28/1999|           1000|     null|   null|    null|   null|     null|3061920110007090000|\n",
            "|240298|c00310490|        n|    my|           null|99020070049|            15|     null|    levin|        richard|        franklin|   mi|48025|      demathia group|      null|     6/25/1999|           1000|     null|   null|    null|   null|     null|3061920110007090000|\n",
            "|240299|c00310490|        n|    my|           null|99020070022|            15|     null|       de|mattia robert a|        plymouth|   mi|48170|      demattia group|      null|     6/28/1999|           1000|     null|   null|    null|   null|     null|3061920110007100000|\n",
            "|240300|c00310490|        n|    my|           null|99020070022|            15|     null|       de|mattia robert a|        plymouth|   mi|48170|      demattia group|      null|     6/28/1999|           1000|     null|   null|    null|   null|     null|3061920110007100000|\n",
            "|240301|c00287953|        n|    my|           null|99020080810|            15|     null|     levy|          julie|bloomfield hills|   mi|48304|           homemaker|      null|     5/29/1999|           1000|     null|   null|    null|   null|     null|3061920110007140000|\n",
            "|240302|c00281840|        n|    my|           null|99034704134|            15|     null| bruening|          fritz|     grand blanc|   mi|48439|              doctor|      null|      3/5/1999|           1000|     null|   null|    null|   null|     null|3061920110007110000|\n",
            "|240303|c00281840|        n|    my|           null|99034704150|            15|     null|    louis|           dean|       ann arbor|   mi|48105|university of mic...|      null|     2/22/1999|            300|     null|   null|    null|   null|     null|3061920110007120000|\n",
            "|240304|c00336610|        n|    q1|           null|99990062047|           15c|     null|   hickey|     thomas mr.|        plymouth|   mi|48170|           mediquest|      null|     5/21/1999|           8900|h8mi13151|   null|    null|   null|     null|3061920110006990000|\n",
            "+------+---------+---------+------+---------------+-----------+--------------+---------+---------+---------------+----------------+-----+-----+--------------------+----------+--------------+---------------+---------+-------+--------+-------+---------+-------------------+\n",
            "only showing top 20 rows\n",
            "\n"
          ],
          "name": "stdout"
        }
      ]
    },
    {
      "cell_type": "code",
      "metadata": {
        "id": "HT4eYJRiJVAi",
        "colab_type": "code",
        "colab": {}
      },
      "source": [
        "# Write DataFrame to RDS\n",
        "df.write.jdbc(url=jdbc_url, table=\"fec_donor_mi\", mode=mode, properties=config)"
      ],
      "execution_count": null,
      "outputs": []
    },
    {
      "cell_type": "code",
      "metadata": {
        "id": "OEoEAB4_JgsW",
        "colab_type": "code",
        "colab": {
          "base_uri": "https://localhost:8080/",
          "height": 479
        },
        "outputId": "295716d3-b725-49fa-fdcc-5b7f9f560b8b"
      },
      "source": [
        "# Read in data from GCS Buckets\n",
        "from pyspark import SparkFiles\n",
        "url =\"https://storage.googleapis.com/team5k/sample_data/nc.csv\"\n",
        "spark.sparkContext.addFile(url)\n",
        "df = spark.read.csv(SparkFiles.get(\"nc.csv\"), header=True, inferSchema=True)\n",
        "\n",
        "# Show DataFrame\n",
        "df.show()"
      ],
      "execution_count": null,
      "outputs": [
        {
          "output_type": "stream",
          "text": [
            "+------+---------+---------+------+---------------+-----------+--------------+---------+-----------+-----------+-------------+-----+-----+--------------------+----------+--------------+---------------+--------+-------+--------+-------+---------+-------------------+\n",
            "|    id|   cmt_id|amndt_ind|rpt_tp|transaction_pgi|  image_num|transaction_tp|entity_tp|  last_name| first_name|         city|state|  zip|            employer|occupation|transaction_dt|transaction_amt|other_id|tran_id|file_num|memo_cd|memo_text|             sub id|\n",
            "+------+---------+---------+------+---------------+-----------+--------------+---------+-----------+-----------+-------------+-----+-----+--------------------+----------+--------------+---------------+--------+-------+--------+-------+---------+-------------------+\n",
            "|224813|c00256115|        n|    ye|           null|22990120716|            15|     null| watlington|margaret j.|winston-salem|   nc|27106|         n/a/retired|      null|     11/7/2001|            200|    null|   null|    null|   null|     null|3061920110008780000|\n",
            "|224814|c00256115|        n|    ye|           null|22990120717|            15|     null|       west|      carol|winston-salem|   nc|27103|employment servic...|      null|     11/7/2001|            200|    null|   null|    null|   null|     null|3061920110008780000|\n",
            "|224815|c00256115|        n|    ye|           null|22990120717|            15|     null|       west|      tommy|      raleigh|   nc|27609|west brothers/tru...|      null|    12/13/2001|            250|    null|   null|    null|   null|     null|3061920110008780000|\n",
            "|224816|c00256115|        n|    ye|           null|22990120717|            15|     null|       west|      tommy|      raleigh|   nc|27609|west brothers/tru...|      null|    12/13/2001|            750|    null|   null|    null|   null|     null|3061920110008780000|\n",
            "|224817|c00256115|        n|    ye|           null|22990120718|            15|     null| whitehurst|       bill|winston-salem|   nc|27102|womble carlyle sa...|      null|    11/21/2001|            250|    null|   null|    null|   null|     null|3061920110008780000|\n",
            "|224818|c00256115|        n|    ye|           null|22990120718|            15|     null|   williams|    allison|winston-salem|   nc|27104|       n/a/housewife|      null|    10/25/2001|            200|    null|   null|    null|   null|     null|3061920110008780000|\n",
            "|224819|c00256115|        n|    ye|           null|22990120719|            15|     null|     wilson|      patty|winston salem|   nc|27104|                null|      null|     11/7/2001|            200|    null|   null|    null|   null|     null|3061920110008780000|\n",
            "|224820|c00256115|        n|    ye|           null|22990120719|            15|     null|      woltz|      h. o.|   mount airy|   nc|27030|   insteel/president|      null|     8/14/2001|           1000|    null|   null|    null|   null|     null|3061920110008780000|\n",
            "|224821|c00256115|        n|    ye|           null|22990120720|            15|     null|     womble|     calder|winston salem|   nc|27106|womble carlyle sa...|      null|    11/21/2001|            300|    null|   null|    null|   null|     null|3061920110008780000|\n",
            "|224822|c00256115|        n|    ye|           null|22990120720|            15|     null|       wood|    lu anne|winston-salem|   nc|27104|administrator/for...|      null|     11/2/2001|            200|    null|   null|    null|   null|     null|3061920110008780000|\n",
            "|224823|c00256115|        n|    ye|           null|22990120720|            15|     null|      yates|        jim|winston-salem|   nc|27104|        self/realtor|      null|     11/7/2001|            200|    null|   null|    null|   null|     null|3061920110008780000|\n",
            "|224824|c00256115|        n|    ye|           null|22990120659|            15|     null|    brodkin|    richard|winston salem|   nc|27104|piedmont hematolo...|      null|     8/30/2001|            500|    null|   null|    null|   null|     null|3061920110008790000|\n",
            "|224825|c00256115|        n|    ye|           null|22990120658|            15|     null|     breese|    carolyn|winston salem|   nc|27104|           housewife|      null|    10/24/2001|            200|    null|   null|    null|   null|     null|3061920110008790000|\n",
            "|224826|c00256115|        n|    ye|           null|22990120658|            15|     null|    brenner|        ann|winston-salem|   nc|27106|         retired/n/a|      null|    10/24/2001|            200|    null|   null|    null|   null|     null|3061920110008790000|\n",
            "|224827|c00256115|        n|    ye|           null|22990120659|            15|     null|    brenner|    frances|      advance|   nc|27006|       n/a/housewife|      null|    10/26/2001|            200|    null|   null|    null|   null|     null|3061920110008790000|\n",
            "|224828|c00256115|        n|    ye|           null|22990120659|            15|     null|      brown|      henri|winston-salem|   nc|27106|                null|      null|    10/31/2001|            200|    null|   null|    null|   null|     null|3061920110008790000|\n",
            "|224829|c00256115|        n|    ye|           null|22990120660|            15|     null|   broyhill|     louise|winston-salem|   nc|27104|       n/a/housewife|      null|    11/29/2001|            200|    null|   null|    null|   null|     null|3061920110008790000|\n",
            "|224830|c00256115|        n|    ye|           null|22990120660|            15|     null|   broyhill|    melanie|winston salem|   nc|27104|       n/a/housewife|      null|    10/24/2001|            200|    null|   null|    null|   null|     null|3061920110008790000|\n",
            "|224831|c00256115|        n|    ye|           null|22990120660|            15|     null|brunstetter|      peter|winston salem|   nc|27104|fosyth co. board ...|      null|     9/19/2001|            250|    null|   null|    null|   null|     null|3061920110008790000|\n",
            "|224832|c00256115|        n|    ye|           null|22990120661|            15|     null|brunstetter|      peter|winston salem|   nc|27104|fosyth co. board ...|      null|    11/26/2001|            750|    null|   null|    null|   null|     null|3061920110008790000|\n",
            "+------+---------+---------+------+---------------+-----------+--------------+---------+-----------+-----------+-------------+-----+-----+--------------------+----------+--------------+---------------+--------+-------+--------+-------+---------+-------------------+\n",
            "only showing top 20 rows\n",
            "\n"
          ],
          "name": "stdout"
        }
      ]
    },
    {
      "cell_type": "code",
      "metadata": {
        "id": "7mA8-331JlLu",
        "colab_type": "code",
        "colab": {}
      },
      "source": [
        "# Write DataFrame to RDS\n",
        "df.write.jdbc(url=jdbc_url, table=\"fec_donor_nc\", mode=mode, properties=config)"
      ],
      "execution_count": null,
      "outputs": []
    },
    {
      "cell_type": "code",
      "metadata": {
        "id": "sXWxQ4CWJoYe",
        "colab_type": "code",
        "colab": {
          "base_uri": "https://localhost:8080/",
          "height": 479
        },
        "outputId": "5a9001af-db8a-4879-dd64-ca98c8f5e1d2"
      },
      "source": [
        "# Read in data from GCS Buckets\n",
        "from pyspark import SparkFiles\n",
        "url =\"https://storage.googleapis.com/team5k/sample_data/wi.csv\"\n",
        "spark.sparkContext.addFile(url)\n",
        "df = spark.read.csv(SparkFiles.get(\"wi.csv\"), header=True, inferSchema=True)\n",
        "\n",
        "# Show DataFrame\n",
        "df.show()"
      ],
      "execution_count": null,
      "outputs": [
        {
          "output_type": "stream",
          "text": [
            "+------+---------+---------+------+---------------+-----------+--------------+---------+-----------+-----------------+-----------------+-----+---------+--------------------+--------------------+--------------+---------------+--------+----------------+--------+-------+---------+-------------------+\n",
            "|    id|   cmt_id|amndt_ind|rpt_tp|transaction_pgi|  image_num|transaction_tp|entity_tp|  last_name|       first_name|             city|state|      zip|            employer|          occupation|transaction_dt|transaction_amt|other_id|         tran_id|file_num|memo_cd|memo_text|             sub id|\n",
            "+------+---------+---------+------+---------------+-----------+--------------+---------+-----------+-----------------+-----------------+-----+---------+--------------------+--------------------+--------------+---------------+--------+----------------+--------+-------+---------+-------------------+\n",
            "|141632|c00207993|        a|    ye|              p|24020080804|            15|     null|  bechthold|           kurt d|      thiensville|   wi|    53092|                null|   payne & dolan inc|     10/9/2003|           1000|    null|            null|    null|   null|     null|1070820110006640000|\n",
            "|141633|c00384016|        a|   12s|           null|23991095185|            15|      ind|haselwander|            neil |       eau claire|   wi|    54703|       self employed|   builder/developer|     1/23/2003|            250|    null|     sa11a1.4763|   87163|   null|     null|4062020031032740000|\n",
            "|141634|c00367532|        a|    q1|           null|23991125922|           22y|      ind|      doyle|             ruth|          madison|   wi|    53705|                null|                null|     3/24/2003|           1000|    null|            d611|   87703|   null|     null|4062020031032760000|\n",
            "|141635|c00367532|        a|    q1|           null|23991125935|           22y|      ind|       paul|        judith a.|          madison|   wi|    53744|                null|                null|     3/24/2003|           1000|    null|            d621|   87703|   null|     null|4062020031032760000|\n",
            "|141636|c00367532|        a|    q1|           null|23991125935|           22y|      ind|       paul|      terrance d.|          madison|   wi|    53744|                null|                null|     3/24/2003|           1000|    null|            d622|   87703|   null|     null|4062020031032760000|\n",
            "|141637|c00367532|        a|    q1|           null|23991125946|           22y|      ind|      walsh|   david g.  esq.|          madison|   wi|    53703|                null|                null|     3/25/2003|           1000|    null|            d574|   87703|   null|     null|4062020031032760000|\n",
            "|141638|c00367532|        a|    q1|           null|23991125950|           22y|      ind|      abele|            chris|        milwaukee|   wi|532023049|                null|                null|     3/24/2003|           1000|    null|            d556|   87703|   null|     null|4062020031032760000|\n",
            "|141639|c00384008|        n|    q2|           null|23991365360|            15|      ind|        dye|            steve|       fall creek|   wi|    54742|             senasys|               owner|     4/15/2003|            500|    null| 0416200345c1439|   89990|   null|     null|4071720031033400000|\n",
            "|141640|c00384008|        n|    q2|           null|23991365371|            15|      ind|      weiss|          richard|        milwaukee|   wi|    53201|strong capital ma...|   portfolio manager|     4/18/2003|            500|    null|  042220035c1803|   89990|   null|     null|4071720031033400000|\n",
            "|141641|c00208207|        n|    q3|           null|23992066738|            15|      ind|      gault|      debora mary|        waterford|   wi|    53185|american medical ...|vp federal reimbu...|     7/29/2003|            250|    null|0905200322c24767|   97464|   null|     null|4101720031035690000|\n",
            "|141642|c00270140|        a|    q2|           null|23991964032|            15|      ind|  oldenburg|         wayne c.|         glendale|   wi|532094433|      lakeshore inc.|                 ceo|     4/29/2003|           1000|    null|           c7136|   95701|   null|     null|4100220031035440000|\n",
            "|141643|c00270140|        a|    q2|           null|23991964035|            15|      ind|      singh|        francoise|          niagara|   wi|    54151|pain diagnostic &...|    anesthesiologist|     5/14/2003|           2000|    null|           c7234|   95701|   null|     null|4100220031035440000|\n",
            "|141644|c00270140|        a|    q2|           null|23991964035|            15|      ind|      singh|            vijay|          niagara|   wi|    54151|    anesthesiologist|pain diagnostic &...|     5/14/2003|           2000|    null|           c7232|   95701|   null|     null|4100220031035440000|\n",
            "|141645|c00270140|        a|    q2|           null|23991964036|            15|      ind|      singh|            vijay|          niagara|   wi|    54151|    anesthesiologist|pain diagnostic &...|     5/14/2003|           2000|    null|           c7233|   95701|   null|     null|4100220031035440000|\n",
            "|141646|c00265389|        a|    q1|              p|23020190535|            15|     null|       roth|for congress toby|         appleton|   wi|    54913|                null|                null|     3/31/2003|            250|    null|            null|    null|   null|     null|1070820110006620000|\n",
            "|141647|c00265389|        a|    q1|              p|23020190535|            15|     null|       roth|for congress toby|         appleton|   wi|    54913|                null|                null|     3/31/2003|            250|    null|            null|    null|   null|     null|1070820110006610000|\n",
            "|141648|c00081356|        n|    q3|           null|23992025148|            15|      org|        mr.|     george lewis|black river falls|   wi|    54615|     ho-chunk nation|    tribal president|     9/10/2003|           1000|    null|           c2361|   96883|   null|     null|4101420031035560000|\n",
            "|141649|c00265157|        a|    q2|           null|23991812451|            15|      ind|      vesta|         richard |        green bay|   wi|    54313|       self-employed|owner/meat processor|     4/28/2003|            500|    null|     sa11a1.7243|   94429|   null|     null|4091720031035170000|\n",
            "|141650|c00350785|        a|    q2|           null|23991368022|            15|      ind|     french|            diane|          fontana|   wi|    53125|                self|   interior designer|     6/23/2003|            250|    null| 0707200338c9352|   90037|   null|     null|4071520031033280000|\n",
            "|141651|c00350785|        a|    q2|           null|23991368042|            15|      ind|  kissinger|             john|        milwaukee|   wi|    53213|graef anhalt &sch...|      vice president|      6/4/2003|            500|    null| 0604200328c9273|   90037|   null|     null|4071520031033280000|\n",
            "+------+---------+---------+------+---------------+-----------+--------------+---------+-----------+-----------------+-----------------+-----+---------+--------------------+--------------------+--------------+---------------+--------+----------------+--------+-------+---------+-------------------+\n",
            "only showing top 20 rows\n",
            "\n"
          ],
          "name": "stdout"
        }
      ]
    },
    {
      "cell_type": "code",
      "metadata": {
        "id": "BFi36R4iJs3v",
        "colab_type": "code",
        "colab": {}
      },
      "source": [
        "# Write DataFrame to RDS\n",
        "df.write.jdbc(url=jdbc_url, table=\"fec_donor_wi\", mode=mode, properties=config)"
      ],
      "execution_count": null,
      "outputs": []
    },
    {
      "cell_type": "code",
      "metadata": {
        "id": "ZqC4scKPJwRg",
        "colab_type": "code",
        "colab": {
          "base_uri": "https://localhost:8080/",
          "height": 479
        },
        "outputId": "def601a5-3ef8-4779-8e05-2ed73d66e976"
      },
      "source": [
        "# Read in data from GCS Buckets\n",
        "from pyspark import SparkFiles\n",
        "url =\"https://storage.googleapis.com/team5k/sample_data/az.csv\"\n",
        "spark.sparkContext.addFile(url)\n",
        "df = spark.read.csv(SparkFiles.get(\"az.csv\"), header=True, inferSchema=True)\n",
        "\n",
        "# Show DataFrame\n",
        "df.show()"
      ],
      "execution_count": null,
      "outputs": [
        {
          "output_type": "stream",
          "text": [
            "+------+---------+---------+------+---------------+-----------+--------------+---------+----------+----------+---------------+-----+-----+--------------------+----------+--------------+---------------+--------+-------+--------+-------+---------+-------------------+\n",
            "|    id|   cmt_id|amndt_ind|rpt_tp|transaction_pgi|  image_num|transaction_tp|entity_tp| last_name|first_name|           city|state|  zip|            employer|occupation|transaction_dt|transaction_amt|other_id|tran_id|file_num|memo_cd|memo_text|             sub id|\n",
            "+------+---------+---------+------+---------------+-----------+--------------+---------+----------+----------+---------------+-----+-----+--------------------+----------+--------------+---------------+--------+-------+--------+-------+---------+-------------------+\n",
            "|141712|c00310490|        n|    my|           null|99020070054|            15|     null|     might|  thomas o|        phoenix|   az|85016|            cableone|      null|     6/16/1999|           1000|    null|   null|    null|   null|     null|3061920110007090000|\n",
            "|141713|c00342436|        n|    my|           null|99020081109|            15|     null|   roberts|     susan|        phoenix|   az|85014|                null|      null|     3/10/1999|           1000|    null|   null|    null|   null|     null|3061920110007110000|\n",
            "|141714|c00287953|        n|    my|           null|99020080810|            15|     null|     baker|     barry|         tucson|   az|85716|     sss corporation|      null|     5/29/1999|           1000|    null|   null|    null|   null|     null|3061920110007140000|\n",
            "|141715|c00287953|        n|    my|           null|99020080810|            15|     null|     baker|     alice|         tucson|   az|85716|arizona mail orde...|      null|     5/29/1999|           1000|    null|   null|    null|   null|     null|3061920110007140000|\n",
            "|141716|c00287953|        n|    my|           null|99020080810|            15|     null|     baker|      paul|         tucson|   az|85716|arizona mail orde...|      null|     5/29/1999|           1000|    null|   null|    null|   null|     null|3061920110007140000|\n",
            "|141717|c00287953|        n|    my|           null|99020080810|            15|     null|   diamond|    donald|         tucson|   az|85717|      drd associates|      null|     5/29/1999|           1000|    null|   null|    null|   null|     null|3061920110007140000|\n",
            "|141718|c00287953|        n|    my|           null|99020080811|            15|     null|     meyer|   deborah|         tucson|   az|85750|                null|      null|     5/29/1999|           1000|    null|   null|    null|   null|     null|3061920110007140000|\n",
            "|141719|c00287953|        n|    my|           null|99020080811|            15|     null|     meyer|   matthew|         tucson|   az|85750|                null|      null|     5/29/1999|           1000|    null|   null|    null|   null|     null|3061920110007140000|\n",
            "|141720|c00287953|        n|    my|           null|99020080811|            15|     null|   schupak| eugene dr|     scottsdale|   az|85255|                null|      null|     5/29/1999|           1000|    null|   null|    null|   null|     null|3061920110007140000|\n",
            "|141721|c00287953|        n|    my|           null|99020080811|            15|     null|     baker|     alice|         tucson|   az|85716|arizona mail orde...|      null|      6/4/1999|           1000|    null|   null|    null|   null|     null|3061920110007140000|\n",
            "|141722|c00287953|        n|    my|           null|99020080812|            15|     null|     baker|     barry|         tucson|   az|85716|     sss corporation|      null|      6/4/1999|           1000|    null|   null|    null|   null|     null|3061920110007140000|\n",
            "|141723|c00287953|        n|    my|           null|99020080812|            15|     null|     baker|      paul|         tucson|   az|85716|arizona mail orde...|      null|      6/4/1999|           1000|    null|   null|    null|   null|     null|3061920110007140000|\n",
            "|141724|c00287953|        n|    my|           null|99020080806|            15|     null|   knadler|     spike|        phoenix|   az|85017|        asd wardrobe|      null|      4/5/1999|            500|    null|   null|    null|   null|     null|3061920110007130000|\n",
            "|141725|c00280453|        n|    my|           null|99034734898|            15|     null|   dolinar|richard md|        phoenix|   az|85022|arizona endocrino...|      null|     4/29/1999|            250|    null|   null|    null|   null|     null|3061920110006790000|\n",
            "|141726|c00280453|        n|    my|           null|99034734898|            15|     null|applewhite| sam p iii|     scottsdale|   az|85253|ryley carlock & a...|      null|     5/11/1999|            200|    null|   null|    null|   null|     null|3061920110006790000|\n",
            "|141727|c00280453|        n|    my|           null|99034734898|            15|     null|     baker|    paul l|         tucson|   az|85716|the enterprise group|      null|     4/16/1999|           1000|    null|   null|    null|   null|     null|3061920110006790000|\n",
            "|141728|c00280453|        n|    my|           null|99034734898|            15|     null|  bertrand|  robert w|paradise valley|   az|85253|concord servicing...|      null|     3/12/1999|            250|    null|   null|    null|   null|     null|3061920110006790000|\n",
            "|141729|c00280453|        n|    my|           null|99034734898|            15|     null|  greening|    robert|paradise valley|   az|85253|             retired|      null|     4/27/1999|            200|    null|   null|    null|   null|     null|3061920110006790000|\n",
            "|141730|c00280453|        n|    my|           null|99034734898|            15|     null|    porter|  arthur r|        phoenix|   az|85032|arthur porter con...|      null|      5/7/1999|            250|    null|   null|    null|   null|     null|3061920110006790000|\n",
            "|141731|c00280453|        n|    my|           null|99034734899|            15|     null|   schupak| eugene dr|     scottsdale|   az|85255|           physician|      null|     4/30/1999|           1000|    null|   null|    null|   null|     null|3061920110006790000|\n",
            "+------+---------+---------+------+---------------+-----------+--------------+---------+----------+----------+---------------+-----+-----+--------------------+----------+--------------+---------------+--------+-------+--------+-------+---------+-------------------+\n",
            "only showing top 20 rows\n",
            "\n"
          ],
          "name": "stdout"
        }
      ]
    },
    {
      "cell_type": "code",
      "metadata": {
        "id": "T0IzHFxkJ1BV",
        "colab_type": "code",
        "colab": {}
      },
      "source": [
        "# Write DataFrame to RDS\n",
        "df.write.jdbc(url=jdbc_url, table=\"fec_donor_az\", mode=mode, properties=config)"
      ],
      "execution_count": null,
      "outputs": []
    },
    {
      "cell_type": "code",
      "metadata": {
        "id": "WuaXjKNqKp9A",
        "colab_type": "code",
        "colab": {
          "base_uri": "https://localhost:8080/",
          "height": 459
        },
        "outputId": "9206f47d-54d9-4130-cf5c-33a9cff51431"
      },
      "source": [
        "# Read in data from GCS Buckets\n",
        "from pyspark import SparkFiles\n",
        "url =\"https://storage.googleapis.com/team5k/presidential_votes/PresVotes6ST.csv\"\n",
        "spark.sparkContext.addFile(url)\n",
        "df = spark.read.csv(SparkFiles.get(\"PresVotes6ST.csv\"), header=True, inferSchema=True)\n",
        "\n",
        "# Show DataFrame\n",
        "df.show()"
      ],
      "execution_count": null,
      "outputs": [
        {
          "output_type": "stream",
          "text": [
            "+----+-------+--------+--------+----+---------+--------------+----------+--------------+----------+--------+\n",
            "|year|  state|state_po|  county|FIPS|   office|     candidate|     party|candidatevotes|totalvotes| version|\n",
            "+----+-------+--------+--------+----+---------+--------------+----------+--------------+----------+--------+\n",
            "|2000|Arizona|      AZ|  Apache|4001|President|       Al Gore|  democrat|         13025|     19456|20191203|\n",
            "|2000|Arizona|      AZ|  Apache|4001|President|George W. Bush|republican|          5947|     19456|20191203|\n",
            "|2000|Arizona|      AZ|  Apache|4001|President|   Ralph Nader|     green|           245|     19456|20191203|\n",
            "|2000|Arizona|      AZ|  Apache|4001|President|         Other|        NA|           239|     19456|20191203|\n",
            "|2000|Arizona|      AZ| Cochise|4003|President|       Al Gore|  democrat|         13360|     33241|20191203|\n",
            "|2000|Arizona|      AZ| Cochise|4003|President|George W. Bush|republican|         18180|     33241|20191203|\n",
            "|2000|Arizona|      AZ| Cochise|4003|President|   Ralph Nader|     green|          1113|     33241|20191203|\n",
            "|2000|Arizona|      AZ| Cochise|4003|President|         Other|        NA|           588|     33241|20191203|\n",
            "|2000|Arizona|      AZ|Coconino|4005|President|       Al Gore|  democrat|         20280|     40883|20191203|\n",
            "|2000|Arizona|      AZ|Coconino|4005|President|George W. Bush|republican|         17562|     40883|20191203|\n",
            "|2000|Arizona|      AZ|Coconino|4005|President|   Ralph Nader|     green|          2478|     40883|20191203|\n",
            "|2000|Arizona|      AZ|Coconino|4005|President|         Other|        NA|           563|     40883|20191203|\n",
            "|2000|Arizona|      AZ|    Gila|4007|President|       Al Gore|  democrat|          7700|     17736|20191203|\n",
            "|2000|Arizona|      AZ|    Gila|4007|President|George W. Bush|republican|          9158|     17736|20191203|\n",
            "|2000|Arizona|      AZ|    Gila|4007|President|   Ralph Nader|     green|           497|     17736|20191203|\n",
            "|2000|Arizona|      AZ|    Gila|4007|President|         Other|        NA|           381|     17736|20191203|\n",
            "|2000|Arizona|      AZ|  Graham|4009|President|       Al Gore|  democrat|          3355|      9664|20191203|\n",
            "|2000|Arizona|      AZ|  Graham|4009|President|George W. Bush|republican|          6007|      9664|20191203|\n",
            "|2000|Arizona|      AZ|  Graham|4009|President|   Ralph Nader|     green|           144|      9664|20191203|\n",
            "|2000|Arizona|      AZ|  Graham|4009|President|         Other|        NA|           158|      9664|20191203|\n",
            "+----+-------+--------+--------+----+---------+--------------+----------+--------------+----------+--------+\n",
            "only showing top 20 rows\n",
            "\n"
          ],
          "name": "stdout"
        }
      ]
    },
    {
      "cell_type": "code",
      "metadata": {
        "id": "M_LlWfUwKvPF",
        "colab_type": "code",
        "colab": {}
      },
      "source": [
        "# Write DataFrame to RDS\n",
        "df.write.jdbc(url=jdbc_url, table=\"pres_votes_6t\", mode=mode, properties=config)"
      ],
      "execution_count": null,
      "outputs": []
    },
    {
      "cell_type": "code",
      "metadata": {
        "id": "aBpINXjfozRS",
        "colab_type": "code",
        "colab": {}
      },
      "source": [
        "# Read in data from GCS Buckets\n",
        "from pyspark import SparkFiles\n",
        "url =\"https://storage.googleapis.com/team5k/sample_data/committee_summary_2020.csv\"\n",
        "spark.sparkContext.addFile(url)\n",
        "df = spark.read.csv(SparkFiles.get(\"committee_summary_2020.csv\"), header=True, inferSchema=True)\n",
        "\n",
        "# Show DataFrame\n",
        "df.show()"
      ],
      "execution_count": null,
      "outputs": []
    },
    {
      "cell_type": "code",
      "metadata": {
        "id": "zi1CKqeYo9B8",
        "colab_type": "code",
        "colab": {}
      },
      "source": [
        "# Write DataFrame to RDS\n",
        "df.write.jdbc(url=jdbc_url, table=\"committee_summary_2020\", mode=mode, properties=config)"
      ],
      "execution_count": null,
      "outputs": []
    }
  ]
}