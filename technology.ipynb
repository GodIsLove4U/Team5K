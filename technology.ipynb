{
 "cells": [
  {
   "cell_type": "markdown",
   "metadata": {},
   "source": [
    "# ---------------------->  Team 5K - Final Project - Segment 1 <-----------------------"
   ]
  },
  {
   "cell_type": "markdown",
   "metadata": {},
   "source": [
    "## ----------> Team Roles\n",
    "1. Kanika Singh - X\n",
    "2. Paul Bryzek - Triangle\n",
    "3. Josh Kedzierski - Circle\n",
    "4. Doris Cohen - Square"
   ]
  },
  {
   "cell_type": "markdown",
   "metadata": {},
   "source": [
    "## ----------> Technologies Used\n",
    "## Data Cleaning and Analysis\n",
    "Pandas will be used to clean the data and perform an exploratory analysis. Further analysis will be completed using Jupiter Notebook and Python. We may use Colab, if needed. \n",
    "\n",
    "## Database Storage\n",
    "PostgreSQL is the database we intend to use, and we will integrate Flask to display the data. We also have multiple branches in GitHub. These branches will be used to store data and work on code. In addition, we will manage an S3 page for some of the larger datasets. \n",
    "\n",
    "## Machine Learning\n",
    "SciKitLearn is the ML library we'll be using to create a classifier. Our training and testing setup will involve the use of multiple models. At this point, we have not identified the specific information as we are trying to find additional data combine with donation information. \n",
    "\n",
    "\n",
    "## Dashboard\n",
    "Our team has In addition to using a Flask template, we will also integrate D3.js for a fully functioning and interactive dashboard. It will be hosted on Tableau."
   ]
  },
  {
   "cell_type": "code",
   "execution_count": null,
   "metadata": {},
   "outputs": [],
   "source": []
  }
 ],
 "metadata": {
  "kernelspec": {
   "display_name": "mlenv",
   "language": "python",
   "name": "mlenv"
  },
  "language_info": {
   "codemirror_mode": {
    "name": "ipython",
    "version": 3
   },
   "file_extension": ".py",
   "mimetype": "text/x-python",
   "name": "python",
   "nbconvert_exporter": "python",
   "pygments_lexer": "ipython3",
   "version": "3.7.6"
  }
 },
 "nbformat": 4,
 "nbformat_minor": 4
}
