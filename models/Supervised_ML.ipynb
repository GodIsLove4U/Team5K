{
 "cells": [
  {
   "cell_type": "code",
   "execution_count": 1,
   "metadata": {},
   "outputs": [],
   "source": [
    "# Import dependencies\n",
    "from sqlalchemy import create_engine\n",
    "from sqlalchemy.orm import sessionmaker\n",
    "import json\n",
    "import pandas as pd\n",
    "from pandas.io import sql\n",
    "import numpy as np\n",
    "from sklearn.linear_model import LinearRegression\n",
    "import matplotlib.pyplot as plt\n",
    "import datetime\n",
    "from sklearn.model_selection import train_test_split\n",
    "from sklearn.preprocessing import StandardScaler, OneHotEncoder, LabelEncoder, MinMaxScaler\n",
    "from sklearn.metrics import confusion_matrix, classification_report, accuracy_score, recall_score, precision_score, f1_score   \n",
    "from sklearn.linear_model import LogisticRegression\n",
    "import numpy\n",
    "from mpl_toolkits.mplot3d import Axes3D\n",
    "import seaborn as sns\n",
    "from sklearn.metrics import r2_score\n",
    "from consts import *\n",
    "from sklearn.svm import SVC\n",
    "#from gcloud import storage\n",
    "%matplotlib inline"
   ]
  },
  {
   "cell_type": "code",
   "execution_count": 2,
   "metadata": {},
   "outputs": [],
   "source": [
    "# Connecting to Postgres instance\n",
    "engine = create_engine(CREATE_ENGINE_STR)"
   ]
  },
  {
   "cell_type": "code",
   "execution_count": 3,
   "metadata": {},
   "outputs": [
    {
     "name": "stdout",
     "output_type": "stream",
     "text": [
      "['committees', 'candidates', 'education', 'res_log', 'six_state_donations', 'health_results', 'res_rf', 'donations', 'classifying_results', 'agg_county_votes', 'health_metrics', 'agg_county_donors', 'birth_death_rate', 'postal_codes', 'pres_votes_6t', 'unemployment']\n"
     ]
    }
   ],
   "source": [
    "# Printing info for table names \n",
    "print (engine.table_names())"
   ]
  },
  {
   "cell_type": "code",
   "execution_count": 4,
   "metadata": {},
   "outputs": [],
   "source": [
    "#Define the Linear Regression Structured Machine Learning\n",
    "def state_sml(state_tuple, state, election_yr, unemployment_df, education_df, birth_death_df):\n",
    "    #TODO merge together relevant info for county from unemployment_df, education_df, birth_death_df\n",
    "    counties_tuples = state_tuple[0]    \n",
    "    donor_tuples = state_tuple[1]\n",
    "    \n",
    "    #Loop through each election year county dict\n",
    "    for i in range(0, len(counties_tuples)):\n",
    "        #Select the corresponding counties/votes and donor info for that election yr\n",
    "        counties_votes_dict = counties_tuples[i]\n",
    "        donor_tuple = donor_tuples[i]\n",
    "        \n",
    "        county_dict = {}\n",
    "        #Loop through all the votes organized by county\n",
    "        for c in counties_votes_dict:\n",
    "            #Kepp unique dict of counties\n",
    "            if c not in county_dict:\n",
    "                county_dict[c] = {}\n",
    "            #Get the number of votes by county\n",
    "            county_votes = counties_votes_dict[c]\n",
    "            #Update the vote dict\n",
    "            votes_dict = set_votes_dict(county_dict[c], county_votes, donor_tuple)\n",
    "            #Update the county dict with the updated votes dict\n",
    "            county_dict[c] = votes_dict"
   ]
  },
  {
   "cell_type": "code",
   "execution_count": 5,
   "metadata": {},
   "outputs": [],
   "source": [
    "def predict_votes_linear_regression(state_model_dict):\n",
    "    election_yr = 2000\n",
    "    unemployment_df = pd.read_sql_query('select * from \"unemployment\"',con=engine)\n",
    "    education_df = pd.read_sql_query('select * from \"education\"',con=engine)\n",
    "    birth_death_df = pd.read_sql_query('select * from \"birth_death_rate\"',con=engine)\n",
    "    for state in state_model_dict.keys():\n",
    "        model = state_model_dict[state]\n",
    "        #TODO enable prediction for voting\n",
    "        #state_sml(model, state, election_yr, unemployment_df, education_df, birth_death_df)\n",
    "        election_yr += 4"
   ]
  },
  {
   "cell_type": "code",
   "execution_count": 6,
   "metadata": {},
   "outputs": [],
   "source": [
    "#Machine Learning models run on the donation data\n",
    "def donation_votes_linear_regression(df):\n",
    "    print(\"donation_votes_linear_regression\")\n",
    "    print(df[\"winning_party\"].unique())\n",
    "    \n",
    "    party_list = df[\"winning_party\"].tolist()\n",
    "    blue_count = 0\n",
    "    red_count = 0\n",
    "    for p in party_list:\n",
    "        #print(p)\n",
    "        if p == 0:\n",
    "            blue_count = blue_count + 1\n",
    "        else:\n",
    "            red_count = red_count + 1\n",
    "    \n",
    "    print(blue_count)\n",
    "    print(red_count)\n",
    "    \n",
    "    #Will run a separate LR model on each of the winning party\n",
    "    y_param = \"winning_party\"\n",
    "    #Set all the votes cols of interest\n",
    "    \n",
    "    votes_cols = [\"PopPct_Urban\", \"Unemployment\", \"PopDen_Urban\", \"PopPct_Rural\", \"PopDen_Rural\"]\n",
    "    #Set all the donors cols of interest\n",
    "    donors_cols = [\"county\", \"state\", \"election_year\", \"blue_amt\", \"red_amt\", \"total_amt\", \"blue_num\", \"red_num\"]\n",
    "    \n",
    "    #Set the Machine Learning X cols\n",
    "    #sml_cols = votes_cols + donors_cols\n",
    "    x_cols = donors_cols\n",
    "    \n",
    "    #Run machine learning models on the donation of the state\n",
    "    return run_lr_xy(df, y_param, x_cols, \"all\")"
   ]
  },
  {
   "cell_type": "code",
   "execution_count": 7,
   "metadata": {},
   "outputs": [],
   "source": [
    "#Machine Learning models run on the donation data\n",
    "def donation_linear_regression(donor_df, state):\n",
    "    y_param = \"TRANSACTION_AMT\"\n",
    "    X_cols = [\"CITY\", \"STATE\", \"ZIP\", \"EMPLOYER\", \"OCCUPATION\"]\n",
    "    \n",
    "    #Run some machine learning models on the donation of the state\n",
    "    return run_lr_xy(df, y_param, X_cols, state)"
   ]
  },
  {
   "cell_type": "code",
   "execution_count": 8,
   "metadata": {},
   "outputs": [],
   "source": [
    "def run_lr_xy(df, y_param, x_cols, state):\n",
    "    #Create the Y values\n",
    "    y_df = select_columns(df, [y_param])\n",
    "    y = y_df[y_param].values\n",
    "\n",
    "    #Set X Cols to the everything but the parameter to run the ML model\n",
    "    X_df = select_columns(df, x_cols)\n",
    "    X = X_df[x_cols].values\n",
    "\n",
    "    #Run Linear Regression Model on X,y\n",
    "    print(f\"Running a Linear Regression Model with y={y_param} and x_cols={x_cols}\")\n",
    "    return run_linear_regression(X, y, y_param, state)"
   ]
  },
  {
   "cell_type": "code",
   "execution_count": 9,
   "metadata": {},
   "outputs": [],
   "source": [
    "def run_linear_regression(X, y, y_param, state):    \n",
    "    # Split the preprocessed data into a training and testing dataset\n",
    "    X_train, X_test, y_train, y_test = train_test_split(X, y, random_state=78, test_size=SML_TEST_SIZE)\n",
    "    \n",
    "    model_type = \"Linear Regression\"\n",
    "    #Test out different models\n",
    "    #model = LinearRegression()\n",
    "    model = LogisticRegression()\n",
    "    file_name = create_file_name(\"lr\", y_param, state)\n",
    "    \n",
    "    #Scale the values\n",
    "    X_train_scaled = MinMaxScaler().fit_transform(X_train)\n",
    "    X_test_scaled = MinMaxScaler().fit_transform(X_test)\n",
    "        \n",
    "    #Train the model \n",
    "    model.fit(X_train_scaled, y_train)\n",
    "\n",
    "    #Predict the values based on the X test values\n",
    "    y_train_pred = model.predict(X_train_scaled)\n",
    "    y_test_pred = model.predict(X_test_scaled)\n",
    "    \n",
    "    #Get the score of this model\n",
    "    r2_score_val = r2_score(y_test, y_test_pred)\n",
    "    score_str = f\"r2_score:{r2_score_val}\"\n",
    "    #Plot the data\n",
    "    title = create_title(model_type, y_param, score_str)\n",
    "    plot_data(y_test, y_train, y_test_pred, y_train_pred, title, file_name)\n",
    "    \n",
    "    #Run the model on 2020 to predict number of votes per county based off of 2016-2020 current donations.\n",
    "    df = pd.DataFrame()\n",
    "    df['state'] = [state]\n",
    "    df['sml_param'] = [y_param]\n",
    "    df['r2_score'] = [r2_score_val]\n",
    "    df['file_name'] = [file_name]\n",
    "    df.to_sql(TABLE_RES_LR, con=engine, if_exists=\"append\")\n",
    "    \n",
    "    return model"
   ]
  },
  {
   "cell_type": "code",
   "execution_count": 10,
   "metadata": {},
   "outputs": [],
   "source": [
    "# Holding area for function to plot data\n",
    "def plot_data(y_test, y_trained, y_pred_test, y_pred_train, title, file_name):\n",
    "    plt.scatter(y_pred_train, y_pred_train - y_trained, c=\"blue\", label=\"Training Data\")\n",
    "    plt.scatter(y_pred_test, y_pred_test - y_test, c=\"orange\", label=\"Testing Data\")\n",
    "    plt.legend()\n",
    "    plt.hlines(y=0, xmin=y_test.min(), xmax=y_test.max())\n",
    "    plt.title(title)\n",
    "    #plt.show()\n",
    "    \n",
    "    file_dir = f\"results/{file_name}\"\n",
    "    plt.savefig(file_dir)\n",
    "    \n",
    "    #Clear the plot\n",
    "    plt.clf()\n",
    "    \n",
    "    #Save the plot data to gcloud\n",
    "    #save_image_to_gcloud_lr(plt, file_name)"
   ]
  },
  {
   "cell_type": "code",
   "execution_count": 11,
   "metadata": {},
   "outputs": [],
   "source": [
    "#Get all donation records for a single state and return it in a dataframe\n",
    "def query_all(table_name, state):\n",
    "    #Run queries to get all donation records from the states into dfs\n",
    "    select_sql = f'select * from {table_name} where election_year != 2020 and state=\\'{state}\\';'\n",
    "    df = pd.read_sql_query(select_sql,con=engine)\n",
    "    return df"
   ]
  },
  {
   "cell_type": "code",
   "execution_count": 12,
   "metadata": {},
   "outputs": [],
   "source": [
    "#Get all donation records for a single state and return it in a dataframe\n",
    "def query_this_election(table_name, state):\n",
    "    #Run queries to get all donation records from the states into dfs\n",
    "    select_sql = f'select * from {table_name} where election_year = 2020 and state=\\'{state}\\';'\n",
    "    df = pd.read_sql_query(select_sql,con=engine)\n",
    "    return df"
   ]
  },
  {
   "cell_type": "code",
   "execution_count": 13,
   "metadata": {},
   "outputs": [],
   "source": [
    "#Get all donation records for a single state and return it in a dataframe\n",
    "def donor_state_query(state):\n",
    "    #Run queries to get all donation records from the states into dfs\n",
    "    select_sql = f'select * from {TABLE_SIX_STATE_DONATIONS} where \"STATE\"=\\'{state.upper()}\\''\n",
    "    #select_sql = f'select * from {TABLE_SIX_STATE_DONATIONS} where \"STATE\"=\\'{state.upper()}\\' LIMIT 10000'\n",
    "    donor_df = pd.read_sql_query(select_sql, con=engine)\n",
    "    return donor_df"
   ]
  },
  {
   "cell_type": "code",
   "execution_count": 14,
   "metadata": {},
   "outputs": [],
   "source": [
    "def agg_ml():\n",
    "    print(\"agg_ml\")\n",
    "    state = \"FL\"\n",
    "    #Get all donations from 2000-2016\n",
    "    agg_donors_df = query_all(TABLE_AGG_DONORS, state)\n",
    "    agg_donors_df = agg_donors_df.fillna(0)\n",
    "    agg_donors_df = label_enc(agg_donors_df)\n",
    "    \n",
    "    agg_votes_df = query_all(TABLE_AGG_VOTES, state)\n",
    "    agg_votes_df = agg_votes_df.fillna(0)\n",
    "    print(agg_votes_df.head(1))\n",
    "    agg_votes_df = label_enc(agg_votes_df)\n",
    "    print(agg_votes_df.head(1))\n",
    "    \n",
    "    #Merge on the three fields that make it unique: county, state, and election_year\n",
    "    merged_df = agg_donors_df.merge(agg_votes_df, left_on=['county', 'state', 'election_year'], right_on=['county', 'state', 'election_year'], suffixes=(\"_donors\", \"_votes\"))\n",
    "        \n",
    "    #Run a linear regression analysis on the merged dataset, returns a trained model\n",
    "    model = donation_votes_linear_regression(merged_df)\n",
    "    \n",
    "    #Get donors for this election year\n",
    "    agg_donors_this_df = query_this_election(TABLE_AGG_DONORS, state)\n",
    "    agg_donors_this_df = agg_donors_this_df.fillna(0)\n",
    "    agg_donors_this_df = label_enc(agg_donors_this_df)\n",
    "    print(agg_donors_this_df.head())\n",
    "    \n",
    "    #Set all the donors cols of interest\n",
    "    votes_cols = [\"PopPct_Urban\", \"Unemployment\", \"PopDen_Urban\", \"PopPct_Rural\", \"PopDen_Rural\"]\n",
    "    donors_cols = [\"county\", \"state\", \"election_year\", \"blue_amt\", \"red_amt\", \"total_amt\", \"blue_num\", \"red_num\"]\n",
    "    #TODO enable the x_cols\n",
    "    x_cols = votes_cols + donors_cols\n",
    "    agg_donors_this_df_test = select_columns(agg_donors_this_df, donors_cols)   \n",
    "    \n",
    "    # Split the preprocessed data into a training and testing dataset    \n",
    "    X_test_scaled = MinMaxScaler().fit_transform(agg_donors_this_df_test)\n",
    "    y_test_pred = model.predict(X_test_scaled)\n",
    "    \n",
    "    print(len(y_test_pred))\n",
    "    print(y_test_pred)\n",
    "    \n",
    "    winning_parties = []\n",
    "    for y in y_test_pred: \n",
    "        winning_party = MAJOR_PARTIES[0]\n",
    "        if y >= .5:\n",
    "            winning_party = MAJOR_PARTIES[1]\n",
    "        winning_parties.append(winning_party)\n",
    "        \n",
    "    agg_donors_this_df_test[\"predict_winning_party\"] = winning_parties\n",
    "    \n",
    "    print(agg_donors_this_df_test.head())\n",
    "    #Significance of each county\n",
    "    #Electoral Votes per State"
   ]
  },
  {
   "cell_type": "code",
   "execution_count": 15,
   "metadata": {},
   "outputs": [],
   "source": [
    "def state_ml(committee_df):\n",
    "    #Loop through each state and run separate LR models on each state.\n",
    "    for state in SWING_STATES:\n",
    "        print(f\"state_ml {state}\")\n",
    "        donor_df = donor_state_query(state)\n",
    "        \n",
    "        #Add party column to donor data frame\n",
    "        donor_df = committee_df.merge(donor_df, left_on='CMTE_ID', right_on='CMTE_ID')\n",
    "        \n",
    "        #Print unique ids\n",
    "        unique_aff = donor_df[\"CMTE_PTY_AFFILIATION\"].unique()\n",
    "        print(unique_aff)\n",
    "        \n",
    "        donor_df = merge_cmtid_party(donor_df)\n",
    "\n",
    "        #Run the machine learning models on the donation set\n",
    "        print(f\"Linear Regression on state: {state}\")\n",
    "        donation_linear_regression(donor_df, state)"
   ]
  },
  {
   "cell_type": "code",
   "execution_count": 16,
   "metadata": {},
   "outputs": [],
   "source": [
    "def main(committee_df):\n",
    "    #Drop the tables that will be outputed to the results res_lr\n",
    "    drop_res_lr_tables(engine)\n",
    "    \n",
    "    print(\"Main\")\n",
    "    agg_ml()\n",
    "    \n",
    "    #state_ml(committee_df)\n",
    "    print(\"End of Main\")"
   ]
  },
  {
   "cell_type": "code",
   "execution_count": 17,
   "metadata": {
    "scrolled": false
   },
   "outputs": [],
   "source": [
    "committee_df = pd.read_sql_query('select * from \"committees\"', con=engine)"
   ]
  },
  {
   "cell_type": "code",
   "execution_count": 18,
   "metadata": {
    "scrolled": false
   },
   "outputs": [
    {
     "name": "stdout",
     "output_type": "stream",
     "text": [
      "Main\n",
      "agg_ml\n",
      "   index  blue_votes  red_votes  other_votes  total_votes   county state  \\\n",
      "0      0       47365      34124         4240        85729  Alachua    FL   \n",
      "\n",
      "   election_year  PopPct_Urban  Unemployment  PopDen_Urban  PopPct_Rural  \\\n",
      "0           2000         78.81           3.0        2091.7         21.19   \n",
      "\n",
      "   PopDen_Rural winning_party  \n",
      "0          67.0      democrat  \n",
      "   index  blue_votes  red_votes  other_votes  total_votes  county  state  \\\n",
      "0      0       47365      34124         4240        85729       0      0   \n",
      "\n",
      "   election_year  PopPct_Urban  Unemployment  PopDen_Urban  PopPct_Rural  \\\n",
      "0           2000         78.81           3.0        2091.7         21.19   \n",
      "\n",
      "   PopDen_Rural  winning_party  \n",
      "0          67.0              0  \n",
      "donation_votes_linear_regression\n",
      "[1 0]\n",
      "62\n",
      "260\n",
      "Running a Linear Regression Model with y=winning_party and x_cols=['county', 'state', 'election_year', 'blue_amt', 'red_amt', 'total_amt', 'blue_num', 'red_num']\n",
      "   index   blue_amt  red_amt   other_amt   total_amt  blue_num  red_num  \\\n",
      "0      0  475787121     3850  1445960550  1921751521   2141603       22   \n",
      "1      0    1283408    10450    49311755    50605613      3278       44   \n",
      "2      0      69880        0     4966943     5036823       319        0   \n",
      "3      0    4756918     2000   113516064   118274982     14042        2   \n",
      "4      0     132769        0     4102030     4234799       907        0   \n",
      "\n",
      "   other_num  total_num  county  state  election_year  \n",
      "0    6282354    8423979     144      0           2020  \n",
      "1     341023     344345     126      0           2020  \n",
      "2      54644      54963      11      0           2020  \n",
      "3     643244     657288      24      0           2020  \n",
      "4      91748      92655     132      0           2020  \n",
      "155\n",
      "[1 1 1 1 1 1 1 1 1 1 1 1 1 1 1 1 1 1 1 1 1 1 1 1 1 1 1 1 1 1 1 1 1 1 1 1 1\n",
      " 1 1 1 1 1 1 1 1 1 1 1 1 1 1 1 1 1 1 1 1 1 1 1 1 1 1 1 1 1 1 1 1 1 1 1 1 1\n",
      " 1 1 1 1 1 1 1 1 1 1 1 1 1 1 1 1 1 1 1 1 1 1 1 1 1 1 1 1 1 1 1 1 1 1 1 1 1\n",
      " 1 1 1 1 1 1 1 1 1 1 1 1 1 1 1 1 1 1 1 1 1 1 1 1 1 1 1 1 1 1 1 1 1 1 1 1 1\n",
      " 1 1 1 1 1 1 1]\n",
      "   county  state  election_year   blue_amt  red_amt   total_amt  blue_num  \\\n",
      "0     144      0           2020  475787121     3850  1921751521   2141603   \n",
      "1     126      0           2020    1283408    10450    50605613      3278   \n",
      "2      11      0           2020      69880        0     5036823       319   \n",
      "3      24      0           2020    4756918     2000   118274982     14042   \n",
      "4     132      0           2020     132769        0     4234799       907   \n",
      "\n",
      "   red_num predict_winning_party  \n",
      "0       22            republican  \n",
      "1       44            republican  \n",
      "2        0            republican  \n",
      "3        2            republican  \n",
      "4        0            republican  \n",
      "End of Main\n"
     ]
    },
    {
     "data": {
      "text/plain": [
       "<Figure size 432x288 with 0 Axes>"
      ]
     },
     "metadata": {},
     "output_type": "display_data"
    }
   ],
   "source": [
    "main(committee_df)"
   ]
  },
  {
   "cell_type": "code",
   "execution_count": null,
   "metadata": {},
   "outputs": [],
   "source": []
  }
 ],
 "metadata": {
  "kernelspec": {
   "display_name": "Python 3",
   "language": "python",
   "name": "python3"
  },
  "language_info": {
   "codemirror_mode": {
    "name": "ipython",
    "version": 3
   },
   "file_extension": ".py",
   "mimetype": "text/x-python",
   "name": "python",
   "nbconvert_exporter": "python",
   "pygments_lexer": "ipython3",
   "version": "3.7.6"
  }
 },
 "nbformat": 4,
 "nbformat_minor": 4
}
