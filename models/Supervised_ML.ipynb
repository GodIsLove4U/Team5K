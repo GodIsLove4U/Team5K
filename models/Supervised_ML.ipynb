{
 "cells": [
  {
   "cell_type": "code",
   "execution_count": 1,
   "metadata": {},
   "outputs": [],
   "source": [
    "# Import dependencies\n",
    "from sqlalchemy import create_engine\n",
    "from sqlalchemy.orm import sessionmaker\n",
    "import json\n",
    "import pandas as pd\n",
    "from pandas.io import sql\n",
    "import numpy as np\n",
    "from sklearn.linear_model import LinearRegression\n",
    "import matplotlib.pyplot as plt\n",
    "import datetime\n",
    "from sklearn.model_selection import train_test_split\n",
    "from sklearn.preprocessing import StandardScaler, OneHotEncoder, LabelEncoder, MinMaxScaler\n",
    "from sklearn.metrics import confusion_matrix, classification_report, accuracy_score, recall_score, precision_score, f1_score   \n",
    "from sklearn.linear_model import LogisticRegression\n",
    "import numpy\n",
    "from mpl_toolkits.mplot3d import Axes3D\n",
    "import seaborn as sns\n",
    "from sklearn.metrics import r2_score\n",
    "from consts import *\n",
    "from sklearn.svm import SVC\n",
    "#from gcloud import storage\n",
    "%matplotlib inline"
   ]
  },
  {
   "cell_type": "code",
   "execution_count": 2,
   "metadata": {},
   "outputs": [],
   "source": [
    "# Connecting to Postgres instance\n",
    "engine = create_engine(CREATE_ENGINE_STR)"
   ]
  },
  {
   "cell_type": "code",
   "execution_count": null,
   "metadata": {},
   "outputs": [],
   "source": [
    "# Printing info for table names \n",
    "print (engine.table_names())"
   ]
  },
  {
   "cell_type": "code",
   "execution_count": null,
   "metadata": {},
   "outputs": [],
   "source": [
    "#Define the Linear Regression Structured Machine Learning\n",
    "def state_sml(state_tuple, state, election_yr, unemployment_df, education_df, birth_death_df):\n",
    "    #TODO merge together relevant info for county from unemployment_df, education_df, birth_death_df\n",
    "    counties_tuples = state_tuple[0]    \n",
    "    donor_tuples = state_tuple[1]\n",
    "    \n",
    "    #Loop through each election year county dict\n",
    "    for i in range(0, len(counties_tuples)):\n",
    "        #Select the corresponding counties/votes and donor info for that election yr\n",
    "        counties_votes_dict = counties_tuples[i]\n",
    "        donor_tuple = donor_tuples[i]\n",
    "        \n",
    "        county_dict = {}\n",
    "        #Loop through all the votes organized by county\n",
    "        for c in counties_votes_dict:\n",
    "            #Kepp unique dict of counties\n",
    "            if c not in county_dict:\n",
    "                county_dict[c] = {}\n",
    "            #Get the number of votes by county\n",
    "            county_votes = counties_votes_dict[c]\n",
    "            #Update the vote dict\n",
    "            votes_dict = set_votes_dict(county_dict[c], county_votes, donor_tuple)\n",
    "            #Update the county dict with the updated votes dict\n",
    "            county_dict[c] = votes_dict"
   ]
  },
  {
   "cell_type": "code",
   "execution_count": null,
   "metadata": {},
   "outputs": [],
   "source": [
    "def predict_votes_linear_regression(state_model_dict):\n",
    "    election_yr = 2000\n",
    "    unemployment_df = pd.read_sql_query('select * from \"unemployment\"',con=engine)\n",
    "    education_df = pd.read_sql_query('select * from \"education\"',con=engine)\n",
    "    birth_death_df = pd.read_sql_query('select * from \"birth_death_rate\"',con=engine)\n",
    "    for state in state_model_dict.keys():\n",
    "        model = state_model_dict[state]\n",
    "        #TODO enable prediction for voting\n",
    "        #state_sml(model, state, election_yr, unemployment_df, education_df, birth_death_df)\n",
    "        election_yr += 4"
   ]
  },
  {
   "cell_type": "code",
   "execution_count": null,
   "metadata": {},
   "outputs": [],
   "source": [
    "#Machine Learning models run on the donation data\n",
    "def donation_votes_linear_regression(df, y_param, state):\n",
    "    print(\"donation_votes_linear_regression\")\n",
    "    #Set all the votes cols of interest\n",
    "    votes_cols = [\"PopPct_Urban\", \"Unemployment\", \"PopDen_Urban\", \"PopPct_Rural\", \"PopDen_Rural\"]\n",
    "    #Set all the donors cols of interest\n",
    "    donors_cols = [\"county\", \"election_year\", \"blue_amt\", \"red_amt\", \"total_amt\", \"blue_num\", \"red_num\"]\n",
    "    \n",
    "    #Set the Machine Learning X cols\n",
    "    #sml_cols = votes_cols + donors_cols\n",
    "    x_cols = donors_cols\n",
    "    \n",
    "    #Run machine learning models on the donation of the state\n",
    "    return run_lr_xy(df, y_param, x_cols, state, \"lr_votes\")"
   ]
  },
  {
   "cell_type": "code",
   "execution_count": null,
   "metadata": {},
   "outputs": [],
   "source": [
    "#Machine Learning models run on the donation data\n",
    "def donation_linear_regression(donor_df, state):\n",
    "    y_param = \"TRANSACTION_AMT\"\n",
    "    X_cols = [\"CITY\", \"STATE\", \"ZIP\", \"EMPLOYER\", \"OCCUPATION\"]\n",
    "    \n",
    "    #Run some machine learning models on the donation of the state\n",
    "    return run_lr_xy(df, y_param, X_cols, state, \"lr_trans_amt\")"
   ]
  },
  {
   "cell_type": "code",
   "execution_count": null,
   "metadata": {},
   "outputs": [],
   "source": [
    "def run_lr_xy(df, y_param, x_cols, state, dir_name):\n",
    "    #Create the Y values\n",
    "    y_df = select_columns(df, [y_param])\n",
    "    y = y_df[y_param].values\n",
    "\n",
    "    #Set X Cols to the everything but the parameter to run the ML model\n",
    "    X_df = select_columns(df, x_cols)\n",
    "    X = X_df[x_cols].values\n",
    "    \n",
    "    print(f\"y len {len(y)} x len {len(X)}\")\n",
    "    #Run Linear Regression Model on X,y\n",
    "    print(f\"Running a Linear Regression Model with y={y_param} and x_cols={x_cols} state={state}\")\n",
    "    return run_linear_regression(X, y, y_param, state, dir_name)"
   ]
  },
  {
   "cell_type": "code",
   "execution_count": null,
   "metadata": {},
   "outputs": [],
   "source": [
    "def run_linear_regression(X, y, y_param, state, dir_name):    \n",
    "    # Split the preprocessed data into a training and testing dataset\n",
    "    X_train, X_test, y_train, y_test = train_test_split(X, y, random_state=78, test_size=SML_TEST_SIZE)\n",
    "    \n",
    "    model_type = \"Linear Regression\"\n",
    "    #Test out different models\n",
    "    #model = LinearRegression()\n",
    "    model = LogisticRegression()\n",
    "    file_name = create_file_name(\"lr\", y_param, state)\n",
    "    \n",
    "    #Scale the values\n",
    "    X_train_scaled = MinMaxScaler().fit_transform(X_train)\n",
    "    X_test_scaled = MinMaxScaler().fit_transform(X_test)\n",
    "        \n",
    "    #Train the model \n",
    "    model.fit(X_train_scaled, y_train)\n",
    "\n",
    "    #Predict the values based on the X test values\n",
    "    y_train_pred = model.predict(X_train_scaled)\n",
    "    y_test_pred = model.predict(X_test_scaled)\n",
    "    \n",
    "    #Get the score of this model\n",
    "    r2_score_val = r2_score(y_test, y_test_pred)\n",
    "    score_str = f\"r2_score:{r2_score_val}\"\n",
    "    #Plot the data\n",
    "    title = create_title(model_type, y_param, score_str)\n",
    "    plot_data(y_test, y_train, y_test_pred, y_train_pred, title, file_name, dir_name)\n",
    "    \n",
    "    #Run the model on 2020 to predict number of votes per county based off of 2016-2020 current donations.\n",
    "    df = pd.DataFrame()\n",
    "    df['state'] = [state]\n",
    "    df['sml_param'] = [y_param]\n",
    "    df['r2_score'] = [r2_score_val]\n",
    "    df['file_name'] = [file_name]\n",
    "    df.to_sql(TABLE_RES_LR, con=engine, if_exists=\"append\")\n",
    "    \n",
    "    return model"
   ]
  },
  {
   "cell_type": "code",
   "execution_count": null,
   "metadata": {},
   "outputs": [],
   "source": [
    "# Holding area for function to plot data\n",
    "def plot_data(y_test, y_trained, y_pred_test, y_pred_train, title, file_name, dir_name):\n",
    "    plt.scatter(y_pred_train, y_pred_train - y_trained, c=\"blue\", label=\"Training Data\")\n",
    "    plt.scatter(y_pred_test, y_pred_test - y_test, c=\"orange\", label=\"Testing Data\")\n",
    "    plt.legend()\n",
    "    plt.hlines(y=0, xmin=y_test.min(), xmax=y_test.max())\n",
    "    plt.title(title)\n",
    "    #plt.show()\n",
    "    \n",
    "    file_dir = f\"results/{dir_name}/{file_name}\"\n",
    "    plt.savefig(file_dir)\n",
    "    \n",
    "    #Clear the plot\n",
    "    plt.clf()\n",
    "    \n",
    "    #Save the plot data to gcloud\n",
    "    #save_image_to_gcloud_lr(plt, file_name)"
   ]
  },
  {
   "cell_type": "code",
   "execution_count": null,
   "metadata": {},
   "outputs": [],
   "source": [
    "#Get all donation records for a single state and return it in a dataframe\n",
    "def query_all(table_name, state):\n",
    "    #Run queries to get all donation records from the states into dfs\n",
    "    select_sql = f'select * from {table_name} where election_year != 2020 and state=\\'{state}\\';'\n",
    "    df = pd.read_sql_query(select_sql,con=engine)\n",
    "    return df"
   ]
  },
  {
   "cell_type": "code",
   "execution_count": null,
   "metadata": {},
   "outputs": [],
   "source": [
    "#Get all donation records for a single state and return it in a dataframe\n",
    "def query_total_votes(state):\n",
    "    table_name = \"agg_county_votes\"\n",
    "    #Run queries to get all donation records from the states into dfs\n",
    "    select_sql = f'select * from {table_name} where election_year = 2016 and state=\\'{state}\\';'\n",
    "    df = pd.read_sql_query(select_sql,con=engine)\n",
    "    return df"
   ]
  },
  {
   "cell_type": "code",
   "execution_count": null,
   "metadata": {},
   "outputs": [],
   "source": [
    "#Get all donation records for a single state and return it in a dataframe\n",
    "def query_this_election(table_name, state):\n",
    "    #Run queries to get all donation records from the states into dfs\n",
    "    select_sql = f'select * from {table_name} where election_year = 2020 and state=\\'{state}\\';'\n",
    "    df = pd.read_sql_query(select_sql,con=engine)\n",
    "    return df"
   ]
  },
  {
   "cell_type": "code",
   "execution_count": null,
   "metadata": {},
   "outputs": [],
   "source": [
    "#Get all donation records for a single state and return it in a dataframe\n",
    "def donor_state_query(state):\n",
    "    #Run queries to get all donation records from the states into dfs\n",
    "    select_sql = f'select * from {TABLE_SIX_STATE_DONATIONS} where \"STATE\"=\\'{state.upper()}\\''\n",
    "    df = pd.read_sql_query(select_sql, con=engine)\n",
    "    return df"
   ]
  },
  {
   "cell_type": "code",
   "execution_count": null,
   "metadata": {},
   "outputs": [],
   "source": [
    "def agg_ml(state):\n",
    "    print(f\"agg_ml {state}\")\n",
    "    \n",
    "    zips_df = pd.read_sql_query(f'select * from postal_codes where state=\\'{state}\\'',con=engine)\n",
    "    unique_counties = zips_df[\"county\"].unique()\n",
    "    \n",
    "    for i in range(len(unique_counties)):\n",
    "        word = unique_counties[i].split(' County', 1)\n",
    "        unique_counties[i] = word[0].capitalize()\n",
    "    \n",
    "    #2016 total votes\n",
    "    df_total_votes = query_total_votes(state)\n",
    "    \n",
    "    #Get donors for this election year\n",
    "    agg_donors_this_df = query_this_election(TABLE_AGG_DONORS, state)\n",
    "    \n",
    "    #Get all donations from 2000-2016\n",
    "    agg_donors_df = query_all(TABLE_AGG_DONORS, state)\n",
    "    #Filter by actual unique counties from the state\n",
    "    agg_donors_df = agg_donors_df[agg_donors_df[\"county\"].isin(unique_counties)]\n",
    "    \n",
    "    agg_votes_df = query_all(TABLE_AGG_VOTES, state)\n",
    "    \n",
    "    agg_donors_df = agg_donors_df.fillna(0)\n",
    "    agg_donors_df = label_enc(agg_donors_df)\n",
    "    \n",
    "    agg_votes_df = agg_votes_df.fillna(0)\n",
    "    print(agg_votes_df.head(1))\n",
    "    agg_votes_df = label_enc(agg_votes_df)\n",
    "    print(agg_votes_df.head(1))\n",
    "    \n",
    "    #Merge on the three fields that make it unique: county, state, and election_year\n",
    "    merged_df = agg_donors_df.merge(agg_votes_df, left_on=['county', 'state', 'election_year'], right_on=['county', 'state', 'election_year'], suffixes=(\"_donors\", \"_votes\"))\n",
    "        \n",
    "    #Run a linear regression analysis on the merged dataset, returns a trained model\n",
    "    model_blue = donation_votes_linear_regression(merged_df, \"blue_votes\", state)\n",
    "    model_red = donation_votes_linear_regression(merged_df, \"red_votes\", state)\n",
    "    \n",
    "    #Filter by actual unique counties from the state\n",
    "    agg_donors_this_df = agg_donors_this_df[agg_donors_this_df[\"county\"].isin(unique_counties)]   \n",
    "    agg_donors_this_df = agg_donors_this_df.fillna(0)\n",
    "    this_election_df = df_total_votes.merge(agg_donors_this_df, left_on=['county', 'state'], right_on=['county', 'state'], suffixes=(\"_donors\", \"_votes\"), how='left')\n",
    "    this_election_df = this_election_df.dropna()\n",
    "    \n",
    "    this_election_df_orig = this_election_df.copy()\n",
    "    this_election_df = label_enc(this_election_df)\n",
    "    print(this_election_df.head())\n",
    "    \n",
    "    #Set all the donors cols of interest\n",
    "    votes_cols = [\"PopPct_Urban\", \"Unemployment\", \"PopDen_Urban\", \"PopPct_Rural\", \"PopDen_Rural\"]\n",
    "    donors_cols = [\"county\", \"election_year_donors\", \"blue_amt\", \"red_amt\", \"total_amt\", \"blue_num\", \"red_num\"]\n",
    "    #TODO enable the x_cols\n",
    "    x_cols = votes_cols + donors_cols\n",
    "    agg_donors_this_df_test = select_columns(this_election_df, donors_cols)   \n",
    "    \n",
    "    # Split the preprocessed data into a training and testing dataset    \n",
    "    X_test_scaled = MinMaxScaler().fit_transform(agg_donors_this_df_test)\n",
    "    y_test_blue_pred = model_blue.predict(X_test_scaled)\n",
    "    \n",
    "    y_test_red_pred = model_red.predict(X_test_scaled)\n",
    "    \n",
    "    print(\"len of y_test\")\n",
    "    print(len(y_test_blue_pred))\n",
    "    print(\"this election count\")\n",
    "    print(this_election_df.count)\n",
    "    \n",
    "    this_election_df_orig[\"predict_blue_votes\"] = y_test_blue_pred\n",
    "    this_election_df_orig[\"predict_red_votes\"] = y_test_red_pred\n",
    "    this_election_df_orig[\"predict_total_votes\"] = this_election_df_orig[\"predict_blue_votes\"] + this_election_df_orig[\"predict_red_votes\"]\n",
    "    \n",
    "    this_election_df_orig[\"predict_blue_votes_net\"] = (this_election_df_orig[\"predict_blue_votes\"] / this_election_df_orig[\"predict_total_votes\"]) * this_election_df_orig[\"total_votes\"]\n",
    "    this_election_df_orig[\"predict_red_votes_net\"] = (this_election_df_orig[\"predict_red_votes\"] / this_election_df_orig[\"predict_total_votes\"]) * this_election_df_orig[\"total_votes\"]\n",
    "    \n",
    "    #State, County, blue, red votes\n",
    "    results_df = select_columns(this_election_df_orig, [\"predict_blue_votes_net\", \"predict_red_votes_net\", \"state\", \"county\"])   \n",
    "    \n",
    "    table_name = f\"res_votes_{state}\"\n",
    "    results_df.to_sql(table_name, con=engine, if_exists=\"replace\")\n",
    "    \n",
    "    #agg_donors_this_df = agg_donors_this_df.merge(df_total_votes, left_on=['county', 'state'], right_on=['county', 'state'], suffixes=(\"_donors\", \"_votes\"))\n",
    "    print(f\"Prediction for Votes! States = {state}\")\n",
    "    #print(this_election_df.head())\n",
    "    #print(this_election_df.shape)\n",
    "    \n",
    "    #print(agg_donors_this_df_test.head())\n",
    "    #Significance of each county\n",
    "    #Electoral Votes per State"
   ]
  },
  {
   "cell_type": "code",
   "execution_count": null,
   "metadata": {},
   "outputs": [],
   "source": [
    "def state_ml(committee_df, state):\n",
    "    #Loop through each state and run separate LR models on each state.\n",
    "    print(f\"state_ml {state}\")\n",
    "    donor_df = donor_state_query(state)\n",
    "    \n",
    "    #Add party column to donor data frame\n",
    "    donor_df = committee_df.merge(donor_df, left_on='CMTE_ID', right_on='CMTE_ID')\n",
    "    \n",
    "    #Print unique ids\n",
    "    unique_aff = donor_df[\"CMTE_PTY_AFFILIATION\"].unique()\n",
    "    print(unique_aff)\n",
    "\n",
    "    donor_df = merge_cmtid_party(donor_df)\n",
    "\n",
    "    #Run the machine learning models on the donation set\n",
    "    print(f\"Linear Regression on state: {state}\")\n",
    "    donation_linear_regression(donor_df, state)"
   ]
  },
  {
   "cell_type": "code",
   "execution_count": null,
   "metadata": {},
   "outputs": [],
   "source": [
    "def main(committee_df):\n",
    "    print(\"Main\")\n",
    "    \n",
    "    #Drop the tables that will be outputed to the results res_lr\n",
    "    drop_res_lr_tables(engine)\n",
    "    \n",
    "    for state in SWING_STATES:\n",
    "        agg_ml(state)\n",
    "        #state_ml(committee_df, state)\n",
    "    \n",
    "    print(\"End of Main\")"
   ]
  },
  {
   "cell_type": "code",
   "execution_count": null,
   "metadata": {
    "scrolled": false
   },
   "outputs": [],
   "source": [
    "committee_df = pd.read_sql_query('select * from \"committees\"', con=engine)"
   ]
  },
  {
   "cell_type": "code",
   "execution_count": null,
   "metadata": {
    "scrolled": false
   },
   "outputs": [],
   "source": [
    "main(committee_df)"
   ]
  },
  {
   "cell_type": "code",
   "execution_count": null,
   "metadata": {},
   "outputs": [],
   "source": []
  }
 ],
 "metadata": {
  "kernelspec": {
   "display_name": "Python 3",
   "language": "python",
   "name": "python3"
  },
  "language_info": {
   "codemirror_mode": {
    "name": "ipython",
    "version": 3
   },
   "file_extension": ".py",
   "mimetype": "text/x-python",
   "name": "python",
   "nbconvert_exporter": "python",
   "pygments_lexer": "ipython3",
   "version": "3.7.6"
  }
 },
 "nbformat": 4,
 "nbformat_minor": 4
}
