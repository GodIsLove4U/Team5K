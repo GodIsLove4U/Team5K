{
 "cells": [
  {
   "cell_type": "code",
   "execution_count": 1,
   "metadata": {},
   "outputs": [],
   "source": [
    "# Import dependencies\n",
    "from sqlalchemy import create_engine\n",
    "from sqlalchemy.orm import sessionmaker\n",
    "import json\n",
    "import pandas as pd\n",
    "from pandas.io import sql\n",
    "import numpy as np\n",
    "from sklearn.linear_model import LinearRegression\n",
    "import matplotlib.pyplot as plt\n",
    "import datetime\n",
    "from sklearn.model_selection import train_test_split\n",
    "from sklearn.preprocessing import StandardScaler, OneHotEncoder, LabelEncoder, MinMaxScaler\n",
    "from sklearn.metrics import confusion_matrix, classification_report, accuracy_score, recall_score, precision_score, f1_score   \n",
    "from sklearn.linear_model import LogisticRegression\n",
    "from sklearn.ensemble import RandomForestClassifier\n",
    "import numpy\n",
    "from mpl_toolkits.mplot3d import Axes3D\n",
    "import seaborn as sns\n",
    "from sklearn.metrics import r2_score\n",
    "from consts import *\n",
    "from sklearn.svm import SVC\n",
    "%matplotlib inline"
   ]
  },
  {
   "cell_type": "code",
   "execution_count": 2,
   "metadata": {},
   "outputs": [],
   "source": [
    "# Connecting to Postgres instance\n",
    "engine = create_engine(CREATE_ENGINE_STR)"
   ]
  },
  {
   "cell_type": "code",
   "execution_count": 3,
   "metadata": {},
   "outputs": [
    {
     "name": "stdout",
     "output_type": "stream",
     "text": [
<<<<<<< HEAD
      "['committees', 'candidates', 'education', 'six_state_donations', 'health_results', 'donations', 'classifying_results', 'health_metrics', 'agg_county_votes', 'birth_death_rate', 'postal_codes', 'res_lr', 'agg_county_donors', 'pres_votes_6t', 'unemployment', 'res_log']\n"
=======
      "['committees', 'candidates', 'education', 'six_state_donations', 'res_log', 'health_results', 'donations', 'classifying_results', 'health_metrics', 'agg_county_votes', 'birth_death_rate', 'postal_codes', 'res_lr', 'agg_county_donors', 'pres_votes_6t', 'unemployment']\n"
>>>>>>> 5b4fdd2f8a8c82176b29946ef948975fe4fd17ff
     ]
    }
   ],
   "source": [
    "# Printing info for table names \n",
    "print (engine.table_names())"
   ]
  },
  {
   "cell_type": "code",
   "execution_count": 4,
   "metadata": {},
   "outputs": [],
   "source": [
    "#Get all donation records for a single state and return it in a dataframe\n",
    "def donor_state_query(state):\n",
    "    #Run queries to get all donation records from the states into dfs\n",
    "    #select_sql = f'select * from {TABLE_SIX_STATE_DONATIONS} where \"STATE\"=\\'{state.upper()}\\''\n",
    "    select_sql = f'select * from {TABLE_SIX_STATE_DONATIONS} where \"STATE\"=\\'{state.upper()}\\' LIMIT 10000'\n",
    "    donor_df = pd.read_sql_query(select_sql, con=engine)\n",
    "    return donor_df"
   ]
  },
  {
   "cell_type": "code",
   "execution_count": 5,
   "metadata": {},
   "outputs": [],
   "source": [
    "committee_df = pd.read_sql_query('select * from \"committees\"', con=engine)"
   ]
  },
  {
   "cell_type": "code",
   "execution_count": 6,
   "metadata": {},
   "outputs": [],
   "source": [
    "state = \"FL\""
   ]
  },
  {
   "cell_type": "code",
   "execution_count": 7,
<<<<<<< HEAD
=======
   "metadata": {},
   "outputs": [],
   "source": [
    "donor_df = donor_state_query(state)"
   ]
  },
  {
   "cell_type": "code",
   "execution_count": 8,
>>>>>>> 5b4fdd2f8a8c82176b29946ef948975fe4fd17ff
   "metadata": {},
   "outputs": [],
   "source": [
    "donor_df = committee_df.merge(donor_df, left_on='CMTE_ID', right_on='CMTE_ID')"
   ]
  },
  {
   "cell_type": "code",
<<<<<<< HEAD
   "execution_count": 8,
=======
   "execution_count": 9,
>>>>>>> 5b4fdd2f8a8c82176b29946ef948975fe4fd17ff
   "metadata": {},
   "outputs": [],
   "source": [
    "donor_df = merge_cmtid_party(donor_df)"
   ]
  },
  {
   "cell_type": "code",
<<<<<<< HEAD
   "execution_count": 9,
=======
   "execution_count": 10,
>>>>>>> 5b4fdd2f8a8c82176b29946ef948975fe4fd17ff
   "metadata": {},
   "outputs": [],
   "source": [
    "y_params = [\"party\"]\n",
    "X_params = [\"CMTE_CITY\", \"CMTE_ST\", \"CMTE_ZIP\", \"EMPLOYER\", \"OCCUPATION\", \"TRANSACTION_AMT\"]\n",
    "params = [\"party\",\"CMTE_CITY\", \"CMTE_ST\", \"CMTE_ZIP\", \"EMPLOYER\", \"OCCUPATION\", \"TRANSACTION_AMT\"]"
   ]
  },
  {
   "cell_type": "code",
<<<<<<< HEAD
   "execution_count": 10,
=======
   "execution_count": 11,
>>>>>>> 5b4fdd2f8a8c82176b29946ef948975fe4fd17ff
   "metadata": {},
   "outputs": [
    {
     "data": {
      "text/html": [
       "<div>\n",
       "<style scoped>\n",
       "    .dataframe tbody tr th:only-of-type {\n",
       "        vertical-align: middle;\n",
       "    }\n",
       "\n",
       "    .dataframe tbody tr th {\n",
       "        vertical-align: top;\n",
       "    }\n",
       "\n",
       "    .dataframe thead th {\n",
       "        text-align: right;\n",
       "    }\n",
       "</style>\n",
       "<table border=\"1\" class=\"dataframe\">\n",
       "  <thead>\n",
       "    <tr style=\"text-align: right;\">\n",
       "      <th></th>\n",
       "      <th>CMTE_ID</th>\n",
       "      <th>CMTE_NM</th>\n",
       "      <th>TRES_NM</th>\n",
       "      <th>CMTE_ST1</th>\n",
       "      <th>CMTE_ST2</th>\n",
       "      <th>CMTE_CITY</th>\n",
       "      <th>CMTE_ST</th>\n",
       "      <th>CMTE_ZIP</th>\n",
       "      <th>CMTE_DSGN</th>\n",
       "      <th>CMTE_TP</th>\n",
       "      <th>...</th>\n",
       "      <th>OCCUPATION</th>\n",
       "      <th>TRANSACTION_DT</th>\n",
       "      <th>TRANSACTION_AMT</th>\n",
       "      <th>OTHER_ID</th>\n",
       "      <th>TRAN_ID</th>\n",
       "      <th>FILE_NUM</th>\n",
       "      <th>MEMO_CD</th>\n",
       "      <th>MEMO_TEXT</th>\n",
       "      <th>SUB_ID</th>\n",
       "      <th>party</th>\n",
       "    </tr>\n",
       "  </thead>\n",
       "  <tbody>\n",
       "    <tr>\n",
       "      <th>0</th>\n",
<<<<<<< HEAD
       "      <td>C00002089</td>\n",
       "      <td>CWA-COPE POLITICAL CONTRIBUTIONS COMMITTEE</td>\n",
       "      <td>BARBARA J EASTERLING</td>\n",
       "      <td>501 THIRD STREET NW</td>\n",
       "      <td>None</td>\n",
       "      <td>WASHINGTON</td>\n",
       "      <td>DC</td>\n",
       "      <td>20001</td>\n",
       "      <td>U</td>\n",
       "      <td>Q</td>\n",
       "      <td>...</td>\n",
       "      <td>SERVICE TECH</td>\n",
       "      <td>07072016</td>\n",
       "      <td>40</td>\n",
       "      <td>None</td>\n",
       "      <td>C25371856</td>\n",
       "      <td>1125051</td>\n",
       "      <td>None</td>\n",
       "      <td>* PAYROLL DEDUCTION: $40 MONTHLY</td>\n",
       "      <td>4120120161356398690</td>\n",
       "      <td>N/A</td>\n",
       "    </tr>\n",
       "    <tr>\n",
       "      <th>1</th>\n",
       "      <td>C00002089</td>\n",
       "      <td>CWA-COPE POLITICAL CONTRIBUTIONS COMMITTEE</td>\n",
       "      <td>BARBARA J EASTERLING</td>\n",
       "      <td>501 THIRD STREET NW</td>\n",
       "      <td>None</td>\n",
       "      <td>WASHINGTON</td>\n",
       "      <td>DC</td>\n",
       "      <td>20001</td>\n",
       "      <td>U</td>\n",
       "      <td>Q</td>\n",
       "      <td>...</td>\n",
       "      <td>None</td>\n",
       "      <td>07072016</td>\n",
       "      <td>30</td>\n",
       "      <td>None</td>\n",
       "      <td>C25371759</td>\n",
       "      <td>1125051</td>\n",
       "      <td>None</td>\n",
       "      <td>* PAYROLL DEDUCTION: $30 MONTHLY</td>\n",
       "      <td>4120120161356400345</td>\n",
       "      <td>N/A</td>\n",
       "    </tr>\n",
       "    <tr>\n",
       "      <th>2</th>\n",
       "      <td>C00002089</td>\n",
       "      <td>CWA-COPE POLITICAL CONTRIBUTIONS COMMITTEE</td>\n",
       "      <td>BARBARA J EASTERLING</td>\n",
       "      <td>501 THIRD STREET NW</td>\n",
       "      <td>None</td>\n",
       "      <td>WASHINGTON</td>\n",
       "      <td>DC</td>\n",
       "      <td>20001</td>\n",
       "      <td>U</td>\n",
       "      <td>Q</td>\n",
       "      <td>...</td>\n",
       "      <td>ORGANIZING COORDINATOR</td>\n",
       "      <td>07212016</td>\n",
       "      <td>48</td>\n",
       "      <td>None</td>\n",
       "      <td>C25372084</td>\n",
       "      <td>1125051</td>\n",
       "      <td>None</td>\n",
       "      <td>* PAYROLL DEDUCTION: $24 BI-WEEKLY</td>\n",
       "      <td>4120120161356399864</td>\n",
       "      <td>N/A</td>\n",
       "    </tr>\n",
       "    <tr>\n",
       "      <th>3</th>\n",
       "      <td>C00002089</td>\n",
       "      <td>CWA-COPE POLITICAL CONTRIBUTIONS COMMITTEE</td>\n",
       "      <td>BARBARA J EASTERLING</td>\n",
       "      <td>501 THIRD STREET NW</td>\n",
       "      <td>None</td>\n",
       "      <td>WASHINGTON</td>\n",
       "      <td>DC</td>\n",
       "      <td>20001</td>\n",
       "      <td>U</td>\n",
       "      <td>Q</td>\n",
       "      <td>...</td>\n",
       "      <td>CSA</td>\n",
       "      <td>07072016</td>\n",
       "      <td>40</td>\n",
       "      <td>None</td>\n",
       "      <td>C25373324</td>\n",
       "      <td>1125051</td>\n",
       "      <td>None</td>\n",
       "      <td>* PAYROLL DEDUCTION: $40 MONTHLY</td>\n",
       "      <td>4120120161356399618</td>\n",
       "      <td>N/A</td>\n",
       "    </tr>\n",
       "    <tr>\n",
       "      <th>4</th>\n",
       "      <td>C00002089</td>\n",
       "      <td>CWA-COPE POLITICAL CONTRIBUTIONS COMMITTEE</td>\n",
       "      <td>BARBARA J EASTERLING</td>\n",
       "      <td>501 THIRD STREET NW</td>\n",
       "      <td>None</td>\n",
       "      <td>WASHINGTON</td>\n",
       "      <td>DC</td>\n",
       "      <td>20001</td>\n",
       "      <td>U</td>\n",
       "      <td>Q</td>\n",
       "      <td>...</td>\n",
       "      <td>FACILITY TECH</td>\n",
       "      <td>07072016</td>\n",
       "      <td>40</td>\n",
       "      <td>None</td>\n",
       "      <td>C25371773</td>\n",
       "      <td>1125051</td>\n",
       "      <td>None</td>\n",
       "      <td>* PAYROLL DEDUCTION: $40 MONTHLY</td>\n",
       "      <td>4120120161356400283</td>\n",
       "      <td>N/A</td>\n",
=======
       "      <td>C00002469</td>\n",
       "      <td>MACHINISTS NON-PARTISAN POLITICAL LEAGUE</td>\n",
       "      <td>DONALD E WHARTON</td>\n",
       "      <td>9000 MACHINISTS PLACE</td>\n",
       "      <td>.</td>\n",
       "      <td>UPPER MARLBORO</td>\n",
       "      <td>MD</td>\n",
       "      <td>20772</td>\n",
       "      <td>U</td>\n",
       "      <td>Q</td>\n",
       "      <td>...</td>\n",
       "      <td>GRAND LODGE REPRESENTATIVE</td>\n",
       "      <td>09212016</td>\n",
       "      <td>50</td>\n",
       "      <td>None</td>\n",
       "      <td>23425761</td>\n",
       "      <td>1102220</td>\n",
       "      <td>None</td>\n",
       "      <td>None</td>\n",
       "      <td>4100420161340616481</td>\n",
       "      <td>other</td>\n",
       "    </tr>\n",
       "    <tr>\n",
       "      <th>1</th>\n",
       "      <td>C00002469</td>\n",
       "      <td>MACHINISTS NON-PARTISAN POLITICAL LEAGUE</td>\n",
       "      <td>DONALD E WHARTON</td>\n",
       "      <td>9000 MACHINISTS PLACE</td>\n",
       "      <td>.</td>\n",
       "      <td>UPPER MARLBORO</td>\n",
       "      <td>MD</td>\n",
       "      <td>20772</td>\n",
       "      <td>U</td>\n",
       "      <td>Q</td>\n",
       "      <td>...</td>\n",
       "      <td>TCU INT'L REPRESENTATIVE</td>\n",
       "      <td>09212016</td>\n",
       "      <td>50</td>\n",
       "      <td>None</td>\n",
       "      <td>23425820</td>\n",
       "      <td>1102220</td>\n",
       "      <td>None</td>\n",
       "      <td>None</td>\n",
       "      <td>4100420161340616510</td>\n",
       "      <td>other</td>\n",
       "    </tr>\n",
       "    <tr>\n",
       "      <th>2</th>\n",
       "      <td>C00002469</td>\n",
       "      <td>MACHINISTS NON-PARTISAN POLITICAL LEAGUE</td>\n",
       "      <td>DONALD E WHARTON</td>\n",
       "      <td>9000 MACHINISTS PLACE</td>\n",
       "      <td>.</td>\n",
       "      <td>UPPER MARLBORO</td>\n",
       "      <td>MD</td>\n",
       "      <td>20772</td>\n",
       "      <td>U</td>\n",
       "      <td>Q</td>\n",
       "      <td>...</td>\n",
       "      <td>BUSINESS REPRESENTATIVE</td>\n",
       "      <td>09302016</td>\n",
       "      <td>25</td>\n",
       "      <td>None</td>\n",
       "      <td>PR244586139933</td>\n",
       "      <td>1102220</td>\n",
       "      <td>None</td>\n",
       "      <td>P/R DEDUCTION ($25.00 MONTHLY)</td>\n",
       "      <td>4100420161340617129</td>\n",
       "      <td>other</td>\n",
       "    </tr>\n",
       "    <tr>\n",
       "      <th>3</th>\n",
       "      <td>C00002469</td>\n",
       "      <td>MACHINISTS NON-PARTISAN POLITICAL LEAGUE</td>\n",
       "      <td>DONALD E WHARTON</td>\n",
       "      <td>9000 MACHINISTS PLACE</td>\n",
       "      <td>.</td>\n",
       "      <td>UPPER MARLBORO</td>\n",
       "      <td>MD</td>\n",
       "      <td>20772</td>\n",
       "      <td>U</td>\n",
       "      <td>Q</td>\n",
       "      <td>...</td>\n",
       "      <td>FLIGHT ATTENDANT</td>\n",
       "      <td>09302016</td>\n",
       "      <td>6</td>\n",
       "      <td>None</td>\n",
       "      <td>PR1943496539933</td>\n",
       "      <td>1102220</td>\n",
       "      <td>None</td>\n",
       "      <td>P/R DEDUCTION ($6.00 MONTHLY)</td>\n",
       "      <td>4100420161340617004</td>\n",
       "      <td>other</td>\n",
       "    </tr>\n",
       "    <tr>\n",
       "      <th>4</th>\n",
       "      <td>C00002469</td>\n",
       "      <td>MACHINISTS NON-PARTISAN POLITICAL LEAGUE</td>\n",
       "      <td>DONALD E WHARTON</td>\n",
       "      <td>9000 MACHINISTS PLACE</td>\n",
       "      <td>.</td>\n",
       "      <td>UPPER MARLBORO</td>\n",
       "      <td>MD</td>\n",
       "      <td>20772</td>\n",
       "      <td>U</td>\n",
       "      <td>Q</td>\n",
       "      <td>...</td>\n",
       "      <td>ADMINISTRATIVE ASSISTANT</td>\n",
       "      <td>09082016</td>\n",
       "      <td>600</td>\n",
       "      <td>None</td>\n",
       "      <td>23425079</td>\n",
       "      <td>1102220</td>\n",
       "      <td>None</td>\n",
       "      <td>None</td>\n",
       "      <td>4100420161340616200</td>\n",
       "      <td>other</td>\n",
>>>>>>> 5b4fdd2f8a8c82176b29946ef948975fe4fd17ff
       "    </tr>\n",
       "  </tbody>\n",
       "</table>\n",
       "<p>5 rows × 36 columns</p>\n",
       "</div>"
      ],
      "text/plain": [
<<<<<<< HEAD
       "     CMTE_ID                                     CMTE_NM  \\\n",
       "0  C00002089  CWA-COPE POLITICAL CONTRIBUTIONS COMMITTEE   \n",
       "1  C00002089  CWA-COPE POLITICAL CONTRIBUTIONS COMMITTEE   \n",
       "2  C00002089  CWA-COPE POLITICAL CONTRIBUTIONS COMMITTEE   \n",
       "3  C00002089  CWA-COPE POLITICAL CONTRIBUTIONS COMMITTEE   \n",
       "4  C00002089  CWA-COPE POLITICAL CONTRIBUTIONS COMMITTEE   \n",
       "\n",
       "                TRES_NM             CMTE_ST1 CMTE_ST2   CMTE_CITY CMTE_ST  \\\n",
       "0  BARBARA J EASTERLING  501 THIRD STREET NW     None  WASHINGTON      DC   \n",
       "1  BARBARA J EASTERLING  501 THIRD STREET NW     None  WASHINGTON      DC   \n",
       "2  BARBARA J EASTERLING  501 THIRD STREET NW     None  WASHINGTON      DC   \n",
       "3  BARBARA J EASTERLING  501 THIRD STREET NW     None  WASHINGTON      DC   \n",
       "4  BARBARA J EASTERLING  501 THIRD STREET NW     None  WASHINGTON      DC   \n",
       "\n",
       "  CMTE_ZIP CMTE_DSGN CMTE_TP  ...              OCCUPATION TRANSACTION_DT  \\\n",
       "0    20001         U       Q  ...            SERVICE TECH       07072016   \n",
       "1    20001         U       Q  ...                    None       07072016   \n",
       "2    20001         U       Q  ...  ORGANIZING COORDINATOR       07212016   \n",
       "3    20001         U       Q  ...                     CSA       07072016   \n",
       "4    20001         U       Q  ...           FACILITY TECH       07072016   \n",
       "\n",
       "  TRANSACTION_AMT OTHER_ID    TRAN_ID FILE_NUM MEMO_CD  \\\n",
       "0              40     None  C25371856  1125051    None   \n",
       "1              30     None  C25371759  1125051    None   \n",
       "2              48     None  C25372084  1125051    None   \n",
       "3              40     None  C25373324  1125051    None   \n",
       "4              40     None  C25371773  1125051    None   \n",
       "\n",
       "                            MEMO_TEXT               SUB_ID party  \n",
       "0    * PAYROLL DEDUCTION: $40 MONTHLY  4120120161356398690   N/A  \n",
       "1    * PAYROLL DEDUCTION: $30 MONTHLY  4120120161356400345   N/A  \n",
       "2  * PAYROLL DEDUCTION: $24 BI-WEEKLY  4120120161356399864   N/A  \n",
       "3    * PAYROLL DEDUCTION: $40 MONTHLY  4120120161356399618   N/A  \n",
       "4    * PAYROLL DEDUCTION: $40 MONTHLY  4120120161356400283   N/A  \n",
=======
       "     CMTE_ID                                   CMTE_NM           TRES_NM  \\\n",
       "0  C00002469  MACHINISTS NON-PARTISAN POLITICAL LEAGUE  DONALD E WHARTON   \n",
       "1  C00002469  MACHINISTS NON-PARTISAN POLITICAL LEAGUE  DONALD E WHARTON   \n",
       "2  C00002469  MACHINISTS NON-PARTISAN POLITICAL LEAGUE  DONALD E WHARTON   \n",
       "3  C00002469  MACHINISTS NON-PARTISAN POLITICAL LEAGUE  DONALD E WHARTON   \n",
       "4  C00002469  MACHINISTS NON-PARTISAN POLITICAL LEAGUE  DONALD E WHARTON   \n",
       "\n",
       "                CMTE_ST1 CMTE_ST2       CMTE_CITY CMTE_ST CMTE_ZIP CMTE_DSGN  \\\n",
       "0  9000 MACHINISTS PLACE        .  UPPER MARLBORO      MD    20772         U   \n",
       "1  9000 MACHINISTS PLACE        .  UPPER MARLBORO      MD    20772         U   \n",
       "2  9000 MACHINISTS PLACE        .  UPPER MARLBORO      MD    20772         U   \n",
       "3  9000 MACHINISTS PLACE        .  UPPER MARLBORO      MD    20772         U   \n",
       "4  9000 MACHINISTS PLACE        .  UPPER MARLBORO      MD    20772         U   \n",
       "\n",
       "  CMTE_TP  ...                  OCCUPATION TRANSACTION_DT TRANSACTION_AMT  \\\n",
       "0       Q  ...  GRAND LODGE REPRESENTATIVE       09212016              50   \n",
       "1       Q  ...    TCU INT'L REPRESENTATIVE       09212016              50   \n",
       "2       Q  ...     BUSINESS REPRESENTATIVE       09302016              25   \n",
       "3       Q  ...            FLIGHT ATTENDANT       09302016               6   \n",
       "4       Q  ...    ADMINISTRATIVE ASSISTANT       09082016             600   \n",
       "\n",
       "  OTHER_ID          TRAN_ID FILE_NUM MEMO_CD                       MEMO_TEXT  \\\n",
       "0     None         23425761  1102220    None                            None   \n",
       "1     None         23425820  1102220    None                            None   \n",
       "2     None   PR244586139933  1102220    None  P/R DEDUCTION ($25.00 MONTHLY)   \n",
       "3     None  PR1943496539933  1102220    None   P/R DEDUCTION ($6.00 MONTHLY)   \n",
       "4     None         23425079  1102220    None                            None   \n",
       "\n",
       "                SUB_ID  party  \n",
       "0  4100420161340616481  other  \n",
       "1  4100420161340616510  other  \n",
       "2  4100420161340617129  other  \n",
       "3  4100420161340617004  other  \n",
       "4  4100420161340616200  other  \n",
>>>>>>> 5b4fdd2f8a8c82176b29946ef948975fe4fd17ff
       "\n",
       "[5 rows x 36 columns]"
      ]
     },
<<<<<<< HEAD
     "execution_count": 10,
=======
     "execution_count": 11,
>>>>>>> 5b4fdd2f8a8c82176b29946ef948975fe4fd17ff
     "metadata": {},
     "output_type": "execute_result"
    }
   ],
   "source": [
    "donor_df.head()"
   ]
  },
  {
   "cell_type": "code",
<<<<<<< HEAD
   "execution_count": 11,
=======
   "execution_count": 12,
>>>>>>> 5b4fdd2f8a8c82176b29946ef948975fe4fd17ff
   "metadata": {},
   "outputs": [
    {
     "data": {
      "text/plain": [
       "['CMTE_CITY',\n",
       " 'CMTE_ST',\n",
       " 'CMTE_ZIP',\n",
       " 'EMPLOYER',\n",
       " 'OCCUPATION',\n",
       " 'TRANSACTION_AMT']"
      ]
     },
<<<<<<< HEAD
     "execution_count": 11,
=======
     "execution_count": 12,
>>>>>>> 5b4fdd2f8a8c82176b29946ef948975fe4fd17ff
     "metadata": {},
     "output_type": "execute_result"
    }
   ],
   "source": [
    "X_params"
   ]
  },
  {
   "cell_type": "code",
<<<<<<< HEAD
   "execution_count": 12,
=======
   "execution_count": 13,
>>>>>>> 5b4fdd2f8a8c82176b29946ef948975fe4fd17ff
   "metadata": {},
   "outputs": [],
   "source": [
    "donor_df2=donor_df[params]"
   ]
  },
  {
   "cell_type": "code",
<<<<<<< HEAD
   "execution_count": 13,
=======
   "execution_count": 14,
>>>>>>> 5b4fdd2f8a8c82176b29946ef948975fe4fd17ff
   "metadata": {},
   "outputs": [
    {
     "data": {
      "text/html": [
       "<div>\n",
       "<style scoped>\n",
       "    .dataframe tbody tr th:only-of-type {\n",
       "        vertical-align: middle;\n",
       "    }\n",
       "\n",
       "    .dataframe tbody tr th {\n",
       "        vertical-align: top;\n",
       "    }\n",
       "\n",
       "    .dataframe thead th {\n",
       "        text-align: right;\n",
       "    }\n",
       "</style>\n",
       "<table border=\"1\" class=\"dataframe\">\n",
       "  <thead>\n",
       "    <tr style=\"text-align: right;\">\n",
       "      <th></th>\n",
       "      <th>party</th>\n",
       "      <th>CMTE_CITY</th>\n",
       "      <th>CMTE_ST</th>\n",
       "      <th>CMTE_ZIP</th>\n",
       "      <th>EMPLOYER</th>\n",
       "      <th>OCCUPATION</th>\n",
       "      <th>TRANSACTION_AMT</th>\n",
       "    </tr>\n",
       "  </thead>\n",
       "  <tbody>\n",
       "    <tr>\n",
       "      <th>0</th>\n",
<<<<<<< HEAD
       "      <td>N/A</td>\n",
       "      <td>WASHINGTON</td>\n",
       "      <td>DC</td>\n",
       "      <td>20001</td>\n",
       "      <td>BELLSOUTH TELECOMMS</td>\n",
       "      <td>SERVICE TECH</td>\n",
       "      <td>40</td>\n",
       "    </tr>\n",
       "    <tr>\n",
       "      <th>1</th>\n",
       "      <td>N/A</td>\n",
       "      <td>WASHINGTON</td>\n",
       "      <td>DC</td>\n",
       "      <td>20001</td>\n",
       "      <td>BELLSOUTH TELECOMMS</td>\n",
       "      <td>None</td>\n",
       "      <td>30</td>\n",
       "    </tr>\n",
       "    <tr>\n",
       "      <th>2</th>\n",
       "      <td>N/A</td>\n",
       "      <td>WASHINGTON</td>\n",
       "      <td>DC</td>\n",
       "      <td>20001</td>\n",
       "      <td>COMM. WORKERS OF AMER.</td>\n",
       "      <td>ORGANIZING COORDINATOR</td>\n",
       "      <td>48</td>\n",
       "    </tr>\n",
       "    <tr>\n",
       "      <th>3</th>\n",
       "      <td>N/A</td>\n",
       "      <td>WASHINGTON</td>\n",
       "      <td>DC</td>\n",
       "      <td>20001</td>\n",
       "      <td>BELLSOUTH TELECOMMS</td>\n",
       "      <td>CSA</td>\n",
       "      <td>40</td>\n",
       "    </tr>\n",
       "    <tr>\n",
       "      <th>4</th>\n",
       "      <td>N/A</td>\n",
       "      <td>WASHINGTON</td>\n",
       "      <td>DC</td>\n",
       "      <td>20001</td>\n",
       "      <td>BELLSOUTH TELECOMMS</td>\n",
       "      <td>FACILITY TECH</td>\n",
       "      <td>40</td>\n",
=======
       "      <td>other</td>\n",
       "      <td>UPPER MARLBORO</td>\n",
       "      <td>MD</td>\n",
       "      <td>20772</td>\n",
       "      <td>INT'L ASSOCIATION OF MACHINISTS</td>\n",
       "      <td>GRAND LODGE REPRESENTATIVE</td>\n",
       "      <td>50</td>\n",
       "    </tr>\n",
       "    <tr>\n",
       "      <th>1</th>\n",
       "      <td>other</td>\n",
       "      <td>UPPER MARLBORO</td>\n",
       "      <td>MD</td>\n",
       "      <td>20772</td>\n",
       "      <td>TRANSPORTATION COMMUNICATIONS UNION</td>\n",
       "      <td>TCU INT'L REPRESENTATIVE</td>\n",
       "      <td>50</td>\n",
       "    </tr>\n",
       "    <tr>\n",
       "      <th>2</th>\n",
       "      <td>other</td>\n",
       "      <td>UPPER MARLBORO</td>\n",
       "      <td>MD</td>\n",
       "      <td>20772</td>\n",
       "      <td>RETIRED</td>\n",
       "      <td>BUSINESS REPRESENTATIVE</td>\n",
       "      <td>25</td>\n",
       "    </tr>\n",
       "    <tr>\n",
       "      <th>3</th>\n",
       "      <td>other</td>\n",
       "      <td>UPPER MARLBORO</td>\n",
       "      <td>MD</td>\n",
       "      <td>20772</td>\n",
       "      <td>EXPRESSJET</td>\n",
       "      <td>FLIGHT ATTENDANT</td>\n",
       "      <td>6</td>\n",
       "    </tr>\n",
       "    <tr>\n",
       "      <th>4</th>\n",
       "      <td>other</td>\n",
       "      <td>UPPER MARLBORO</td>\n",
       "      <td>MD</td>\n",
       "      <td>20772</td>\n",
       "      <td>RETIRED</td>\n",
       "      <td>ADMINISTRATIVE ASSISTANT</td>\n",
       "      <td>600</td>\n",
>>>>>>> 5b4fdd2f8a8c82176b29946ef948975fe4fd17ff
       "    </tr>\n",
       "  </tbody>\n",
       "</table>\n",
       "</div>"
      ],
      "text/plain": [
<<<<<<< HEAD
       "  party   CMTE_CITY CMTE_ST CMTE_ZIP                EMPLOYER  \\\n",
       "0   N/A  WASHINGTON      DC    20001     BELLSOUTH TELECOMMS   \n",
       "1   N/A  WASHINGTON      DC    20001     BELLSOUTH TELECOMMS   \n",
       "2   N/A  WASHINGTON      DC    20001  COMM. WORKERS OF AMER.   \n",
       "3   N/A  WASHINGTON      DC    20001     BELLSOUTH TELECOMMS   \n",
       "4   N/A  WASHINGTON      DC    20001     BELLSOUTH TELECOMMS   \n",
       "\n",
       "               OCCUPATION  TRANSACTION_AMT  \n",
       "0            SERVICE TECH               40  \n",
       "1                    None               30  \n",
       "2  ORGANIZING COORDINATOR               48  \n",
       "3                     CSA               40  \n",
       "4           FACILITY TECH               40  "
      ]
     },
     "execution_count": 13,
=======
       "   party       CMTE_CITY CMTE_ST CMTE_ZIP  \\\n",
       "0  other  UPPER MARLBORO      MD    20772   \n",
       "1  other  UPPER MARLBORO      MD    20772   \n",
       "2  other  UPPER MARLBORO      MD    20772   \n",
       "3  other  UPPER MARLBORO      MD    20772   \n",
       "4  other  UPPER MARLBORO      MD    20772   \n",
       "\n",
       "                              EMPLOYER                  OCCUPATION  \\\n",
       "0      INT'L ASSOCIATION OF MACHINISTS  GRAND LODGE REPRESENTATIVE   \n",
       "1  TRANSPORTATION COMMUNICATIONS UNION    TCU INT'L REPRESENTATIVE   \n",
       "2                              RETIRED     BUSINESS REPRESENTATIVE   \n",
       "3                           EXPRESSJET            FLIGHT ATTENDANT   \n",
       "4                              RETIRED    ADMINISTRATIVE ASSISTANT   \n",
       "\n",
       "   TRANSACTION_AMT  \n",
       "0               50  \n",
       "1               50  \n",
       "2               25  \n",
       "3                6  \n",
       "4              600  "
      ]
     },
     "execution_count": 14,
>>>>>>> 5b4fdd2f8a8c82176b29946ef948975fe4fd17ff
     "metadata": {},
     "output_type": "execute_result"
    }
   ],
   "source": [
    "donor_df2.head()"
   ]
  },
  {
   "cell_type": "code",
<<<<<<< HEAD
   "execution_count": 14,
=======
   "execution_count": 15,
>>>>>>> 5b4fdd2f8a8c82176b29946ef948975fe4fd17ff
   "metadata": {},
   "outputs": [
    {
     "data": {
      "text/plain": [
       "party              object\n",
       "CMTE_CITY          object\n",
       "CMTE_ST            object\n",
       "CMTE_ZIP           object\n",
       "EMPLOYER           object\n",
       "OCCUPATION         object\n",
       "TRANSACTION_AMT     int64\n",
       "dtype: object"
      ]
     },
<<<<<<< HEAD
     "execution_count": 14,
=======
     "execution_count": 15,
>>>>>>> 5b4fdd2f8a8c82176b29946ef948975fe4fd17ff
     "metadata": {},
     "output_type": "execute_result"
    }
   ],
   "source": [
    "donor_df2.dtypes"
   ]
  },
  {
   "cell_type": "code",
<<<<<<< HEAD
   "execution_count": 15,
=======
   "execution_count": 16,
>>>>>>> 5b4fdd2f8a8c82176b29946ef948975fe4fd17ff
   "metadata": {},
   "outputs": [
    {
     "name": "stderr",
     "output_type": "stream",
     "text": [
<<<<<<< HEAD
      "C:\\Users\\dcohen\\.conda\\envs\\PythonData\\lib\\site-packages\\pandas\\core\\frame.py:2963: SettingWithCopyWarning: \n",
=======
      "/Users/C454479/opt/anaconda3/lib/python3.7/site-packages/pandas/core/frame.py:2963: SettingWithCopyWarning: \n",
>>>>>>> 5b4fdd2f8a8c82176b29946ef948975fe4fd17ff
      "A value is trying to be set on a copy of a slice from a DataFrame.\n",
      "Try using .loc[row_indexer,col_indexer] = value instead\n",
      "\n",
      "See the caveats in the documentation: https://pandas.pydata.org/pandas-docs/stable/user_guide/indexing.html#returning-a-view-versus-a-copy\n",
      "  self[k1] = value[k2]\n"
     ]
    }
   ],
   "source": [
    "donor_df2[[\"EMPLOYER_STRING\"]]=donor_df2[[\"EMPLOYER\"]].astype(str)\n",
    "donor_df2[[\"OCCUPATION_STRING\"]]=donor_df2[[\"OCCUPATION\"]].astype(str)"
   ]
  },
  {
   "cell_type": "code",
<<<<<<< HEAD
   "execution_count": 16,
=======
   "execution_count": 17,
>>>>>>> 5b4fdd2f8a8c82176b29946ef948975fe4fd17ff
   "metadata": {},
   "outputs": [
    {
     "name": "stderr",
     "output_type": "stream",
     "text": [
<<<<<<< HEAD
      "C:\\Users\\dcohen\\.conda\\envs\\PythonData\\lib\\site-packages\\ipykernel_launcher.py:5: SettingWithCopyWarning: \n",
=======
      "/Users/C454479/opt/anaconda3/lib/python3.7/site-packages/ipykernel_launcher.py:5: SettingWithCopyWarning: \n",
>>>>>>> 5b4fdd2f8a8c82176b29946ef948975fe4fd17ff
      "A value is trying to be set on a copy of a slice from a DataFrame.\n",
      "Try using .loc[row_indexer,col_indexer] = value instead\n",
      "\n",
      "See the caveats in the documentation: https://pandas.pydata.org/pandas-docs/stable/user_guide/indexing.html#returning-a-view-versus-a-copy\n",
      "  \"\"\"\n",
<<<<<<< HEAD
      "C:\\Users\\dcohen\\.conda\\envs\\PythonData\\lib\\site-packages\\ipykernel_launcher.py:6: SettingWithCopyWarning: \n",
=======
      "/Users/C454479/opt/anaconda3/lib/python3.7/site-packages/ipykernel_launcher.py:6: SettingWithCopyWarning: \n",
>>>>>>> 5b4fdd2f8a8c82176b29946ef948975fe4fd17ff
      "A value is trying to be set on a copy of a slice from a DataFrame.\n",
      "Try using .loc[row_indexer,col_indexer] = value instead\n",
      "\n",
      "See the caveats in the documentation: https://pandas.pydata.org/pandas-docs/stable/user_guide/indexing.html#returning-a-view-versus-a-copy\n",
      "  \n",
<<<<<<< HEAD
      "C:\\Users\\dcohen\\.conda\\envs\\PythonData\\lib\\site-packages\\ipykernel_launcher.py:7: SettingWithCopyWarning: \n",
=======
      "/Users/C454479/opt/anaconda3/lib/python3.7/site-packages/ipykernel_launcher.py:7: SettingWithCopyWarning: \n",
>>>>>>> 5b4fdd2f8a8c82176b29946ef948975fe4fd17ff
      "A value is trying to be set on a copy of a slice from a DataFrame.\n",
      "Try using .loc[row_indexer,col_indexer] = value instead\n",
      "\n",
      "See the caveats in the documentation: https://pandas.pydata.org/pandas-docs/stable/user_guide/indexing.html#returning-a-view-versus-a-copy\n",
      "  import sys\n",
<<<<<<< HEAD
      "C:\\Users\\dcohen\\.conda\\envs\\PythonData\\lib\\site-packages\\ipykernel_launcher.py:8: SettingWithCopyWarning: \n",
=======
      "/Users/C454479/opt/anaconda3/lib/python3.7/site-packages/ipykernel_launcher.py:8: SettingWithCopyWarning: \n",
>>>>>>> 5b4fdd2f8a8c82176b29946ef948975fe4fd17ff
      "A value is trying to be set on a copy of a slice from a DataFrame.\n",
      "Try using .loc[row_indexer,col_indexer] = value instead\n",
      "\n",
      "See the caveats in the documentation: https://pandas.pydata.org/pandas-docs/stable/user_guide/indexing.html#returning-a-view-versus-a-copy\n",
      "  \n",
<<<<<<< HEAD
      "C:\\Users\\dcohen\\.conda\\envs\\PythonData\\lib\\site-packages\\ipykernel_launcher.py:9: SettingWithCopyWarning: \n",
=======
      "/Users/C454479/opt/anaconda3/lib/python3.7/site-packages/ipykernel_launcher.py:9: SettingWithCopyWarning: \n",
>>>>>>> 5b4fdd2f8a8c82176b29946ef948975fe4fd17ff
      "A value is trying to be set on a copy of a slice from a DataFrame.\n",
      "Try using .loc[row_indexer,col_indexer] = value instead\n",
      "\n",
      "See the caveats in the documentation: https://pandas.pydata.org/pandas-docs/stable/user_guide/indexing.html#returning-a-view-versus-a-copy\n",
      "  if __name__ == '__main__':\n",
<<<<<<< HEAD
      "C:\\Users\\dcohen\\.conda\\envs\\PythonData\\lib\\site-packages\\ipykernel_launcher.py:10: SettingWithCopyWarning: \n",
=======
      "/Users/C454479/opt/anaconda3/lib/python3.7/site-packages/ipykernel_launcher.py:10: SettingWithCopyWarning: \n",
>>>>>>> 5b4fdd2f8a8c82176b29946ef948975fe4fd17ff
      "A value is trying to be set on a copy of a slice from a DataFrame.\n",
      "Try using .loc[row_indexer,col_indexer] = value instead\n",
      "\n",
      "See the caveats in the documentation: https://pandas.pydata.org/pandas-docs/stable/user_guide/indexing.html#returning-a-view-versus-a-copy\n",
      "  # Remove the CWD from sys.path while we load stuff.\n"
     ]
    },
    {
     "data": {
      "text/html": [
       "<div>\n",
       "<style scoped>\n",
       "    .dataframe tbody tr th:only-of-type {\n",
       "        vertical-align: middle;\n",
       "    }\n",
       "\n",
       "    .dataframe tbody tr th {\n",
       "        vertical-align: top;\n",
       "    }\n",
       "\n",
       "    .dataframe thead th {\n",
       "        text-align: right;\n",
       "    }\n",
       "</style>\n",
       "<table border=\"1\" class=\"dataframe\">\n",
       "  <thead>\n",
       "    <tr style=\"text-align: right;\">\n",
       "      <th></th>\n",
       "      <th>party</th>\n",
       "      <th>CMTE_CITY</th>\n",
       "      <th>CMTE_ST</th>\n",
       "      <th>CMTE_ZIP</th>\n",
       "      <th>EMPLOYER</th>\n",
       "      <th>OCCUPATION</th>\n",
       "      <th>TRANSACTION_AMT</th>\n",
       "      <th>EMPLOYER_STRING</th>\n",
       "      <th>OCCUPATION_STRING</th>\n",
       "    </tr>\n",
       "  </thead>\n",
       "  <tbody>\n",
       "    <tr>\n",
       "      <th>0</th>\n",
<<<<<<< HEAD
       "      <td>0</td>\n",
       "      <td>222</td>\n",
       "      <td>7</td>\n",
       "      <td>49</td>\n",
       "      <td>BELLSOUTH TELECOMMS</td>\n",
       "      <td>SERVICE TECH</td>\n",
       "      <td>40</td>\n",
       "      <td>201</td>\n",
       "      <td>1636</td>\n",
       "    </tr>\n",
       "    <tr>\n",
       "      <th>1</th>\n",
       "      <td>0</td>\n",
       "      <td>222</td>\n",
       "      <td>7</td>\n",
       "      <td>49</td>\n",
       "      <td>BELLSOUTH TELECOMMS</td>\n",
       "      <td>None</td>\n",
       "      <td>30</td>\n",
       "      <td>201</td>\n",
       "      <td>1217</td>\n",
       "    </tr>\n",
       "    <tr>\n",
       "      <th>2</th>\n",
       "      <td>0</td>\n",
       "      <td>222</td>\n",
       "      <td>7</td>\n",
       "      <td>49</td>\n",
       "      <td>COMM. WORKERS OF AMER.</td>\n",
       "      <td>ORGANIZING COORDINATOR</td>\n",
       "      <td>48</td>\n",
       "      <td>425</td>\n",
       "      <td>1238</td>\n",
       "    </tr>\n",
       "    <tr>\n",
       "      <th>3</th>\n",
       "      <td>0</td>\n",
       "      <td>222</td>\n",
       "      <td>7</td>\n",
       "      <td>49</td>\n",
       "      <td>BELLSOUTH TELECOMMS</td>\n",
       "      <td>CSA</td>\n",
       "      <td>40</td>\n",
       "      <td>201</td>\n",
       "      <td>378</td>\n",
       "    </tr>\n",
       "    <tr>\n",
       "      <th>4</th>\n",
       "      <td>0</td>\n",
       "      <td>222</td>\n",
       "      <td>7</td>\n",
       "      <td>49</td>\n",
       "      <td>BELLSOUTH TELECOMMS</td>\n",
       "      <td>FACILITY TECH</td>\n",
       "      <td>40</td>\n",
       "      <td>201</td>\n",
       "      <td>729</td>\n",
=======
       "      <td>2</td>\n",
       "      <td>163</td>\n",
       "      <td>17</td>\n",
       "      <td>59</td>\n",
       "      <td>INT'L ASSOCIATION OF MACHINISTS</td>\n",
       "      <td>GRAND LODGE REPRESENTATIVE</td>\n",
       "      <td>50</td>\n",
       "      <td>598</td>\n",
       "      <td>523</td>\n",
       "    </tr>\n",
       "    <tr>\n",
       "      <th>1</th>\n",
       "      <td>2</td>\n",
       "      <td>163</td>\n",
       "      <td>17</td>\n",
       "      <td>59</td>\n",
       "      <td>TRANSPORTATION COMMUNICATIONS UNION</td>\n",
       "      <td>TCU INT'L REPRESENTATIVE</td>\n",
       "      <td>50</td>\n",
       "      <td>1274</td>\n",
       "      <td>1208</td>\n",
       "    </tr>\n",
       "    <tr>\n",
       "      <th>2</th>\n",
       "      <td>2</td>\n",
       "      <td>163</td>\n",
       "      <td>17</td>\n",
       "      <td>59</td>\n",
       "      <td>RETIRED</td>\n",
       "      <td>BUSINESS REPRESENTATIVE</td>\n",
       "      <td>25</td>\n",
       "      <td>1019</td>\n",
       "      <td>137</td>\n",
       "    </tr>\n",
       "    <tr>\n",
       "      <th>3</th>\n",
       "      <td>2</td>\n",
       "      <td>163</td>\n",
       "      <td>17</td>\n",
       "      <td>59</td>\n",
       "      <td>EXPRESSJET</td>\n",
       "      <td>FLIGHT ATTENDANT</td>\n",
       "      <td>6</td>\n",
       "      <td>398</td>\n",
       "      <td>487</td>\n",
       "    </tr>\n",
       "    <tr>\n",
       "      <th>4</th>\n",
       "      <td>2</td>\n",
       "      <td>163</td>\n",
       "      <td>17</td>\n",
       "      <td>59</td>\n",
       "      <td>RETIRED</td>\n",
       "      <td>ADMINISTRATIVE ASSISTANT</td>\n",
       "      <td>600</td>\n",
       "      <td>1019</td>\n",
       "      <td>21</td>\n",
>>>>>>> 5b4fdd2f8a8c82176b29946ef948975fe4fd17ff
       "    </tr>\n",
       "  </tbody>\n",
       "</table>\n",
       "</div>"
      ],
      "text/plain": [
<<<<<<< HEAD
       "   party  CMTE_CITY  CMTE_ST  CMTE_ZIP                EMPLOYER  \\\n",
       "0      0        222        7        49     BELLSOUTH TELECOMMS   \n",
       "1      0        222        7        49     BELLSOUTH TELECOMMS   \n",
       "2      0        222        7        49  COMM. WORKERS OF AMER.   \n",
       "3      0        222        7        49     BELLSOUTH TELECOMMS   \n",
       "4      0        222        7        49     BELLSOUTH TELECOMMS   \n",
       "\n",
       "               OCCUPATION  TRANSACTION_AMT  EMPLOYER_STRING  OCCUPATION_STRING  \n",
       "0            SERVICE TECH               40              201               1636  \n",
       "1                    None               30              201               1217  \n",
       "2  ORGANIZING COORDINATOR               48              425               1238  \n",
       "3                     CSA               40              201                378  \n",
       "4           FACILITY TECH               40              201                729  "
      ]
     },
     "execution_count": 16,
=======
       "   party  CMTE_CITY  CMTE_ST  CMTE_ZIP                             EMPLOYER  \\\n",
       "0      2        163       17        59      INT'L ASSOCIATION OF MACHINISTS   \n",
       "1      2        163       17        59  TRANSPORTATION COMMUNICATIONS UNION   \n",
       "2      2        163       17        59                              RETIRED   \n",
       "3      2        163       17        59                           EXPRESSJET   \n",
       "4      2        163       17        59                              RETIRED   \n",
       "\n",
       "                   OCCUPATION  TRANSACTION_AMT  EMPLOYER_STRING  \\\n",
       "0  GRAND LODGE REPRESENTATIVE               50              598   \n",
       "1    TCU INT'L REPRESENTATIVE               50             1274   \n",
       "2     BUSINESS REPRESENTATIVE               25             1019   \n",
       "3            FLIGHT ATTENDANT                6              398   \n",
       "4    ADMINISTRATIVE ASSISTANT              600             1019   \n",
       "\n",
       "   OCCUPATION_STRING  \n",
       "0                523  \n",
       "1               1208  \n",
       "2                137  \n",
       "3                487  \n",
       "4                 21  "
      ]
     },
     "execution_count": 17,
>>>>>>> 5b4fdd2f8a8c82176b29946ef948975fe4fd17ff
     "metadata": {},
     "output_type": "execute_result"
    }
   ],
   "source": [
    "from sklearn.preprocessing import LabelEncoder\n",
    "le = LabelEncoder()\n",
    "\n",
    "\n",
    "donor_df2[\"party\"] = le.fit_transform(donor_df2[\"party\"]) \n",
    "donor_df2[\"CMTE_CITY\"] = le.fit_transform(donor_df2[\"CMTE_CITY\"]) \n",
    "donor_df2[\"CMTE_ST\"] = le.fit_transform(donor_df2[\"CMTE_ST\"]) \n",
    "donor_df2[\"CMTE_ZIP\"] = le.fit_transform(donor_df2[\"CMTE_ZIP\"]) \n",
    "donor_df2[\"EMPLOYER_STRING\"] = le.fit_transform(donor_df2[\"EMPLOYER_STRING\"]) \n",
    "donor_df2[\"OCCUPATION_STRING\"] = le.fit_transform(donor_df2[\"OCCUPATION_STRING\"]) \n",
    "donor_df2.head()"
   ]
  },
  {
   "cell_type": "code",
<<<<<<< HEAD
   "execution_count": 17,
=======
   "execution_count": 18,
>>>>>>> 5b4fdd2f8a8c82176b29946ef948975fe4fd17ff
   "metadata": {},
   "outputs": [
    {
     "data": {
      "text/html": [
       "<div>\n",
       "<style scoped>\n",
       "    .dataframe tbody tr th:only-of-type {\n",
       "        vertical-align: middle;\n",
       "    }\n",
       "\n",
       "    .dataframe tbody tr th {\n",
       "        vertical-align: top;\n",
       "    }\n",
       "\n",
       "    .dataframe thead th {\n",
       "        text-align: right;\n",
       "    }\n",
       "</style>\n",
       "<table border=\"1\" class=\"dataframe\">\n",
       "  <thead>\n",
       "    <tr style=\"text-align: right;\">\n",
       "      <th></th>\n",
       "      <th>party</th>\n",
       "      <th>CMTE_CITY</th>\n",
       "      <th>CMTE_ST</th>\n",
       "      <th>CMTE_ZIP</th>\n",
       "      <th>TRANSACTION_AMT</th>\n",
       "      <th>EMPLOYER_STRING</th>\n",
       "      <th>OCCUPATION_STRING</th>\n",
       "    </tr>\n",
       "  </thead>\n",
       "  <tbody>\n",
       "    <tr>\n",
       "      <th>0</th>\n",
<<<<<<< HEAD
       "      <td>0</td>\n",
       "      <td>222</td>\n",
       "      <td>7</td>\n",
       "      <td>49</td>\n",
       "      <td>40</td>\n",
       "      <td>201</td>\n",
       "      <td>1636</td>\n",
       "    </tr>\n",
       "    <tr>\n",
       "      <th>1</th>\n",
       "      <td>0</td>\n",
       "      <td>222</td>\n",
       "      <td>7</td>\n",
       "      <td>49</td>\n",
       "      <td>30</td>\n",
       "      <td>201</td>\n",
       "      <td>1217</td>\n",
       "    </tr>\n",
       "    <tr>\n",
       "      <th>2</th>\n",
       "      <td>0</td>\n",
       "      <td>222</td>\n",
       "      <td>7</td>\n",
       "      <td>49</td>\n",
       "      <td>48</td>\n",
       "      <td>425</td>\n",
       "      <td>1238</td>\n",
       "    </tr>\n",
       "    <tr>\n",
       "      <th>3</th>\n",
       "      <td>0</td>\n",
       "      <td>222</td>\n",
       "      <td>7</td>\n",
       "      <td>49</td>\n",
       "      <td>40</td>\n",
       "      <td>201</td>\n",
       "      <td>378</td>\n",
       "    </tr>\n",
       "    <tr>\n",
       "      <th>4</th>\n",
       "      <td>0</td>\n",
       "      <td>222</td>\n",
       "      <td>7</td>\n",
       "      <td>49</td>\n",
       "      <td>40</td>\n",
       "      <td>201</td>\n",
       "      <td>729</td>\n",
=======
       "      <td>2</td>\n",
       "      <td>163</td>\n",
       "      <td>17</td>\n",
       "      <td>59</td>\n",
       "      <td>50</td>\n",
       "      <td>598</td>\n",
       "      <td>523</td>\n",
       "    </tr>\n",
       "    <tr>\n",
       "      <th>1</th>\n",
       "      <td>2</td>\n",
       "      <td>163</td>\n",
       "      <td>17</td>\n",
       "      <td>59</td>\n",
       "      <td>50</td>\n",
       "      <td>1274</td>\n",
       "      <td>1208</td>\n",
       "    </tr>\n",
       "    <tr>\n",
       "      <th>2</th>\n",
       "      <td>2</td>\n",
       "      <td>163</td>\n",
       "      <td>17</td>\n",
       "      <td>59</td>\n",
       "      <td>25</td>\n",
       "      <td>1019</td>\n",
       "      <td>137</td>\n",
       "    </tr>\n",
       "    <tr>\n",
       "      <th>3</th>\n",
       "      <td>2</td>\n",
       "      <td>163</td>\n",
       "      <td>17</td>\n",
       "      <td>59</td>\n",
       "      <td>6</td>\n",
       "      <td>398</td>\n",
       "      <td>487</td>\n",
       "    </tr>\n",
       "    <tr>\n",
       "      <th>4</th>\n",
       "      <td>2</td>\n",
       "      <td>163</td>\n",
       "      <td>17</td>\n",
       "      <td>59</td>\n",
       "      <td>600</td>\n",
       "      <td>1019</td>\n",
       "      <td>21</td>\n",
>>>>>>> 5b4fdd2f8a8c82176b29946ef948975fe4fd17ff
       "    </tr>\n",
       "  </tbody>\n",
       "</table>\n",
       "</div>"
      ],
      "text/plain": [
       "   party  CMTE_CITY  CMTE_ST  CMTE_ZIP  TRANSACTION_AMT  EMPLOYER_STRING  \\\n",
<<<<<<< HEAD
       "0      0        222        7        49               40              201   \n",
       "1      0        222        7        49               30              201   \n",
       "2      0        222        7        49               48              425   \n",
       "3      0        222        7        49               40              201   \n",
       "4      0        222        7        49               40              201   \n",
       "\n",
       "   OCCUPATION_STRING  \n",
       "0               1636  \n",
       "1               1217  \n",
       "2               1238  \n",
       "3                378  \n",
       "4                729  "
      ]
     },
     "execution_count": 17,
=======
       "0      2        163       17        59               50              598   \n",
       "1      2        163       17        59               50             1274   \n",
       "2      2        163       17        59               25             1019   \n",
       "3      2        163       17        59                6              398   \n",
       "4      2        163       17        59              600             1019   \n",
       "\n",
       "   OCCUPATION_STRING  \n",
       "0                523  \n",
       "1               1208  \n",
       "2                137  \n",
       "3                487  \n",
       "4                 21  "
      ]
     },
     "execution_count": 18,
>>>>>>> 5b4fdd2f8a8c82176b29946ef948975fe4fd17ff
     "metadata": {},
     "output_type": "execute_result"
    }
   ],
   "source": [
    "donor_df2=donor_df2.drop(\"EMPLOYER\", axis=1)\n",
    "donor_df2=donor_df2.drop(\"OCCUPATION\", axis=1)\n",
    "donor_df2.head()"
   ]
  },
  {
   "cell_type": "code",
<<<<<<< HEAD
   "execution_count": 18,
=======
   "execution_count": 19,
>>>>>>> 5b4fdd2f8a8c82176b29946ef948975fe4fd17ff
   "metadata": {},
   "outputs": [
    {
     "data": {
      "text/html": [
       "<div>\n",
       "<style scoped>\n",
       "    .dataframe tbody tr th:only-of-type {\n",
       "        vertical-align: middle;\n",
       "    }\n",
       "\n",
       "    .dataframe tbody tr th {\n",
       "        vertical-align: top;\n",
       "    }\n",
       "\n",
       "    .dataframe thead th {\n",
       "        text-align: right;\n",
       "    }\n",
       "</style>\n",
       "<table border=\"1\" class=\"dataframe\">\n",
       "  <thead>\n",
       "    <tr style=\"text-align: right;\">\n",
       "      <th></th>\n",
       "      <th>party</th>\n",
       "      <th>CMTE_CITY</th>\n",
       "      <th>CMTE_ST</th>\n",
       "      <th>CMTE_ZIP</th>\n",
       "      <th>TRANSACTION_AMT</th>\n",
       "      <th>EMPLOYER_STRING</th>\n",
       "      <th>OCCUPATION_STRING</th>\n",
       "    </tr>\n",
       "  </thead>\n",
       "  <tbody>\n",
       "    <tr>\n",
<<<<<<< HEAD
       "      <th>57018</th>\n",
       "      <td>0</td>\n",
       "      <td>2</td>\n",
       "      <td>38</td>\n",
       "      <td>100</td>\n",
       "      <td>1000</td>\n",
       "      <td>1111</td>\n",
       "      <td>1000</td>\n",
       "    </tr>\n",
       "    <tr>\n",
       "      <th>57019</th>\n",
       "      <td>0</td>\n",
       "      <td>2</td>\n",
       "      <td>38</td>\n",
       "      <td>100</td>\n",
       "      <td>1000</td>\n",
       "      <td>1575</td>\n",
       "      <td>1513</td>\n",
       "    </tr>\n",
       "    <tr>\n",
       "      <th>57020</th>\n",
       "      <td>0</td>\n",
       "      <td>89</td>\n",
       "      <td>9</td>\n",
       "      <td>132</td>\n",
       "      <td>50</td>\n",
       "      <td>1575</td>\n",
       "      <td>1513</td>\n",
       "    </tr>\n",
       "    <tr>\n",
       "      <th>57021</th>\n",
       "      <td>0</td>\n",
       "      <td>89</td>\n",
       "      <td>9</td>\n",
       "      <td>132</td>\n",
       "      <td>50</td>\n",
       "      <td>1575</td>\n",
       "      <td>1513</td>\n",
       "    </tr>\n",
       "    <tr>\n",
       "      <th>57022</th>\n",
       "      <td>0</td>\n",
       "      <td>89</td>\n",
       "      <td>9</td>\n",
       "      <td>132</td>\n",
       "      <td>50</td>\n",
       "      <td>1575</td>\n",
       "      <td>1513</td>\n",
=======
       "      <th>60224</th>\n",
       "      <td>0</td>\n",
       "      <td>55</td>\n",
       "      <td>8</td>\n",
       "      <td>121</td>\n",
       "      <td>500</td>\n",
       "      <td>1019</td>\n",
       "      <td>998</td>\n",
       "    </tr>\n",
       "    <tr>\n",
       "      <th>60225</th>\n",
       "      <td>0</td>\n",
       "      <td>55</td>\n",
       "      <td>8</td>\n",
       "      <td>121</td>\n",
       "      <td>500</td>\n",
       "      <td>871</td>\n",
       "      <td>562</td>\n",
       "    </tr>\n",
       "    <tr>\n",
       "      <th>60226</th>\n",
       "      <td>0</td>\n",
       "      <td>55</td>\n",
       "      <td>8</td>\n",
       "      <td>121</td>\n",
       "      <td>2700</td>\n",
       "      <td>882</td>\n",
       "      <td>786</td>\n",
       "    </tr>\n",
       "    <tr>\n",
       "      <th>60227</th>\n",
       "      <td>2</td>\n",
       "      <td>86</td>\n",
       "      <td>8</td>\n",
       "      <td>111</td>\n",
       "      <td>3000</td>\n",
       "      <td>573</td>\n",
       "      <td>426</td>\n",
       "    </tr>\n",
       "    <tr>\n",
       "      <th>60228</th>\n",
       "      <td>2</td>\n",
       "      <td>86</td>\n",
       "      <td>8</td>\n",
       "      <td>111</td>\n",
       "      <td>3000</td>\n",
       "      <td>573</td>\n",
       "      <td>426</td>\n",
>>>>>>> 5b4fdd2f8a8c82176b29946ef948975fe4fd17ff
       "    </tr>\n",
       "  </tbody>\n",
       "</table>\n",
       "</div>"
      ],
      "text/plain": [
       "       party  CMTE_CITY  CMTE_ST  CMTE_ZIP  TRANSACTION_AMT  EMPLOYER_STRING  \\\n",
<<<<<<< HEAD
       "57018      0          2       38       100             1000             1111   \n",
       "57019      0          2       38       100             1000             1575   \n",
       "57020      0         89        9       132               50             1575   \n",
       "57021      0         89        9       132               50             1575   \n",
       "57022      0         89        9       132               50             1575   \n",
       "\n",
       "       OCCUPATION_STRING  \n",
       "57018               1000  \n",
       "57019               1513  \n",
       "57020               1513  \n",
       "57021               1513  \n",
       "57022               1513  "
      ]
     },
     "execution_count": 18,
=======
       "60224      0         55        8       121              500             1019   \n",
       "60225      0         55        8       121              500              871   \n",
       "60226      0         55        8       121             2700              882   \n",
       "60227      2         86        8       111             3000              573   \n",
       "60228      2         86        8       111             3000              573   \n",
       "\n",
       "       OCCUPATION_STRING  \n",
       "60224                998  \n",
       "60225                562  \n",
       "60226                786  \n",
       "60227                426  \n",
       "60228                426  "
      ]
     },
     "execution_count": 19,
>>>>>>> 5b4fdd2f8a8c82176b29946ef948975fe4fd17ff
     "metadata": {},
     "output_type": "execute_result"
    }
   ],
   "source": [
    "donor_df2.tail()"
   ]
  },
  {
   "cell_type": "code",
<<<<<<< HEAD
   "execution_count": 19,
=======
   "execution_count": 20,
>>>>>>> 5b4fdd2f8a8c82176b29946ef948975fe4fd17ff
   "metadata": {},
   "outputs": [],
   "source": [
    "#Which ml parameter is the Y\n",
    "ml_param = \"party\"\n",
    "\n",
    "X=donor_df2.copy()\n",
    "X=X.drop(ml_param, axis=1)\n",
    "y=donor_df2[ml_param]"
   ]
  },
  {
   "cell_type": "code",
<<<<<<< HEAD
   "execution_count": 20,
=======
   "execution_count": 21,
>>>>>>> 5b4fdd2f8a8c82176b29946ef948975fe4fd17ff
   "metadata": {},
   "outputs": [
    {
     "data": {
      "text/html": [
       "<div>\n",
       "<style scoped>\n",
       "    .dataframe tbody tr th:only-of-type {\n",
       "        vertical-align: middle;\n",
       "    }\n",
       "\n",
       "    .dataframe tbody tr th {\n",
       "        vertical-align: top;\n",
       "    }\n",
       "\n",
       "    .dataframe thead th {\n",
       "        text-align: right;\n",
       "    }\n",
       "</style>\n",
       "<table border=\"1\" class=\"dataframe\">\n",
       "  <thead>\n",
       "    <tr style=\"text-align: right;\">\n",
       "      <th></th>\n",
       "      <th>CMTE_CITY</th>\n",
       "      <th>CMTE_ST</th>\n",
       "      <th>CMTE_ZIP</th>\n",
       "      <th>TRANSACTION_AMT</th>\n",
       "      <th>EMPLOYER_STRING</th>\n",
       "      <th>OCCUPATION_STRING</th>\n",
       "    </tr>\n",
       "  </thead>\n",
       "  <tbody>\n",
       "    <tr>\n",
       "      <th>count</th>\n",
<<<<<<< HEAD
       "      <td>57023.000000</td>\n",
       "      <td>57023.000000</td>\n",
       "      <td>57023.000000</td>\n",
       "      <td>57023.000000</td>\n",
       "      <td>57023.000000</td>\n",
       "      <td>57023.000000</td>\n",
       "    </tr>\n",
       "    <tr>\n",
       "      <th>mean</th>\n",
       "      <td>163.992021</td>\n",
       "      <td>17.433948</td>\n",
       "      <td>88.991161</td>\n",
       "      <td>265.351262</td>\n",
       "      <td>1218.419778</td>\n",
       "      <td>1104.320695</td>\n",
       "    </tr>\n",
       "    <tr>\n",
       "      <th>std</th>\n",
       "      <td>70.045896</td>\n",
       "      <td>12.341171</td>\n",
       "      <td>76.174715</td>\n",
       "      <td>2542.492350</td>\n",
       "      <td>532.496840</td>\n",
       "      <td>539.699557</td>\n",
=======
       "      <td>60229.000000</td>\n",
       "      <td>60229.000000</td>\n",
       "      <td>60229.000000</td>\n",
       "      <td>60229.000000</td>\n",
       "      <td>60229.000000</td>\n",
       "      <td>60229.000000</td>\n",
       "    </tr>\n",
       "    <tr>\n",
       "      <th>mean</th>\n",
       "      <td>107.944279</td>\n",
       "      <td>15.724186</td>\n",
       "      <td>58.357054</td>\n",
       "      <td>141.470122</td>\n",
       "      <td>949.317837</td>\n",
       "      <td>713.749838</td>\n",
       "    </tr>\n",
       "    <tr>\n",
       "      <th>std</th>\n",
       "      <td>50.690042</td>\n",
       "      <td>7.723569</td>\n",
       "      <td>56.900626</td>\n",
       "      <td>821.732537</td>\n",
       "      <td>357.287768</td>\n",
       "      <td>296.400567</td>\n",
>>>>>>> 5b4fdd2f8a8c82176b29946ef948975fe4fd17ff
       "    </tr>\n",
       "    <tr>\n",
       "      <th>min</th>\n",
       "      <td>0.000000</td>\n",
       "      <td>0.000000</td>\n",
       "      <td>0.000000</td>\n",
       "      <td>-2700.000000</td>\n",
       "      <td>0.000000</td>\n",
       "      <td>0.000000</td>\n",
       "    </tr>\n",
       "    <tr>\n",
       "      <th>25%</th>\n",
<<<<<<< HEAD
       "      <td>150.000000</td>\n",
       "      <td>7.000000</td>\n",
       "      <td>32.000000</td>\n",
       "      <td>20.000000</td>\n",
       "      <td>795.000000</td>\n",
       "      <td>686.000000</td>\n",
       "    </tr>\n",
       "    <tr>\n",
       "      <th>50%</th>\n",
       "      <td>182.000000</td>\n",
       "      <td>9.000000</td>\n",
       "      <td>53.000000</td>\n",
       "      <td>50.000000</td>\n",
       "      <td>1344.000000</td>\n",
       "      <td>1287.000000</td>\n",
       "    </tr>\n",
       "    <tr>\n",
       "      <th>75%</th>\n",
       "      <td>222.000000</td>\n",
       "      <td>29.000000</td>\n",
       "      <td>118.000000</td>\n",
       "      <td>100.000000</td>\n",
       "      <td>1575.000000</td>\n",
       "      <td>1513.000000</td>\n",
       "    </tr>\n",
       "    <tr>\n",
       "      <th>max</th>\n",
       "      <td>238.000000</td>\n",
       "      <td>42.000000</td>\n",
       "      <td>301.000000</td>\n",
       "      <td>125000.000000</td>\n",
       "      <td>2143.000000</td>\n",
       "      <td>1964.000000</td>\n",
=======
       "      <td>71.000000</td>\n",
       "      <td>8.000000</td>\n",
       "      <td>8.000000</td>\n",
       "      <td>15.000000</td>\n",
       "      <td>838.000000</td>\n",
       "      <td>545.000000</td>\n",
       "    </tr>\n",
       "    <tr>\n",
       "      <th>50%</th>\n",
       "      <td>112.000000</td>\n",
       "      <td>16.000000</td>\n",
       "      <td>22.000000</td>\n",
       "      <td>25.000000</td>\n",
       "      <td>877.000000</td>\n",
       "      <td>775.000000</td>\n",
       "    </tr>\n",
       "    <tr>\n",
       "      <th>75%</th>\n",
       "      <td>150.000000</td>\n",
       "      <td>24.000000</td>\n",
       "      <td>120.000000</td>\n",
       "      <td>60.000000</td>\n",
       "      <td>1299.000000</td>\n",
       "      <td>993.000000</td>\n",
       "    </tr>\n",
       "    <tr>\n",
       "      <th>max</th>\n",
       "      <td>174.000000</td>\n",
       "      <td>33.000000</td>\n",
       "      <td>228.000000</td>\n",
       "      <td>50000.000000</td>\n",
       "      <td>1456.000000</td>\n",
       "      <td>1361.000000</td>\n",
>>>>>>> 5b4fdd2f8a8c82176b29946ef948975fe4fd17ff
       "    </tr>\n",
       "  </tbody>\n",
       "</table>\n",
       "</div>"
      ],
      "text/plain": [
       "          CMTE_CITY       CMTE_ST      CMTE_ZIP  TRANSACTION_AMT  \\\n",
<<<<<<< HEAD
       "count  57023.000000  57023.000000  57023.000000     57023.000000   \n",
       "mean     163.992021     17.433948     88.991161       265.351262   \n",
       "std       70.045896     12.341171     76.174715      2542.492350   \n",
       "min        0.000000      0.000000      0.000000     -2700.000000   \n",
       "25%      150.000000      7.000000     32.000000        20.000000   \n",
       "50%      182.000000      9.000000     53.000000        50.000000   \n",
       "75%      222.000000     29.000000    118.000000       100.000000   \n",
       "max      238.000000     42.000000    301.000000    125000.000000   \n",
       "\n",
       "       EMPLOYER_STRING  OCCUPATION_STRING  \n",
       "count     57023.000000       57023.000000  \n",
       "mean       1218.419778        1104.320695  \n",
       "std         532.496840         539.699557  \n",
       "min           0.000000           0.000000  \n",
       "25%         795.000000         686.000000  \n",
       "50%        1344.000000        1287.000000  \n",
       "75%        1575.000000        1513.000000  \n",
       "max        2143.000000        1964.000000  "
      ]
     },
     "execution_count": 20,
=======
       "count  60229.000000  60229.000000  60229.000000     60229.000000   \n",
       "mean     107.944279     15.724186     58.357054       141.470122   \n",
       "std       50.690042      7.723569     56.900626       821.732537   \n",
       "min        0.000000      0.000000      0.000000     -2700.000000   \n",
       "25%       71.000000      8.000000      8.000000        15.000000   \n",
       "50%      112.000000     16.000000     22.000000        25.000000   \n",
       "75%      150.000000     24.000000    120.000000        60.000000   \n",
       "max      174.000000     33.000000    228.000000     50000.000000   \n",
       "\n",
       "       EMPLOYER_STRING  OCCUPATION_STRING  \n",
       "count     60229.000000       60229.000000  \n",
       "mean        949.317837         713.749838  \n",
       "std         357.287768         296.400567  \n",
       "min           0.000000           0.000000  \n",
       "25%         838.000000         545.000000  \n",
       "50%         877.000000         775.000000  \n",
       "75%        1299.000000         993.000000  \n",
       "max        1456.000000        1361.000000  "
      ]
     },
     "execution_count": 21,
>>>>>>> 5b4fdd2f8a8c82176b29946ef948975fe4fd17ff
     "metadata": {},
     "output_type": "execute_result"
    }
   ],
   "source": [
    "X.describe()"
   ]
  },
  {
   "cell_type": "code",
<<<<<<< HEAD
   "execution_count": 21,
=======
   "execution_count": 22,
>>>>>>> 5b4fdd2f8a8c82176b29946ef948975fe4fd17ff
   "metadata": {},
   "outputs": [],
   "source": [
    "X.to_csv(\"test2.csv\")"
   ]
  },
  {
   "cell_type": "code",
<<<<<<< HEAD
   "execution_count": 22,
=======
   "execution_count": 23,
>>>>>>> 5b4fdd2f8a8c82176b29946ef948975fe4fd17ff
   "metadata": {},
   "outputs": [
    {
     "data": {
      "text/plain": [
<<<<<<< HEAD
       "Counter({0: 37900, 2: 3151, 1: 15967, 3: 5})"
      ]
     },
     "execution_count": 22,
=======
       "Counter({2: 1140, 0: 44555, 1: 14534})"
      ]
     },
     "execution_count": 23,
>>>>>>> 5b4fdd2f8a8c82176b29946ef948975fe4fd17ff
     "metadata": {},
     "output_type": "execute_result"
    }
   ],
   "source": [
    "from collections import Counter\n",
    "\n",
    "# Create X_train, X_test, y_train, y_test\n",
    "# YOUR CODE HERE\n",
    "from sklearn.model_selection import train_test_split\n",
    "X_train, X_test, y_train, y_test = train_test_split(X, y, random_state=78)\n",
    "Counter(y)"
   ]
  },
  {
   "cell_type": "code",
<<<<<<< HEAD
   "execution_count": 23,
=======
   "execution_count": 24,
>>>>>>> 5b4fdd2f8a8c82176b29946ef948975fe4fd17ff
   "metadata": {},
   "outputs": [],
   "source": [
    "# Create a StandardScaler instance\n",
    "scaler = StandardScaler()\n",
    "\n",
    "# Fit the StandardScaler\n",
    "X_scaler = scaler.fit(X_train)\n",
    "\n",
    "# Scale the data\n",
    "X_train_scaled = X_scaler.transform(X_train)\n",
    "X_test_scaled = X_scaler.transform(X_test)"
   ]
  },
  {
   "cell_type": "code",
<<<<<<< HEAD
   "execution_count": 24,
=======
   "execution_count": 25,
   "metadata": {},
   "outputs": [],
   "source": [
    "def save_to_res_log(accuracy, recall, precision, f1, sml_param, state):\n",
    "    drop_res_log_tables(engine)\n",
    "    save_res_db(accuracy, recall, precision, f1, sml_param, state, TABLE_RES_LOG, MODEL_TYPE_LOG)"
   ]
  },
  {
   "cell_type": "code",
   "execution_count": 26,
   "metadata": {},
   "outputs": [],
   "source": [
    "def save_to_res_rf(accuracy, recall, precision, f1, sml_param, state):\n",
    "    drop_res_rf_tables(engine)\n",
    "    save_res_db(accuracy, recall, precision, f1, sml_param, state, TABLE_RES_RF, MODEL_TYPE_RF)"
   ]
  },
  {
   "cell_type": "code",
   "execution_count": 27,
   "metadata": {},
   "outputs": [],
   "source": [
    "def save_res_db(accuracy, recall, precision, f1, sml_param, state, table_name, model_type):\n",
    "    file_name = create_file_name(model_type, sml_param, state)\n",
    "    log_df = {\n",
    "        \"accuracy\": accuracy,\n",
    "        \"recall\": recall,\n",
    "        \"precision\": precision,\n",
    "        \"f1\": f1,\n",
    "        \"sml_param\": sml_param,\n",
    "        \"state\": state,\n",
    "        \"file_name\": file_name\n",
    "    }\n",
    "    print(log_df)\n",
    "    \n",
    "    df = pd.DataFrame(log_df, index=[0])\n",
    "    print(df.head())\n",
    "    df.to_sql(table_name, con=engine, if_exists=\"append\")"
   ]
  },
  {
   "cell_type": "code",
   "execution_count": 28,
>>>>>>> 5b4fdd2f8a8c82176b29946ef948975fe4fd17ff
   "metadata": {},
   "outputs": [],
   "source": [
    "from sklearn.linear_model import LogisticRegression\n",
    "model = LogisticRegression(solver='lbfgs', random_state=1)"
   ]
  },
  {
   "cell_type": "code",
<<<<<<< HEAD
   "execution_count": 25,
=======
   "execution_count": 29,
>>>>>>> 5b4fdd2f8a8c82176b29946ef948975fe4fd17ff
   "metadata": {},
   "outputs": [
    {
     "name": "stdout",
     "output_type": "stream",
     "text": [
<<<<<<< HEAD
      " Logistic regression model accuracy: 0.841\n"
=======
      " Logistic regression model accuracy: 0.927 recall:0.9266834905033869 precision0.9146068610727192 f10.9196952464442923\n",
      "{'accuracy': 0.9266834905033869, 'recall': 0.9266834905033869, 'precision': 0.9146068610727192, 'f1': 0.9196952464442923, 'sml_param': 'party', 'state': 'FL', 'file_name': 'log_party_FL.png'}\n",
      "   accuracy    recall  precision        f1 sml_param state         file_name\n",
      "0  0.926683  0.926683   0.914607  0.919695     party    FL  log_party_FL.png\n"
>>>>>>> 5b4fdd2f8a8c82176b29946ef948975fe4fd17ff
     ]
    }
   ],
   "source": [
    "# Define the logistic regression model\n",
    "log_classifier = LogisticRegression(solver=\"lbfgs\",max_iter=200)\n",
    "\n",
    "# Train the model\n",
    "log_classifier.fit(X_train_scaled,y_train)\n",
    "\n",
    "# Evaluate the model\n",
    "y_pred = log_classifier.predict(X_test_scaled)\n",
    "\n",
    "# Calculate Scores \n",
    "acc_score = accuracy_score(y_test,y_pred)\n",
    "recall = recall_score(y_test, y_pred, average='weighted')\n",
    "precision = precision_score(y_test, y_pred, average='weighted')\n",
    "f1 = f1_score(y_test, y_pred, average='weighted')\n",
    "\n",
    "print(f\" Logistic regression model accuracy: {acc_score:.3f} recall:{recall} precision{precision} f1{f1}\")\n",
    "save_to_res_log(acc_score, recall, precision, f1, ml_param, state)"
   ]
  },
  {
   "cell_type": "code",
   "execution_count": 30,
   "metadata": {},
   "outputs": [
    {
     "name": "stdout",
     "output_type": "stream",
     "text": [
      "[[10508   659     9]\n",
      " [  175  3446     0]\n",
      " [  254     7     0]]\n",
      "              precision    recall  f1-score   support\n",
      "\n",
      "           0       0.96      0.94      0.95     11176\n",
      "           1       0.84      0.95      0.89      3621\n",
      "           2       0.00      0.00      0.00       261\n",
      "\n",
      "    accuracy                           0.93     15058\n",
      "   macro avg       0.60      0.63      0.61     15058\n",
      "weighted avg       0.91      0.93      0.92     15058\n",
      "\n"
     ]
    }
   ],
   "source": [
    "matrix = confusion_matrix(y_test, y_pred)\n",
    "print(matrix)\n",
    "\n",
    "report = classification_report(y_test, y_pred)\n",
    "print(report)"
   ]
  },
  {
   "cell_type": "code",
<<<<<<< HEAD
   "execution_count": 26,
=======
   "execution_count": 31,
   "metadata": {},
   "outputs": [],
   "source": [
    "score_str = \"\"\n",
    "title = create_title(MODEL_TYPE_LOG, ml_param, score_str)\n",
    "#plot_data(y_test, y_train, y_test_pred, y_train_pred, title, file_name)"
   ]
  },
  {
   "cell_type": "code",
   "execution_count": 32,
>>>>>>> 5b4fdd2f8a8c82176b29946ef948975fe4fd17ff
   "metadata": {},
   "outputs": [
    {
     "name": "stdout",
     "output_type": "stream",
     "text": [
      " Random forest predictive accuracy: 0.995\n"
     ]
    }
   ],
   "source": [
    "# Create a random forest classifier.\n",
    "rf_model = RandomForestClassifier(n_estimators=128, random_state=78)\n",
    "\n",
    "# Fitting the model\n",
    "rf_model = rf_model.fit(X_train_scaled, y_train)\n",
    "\n",
    "# Evaluate the model\n",
    "y_pred = rf_model.predict(X_test_scaled)\n",
    "print(f\" Random forest predictive accuracy: {accuracy_score(y_test,y_pred):.3f}\")"
   ]
  },
  {
   "cell_type": "code",
   "execution_count": 33,
   "metadata": {},
   "outputs": [
    {
     "name": "stdout",
     "output_type": "stream",
     "text": [
      " Logistic regression model accuracy: 0.999 recall:0.9990038517731439 precision0.9990040370752645 f10.9990039201849606\n",
      "{'accuracy': 0.9990038517731439, 'recall': 0.9990038517731439, 'precision': 0.9990040370752645, 'f1': 0.9990039201849606, 'sml_param': 'party', 'state': 'FL', 'file_name': 'log_party_FL.png'}\n",
      "   accuracy    recall  precision        f1 sml_param state         file_name\n",
      "0  0.999004  0.999004   0.999004  0.999004     party    FL  log_party_FL.png\n"
     ]
    }
   ],
   "source": [
    "# Calculate Scores \n",
    "acc_score = accuracy_score(y_test,y_pred)\n",
    "recall = recall_score(y_test, y_pred, average='weighted')\n",
    "precision = precision_score(y_test, y_pred, average='weighted')\n",
    "f1 = f1_score(y_test, y_pred, average='weighted')\n",
    "\n",
    "print(f\" Logistic regression model accuracy: {acc_score:.3f} recall:{recall} precision{precision} f1{f1}\")\n",
    "save_to_res_rf(acc_score, recall, precision, f1, ml_param, state)"
   ]
  }
 ],
 "metadata": {
  "kernelspec": {
   "display_name": "Python 3",
   "language": "python",
   "name": "python3"
  },
  "language_info": {
   "codemirror_mode": {
    "name": "ipython",
    "version": 3
   },
   "file_extension": ".py",
   "mimetype": "text/x-python",
   "name": "python",
   "nbconvert_exporter": "python",
   "pygments_lexer": "ipython3",
   "version": "3.7.6"
  }
 },
 "nbformat": 4,
 "nbformat_minor": 4
}
