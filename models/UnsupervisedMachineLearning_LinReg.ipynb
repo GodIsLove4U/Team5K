{
 "cells": [
  {
   "cell_type": "markdown",
   "metadata": {},
   "source": [
    "# -----------------------------> Linear Regression & Graphs <------------------------------"
   ]
  },
  {
   "cell_type": "markdown",
   "metadata": {},
   "source": [
    "# Dependencies & Libraries"
   ]
  },
  {
   "cell_type": "code",
   "execution_count": 1,
   "metadata": {},
   "outputs": [],
   "source": [
    "# Warning Suppression https://pymotw.com/2/warnings/ \n",
    "import warnings\n",
    "warnings.filterwarnings('ignore')"
   ]
  },
  {
   "cell_type": "code",
   "execution_count": 2,
   "metadata": {},
   "outputs": [],
   "source": [
    "# Bring in dependencies\n",
    "import numpy as np\n",
    "import pandas as pd\n",
    "import matplotlib.pyplot as plt\n",
    "from pathlib import Path\n",
    "from collections import Counter\n",
    "from sqlalchemy import create_engine"
   ]
  },
  {
   "cell_type": "code",
   "execution_count": 6,
   "metadata": {
    "scrolled": true
   },
   "outputs": [],
   "source": [
    "# For ensemble calculations\n",
    "from sklearn.metrics import balanced_accuracy_score\n",
    "from sklearn.metrics import confusion_matrix\n",
    "from sklearn.utils import shuffle\n",
    "from sklearn.linear_model import LinearRegression\n",
    "from sklearn.datasets import make_blobs\n",
    "from sklearn.cluster import KMeans\n",
    "from sklearn.preprocessing import MinMaxScaler, LabelEncoder\n",
    "from imblearn.metrics import classification_report_imbalanced\n",
    "from sklearn.decomposition import PCA\n",
    "import hvplot.pandas\n",
    "from sklearn.metrics import r2_score\n",
    "import statsmodels.api as sm"
   ]
  },
  {
   "cell_type": "markdown",
   "metadata": {},
   "source": [
    "# Read in data and perform basic data review"
   ]
  },
  {
   "cell_type": "code",
   "execution_count": 7,
   "metadata": {},
   "outputs": [],
   "source": [
    "### Configure settings for Relational Database Service, and defining database info in config variable.\n",
    "jdbc_url=\"jdbc:postgresql://34.67.52.115/team5k\"\n",
    "config = {'user': 'postgres', \n",
    "          \"password\": \"team5kteam5k\", \n",
    "          \"driver\":\"org.postgresql.Driver\",\n",
    "          \"location\": \"34.67.52.115\",\n",
    "          \"db\": \"team5k\",\n",
    "          \"port\": \"5432\"}"
   ]
  },
  {
   "cell_type": "code",
   "execution_count": 8,
   "metadata": {},
   "outputs": [],
   "source": [
    "### Creating variable holding postgres info in format \"postgres://[user]:[password]@[location]:[port]/[database]\".\n",
    "create_engine_str = ('postgresql://' \n",
    "                     + config[\"user\"] \n",
    "                     + \":\" + config[\"password\"] \n",
    "                     + \"@\" + config[\"location\"] \n",
    "                     + \":\" + config[\"port\"] \n",
    "                     + \"/\" + config[\"db\"])"
   ]
  },
  {
   "cell_type": "code",
   "execution_count": 10,
   "metadata": {},
   "outputs": [],
   "source": [
    "# Connecting to Postgres instance.\n",
    "engine = create_engine(create_engine_str)"
   ]
  },
  {
   "cell_type": "code",
   "execution_count": 11,
   "metadata": {},
   "outputs": [
    {
     "name": "stdout",
     "output_type": "stream",
     "text": [
      "['committees', 'candidates', 'education', 'six_state_donations', 'res_lr', 'res_log', 'donations', 'health_metrics', 'agg_county_votes', 'birth_death_rate', 'postal_codes', 'agg_county_donors', 'pres_votes_6t', 'unemployment']\n"
     ]
    }
   ],
   "source": [
    "# Printing info for table names. \n",
    "print (engine.table_names())"
   ]
  },
  {
   "cell_type": "code",
   "execution_count": 12,
   "metadata": {
    "scrolled": true
   },
   "outputs": [
    {
     "data": {
      "text/html": [
       "<div>\n",
       "<style scoped>\n",
       "    .dataframe tbody tr th:only-of-type {\n",
       "        vertical-align: middle;\n",
       "    }\n",
       "\n",
       "    .dataframe tbody tr th {\n",
       "        vertical-align: top;\n",
       "    }\n",
       "\n",
       "    .dataframe thead th {\n",
       "        text-align: right;\n",
       "    }\n",
       "</style>\n",
       "<table border=\"1\" class=\"dataframe\">\n",
       "  <thead>\n",
       "    <tr style=\"text-align: right;\">\n",
       "      <th></th>\n",
       "      <th>index</th>\n",
       "      <th>blue_votes</th>\n",
       "      <th>red_votes</th>\n",
       "      <th>other_votes</th>\n",
       "      <th>total_votes</th>\n",
       "      <th>county</th>\n",
       "      <th>state</th>\n",
       "      <th>election_year</th>\n",
       "      <th>PopPct_Urban</th>\n",
       "      <th>Unemployment</th>\n",
       "      <th>PopDen_Urban</th>\n",
       "      <th>PopPct_Rural</th>\n",
       "      <th>PopDen_Rural</th>\n",
       "      <th>winning_party</th>\n",
       "    </tr>\n",
       "  </thead>\n",
       "  <tbody>\n",
       "    <tr>\n",
       "      <th>0</th>\n",
       "      <td>0</td>\n",
       "      <td>13025</td>\n",
       "      <td>5947</td>\n",
       "      <td>484.0</td>\n",
       "      <td>19456.0</td>\n",
       "      <td>Apache</td>\n",
       "      <td>AZ</td>\n",
       "      <td>2000</td>\n",
       "      <td>25.94</td>\n",
       "      <td>9.0</td>\n",
       "      <td>1080.7</td>\n",
       "      <td>74.06</td>\n",
       "      <td>4.7</td>\n",
       "      <td>democrat</td>\n",
       "    </tr>\n",
       "    <tr>\n",
       "      <th>1</th>\n",
       "      <td>1</td>\n",
       "      <td>13360</td>\n",
       "      <td>18180</td>\n",
       "      <td>1701.0</td>\n",
       "      <td>33241.0</td>\n",
       "      <td>Cochise</td>\n",
       "      <td>AZ</td>\n",
       "      <td>2000</td>\n",
       "      <td>63.70</td>\n",
       "      <td>4.5</td>\n",
       "      <td>1933.4</td>\n",
       "      <td>36.30</td>\n",
       "      <td>7.8</td>\n",
       "      <td>republican</td>\n",
       "    </tr>\n",
       "    <tr>\n",
       "      <th>2</th>\n",
       "      <td>2</td>\n",
       "      <td>20280</td>\n",
       "      <td>17562</td>\n",
       "      <td>3041.0</td>\n",
       "      <td>40883.0</td>\n",
       "      <td>Coconino</td>\n",
       "      <td>AZ</td>\n",
       "      <td>2000</td>\n",
       "      <td>68.53</td>\n",
       "      <td>4.4</td>\n",
       "      <td>1939.8</td>\n",
       "      <td>31.47</td>\n",
       "      <td>2.3</td>\n",
       "      <td>democrat</td>\n",
       "    </tr>\n",
       "    <tr>\n",
       "      <th>3</th>\n",
       "      <td>3</td>\n",
       "      <td>7700</td>\n",
       "      <td>9158</td>\n",
       "      <td>878.0</td>\n",
       "      <td>17736.0</td>\n",
       "      <td>Gila</td>\n",
       "      <td>AZ</td>\n",
       "      <td>2000</td>\n",
       "      <td>58.94</td>\n",
       "      <td>5.2</td>\n",
       "      <td>1625.0</td>\n",
       "      <td>41.06</td>\n",
       "      <td>4.6</td>\n",
       "      <td>republican</td>\n",
       "    </tr>\n",
       "    <tr>\n",
       "      <th>4</th>\n",
       "      <td>4</td>\n",
       "      <td>3355</td>\n",
       "      <td>6007</td>\n",
       "      <td>302.0</td>\n",
       "      <td>9664.0</td>\n",
       "      <td>Graham</td>\n",
       "      <td>AZ</td>\n",
       "      <td>2000</td>\n",
       "      <td>53.56</td>\n",
       "      <td>5.4</td>\n",
       "      <td>1430.2</td>\n",
       "      <td>46.44</td>\n",
       "      <td>3.8</td>\n",
       "      <td>republican</td>\n",
       "    </tr>\n",
       "    <tr>\n",
       "      <th>...</th>\n",
       "      <td>...</td>\n",
       "      <td>...</td>\n",
       "      <td>...</td>\n",
       "      <td>...</td>\n",
       "      <td>...</td>\n",
       "      <td>...</td>\n",
       "      <td>...</td>\n",
       "      <td>...</td>\n",
       "      <td>...</td>\n",
       "      <td>...</td>\n",
       "      <td>...</td>\n",
       "      <td>...</td>\n",
       "      <td>...</td>\n",
       "      <td>...</td>\n",
       "    </tr>\n",
       "    <tr>\n",
       "      <th>2015</th>\n",
       "      <td>67</td>\n",
       "      <td>79200</td>\n",
       "      <td>142521</td>\n",
       "      <td>17321.0</td>\n",
       "      <td>239042.0</td>\n",
       "      <td>Waukesha</td>\n",
       "      <td>WI</td>\n",
       "      <td>2016</td>\n",
       "      <td>90.14</td>\n",
       "      <td>3.4</td>\n",
       "      <td>1314.5</td>\n",
       "      <td>9.86</td>\n",
       "      <td>136.2</td>\n",
       "      <td>republican</td>\n",
       "    </tr>\n",
       "    <tr>\n",
       "      <th>2016</th>\n",
       "      <td>68</td>\n",
       "      <td>8440</td>\n",
       "      <td>16189</td>\n",
       "      <td>1395.0</td>\n",
       "      <td>26024.0</td>\n",
       "      <td>Waupaca</td>\n",
       "      <td>WI</td>\n",
       "      <td>2016</td>\n",
       "      <td>35.06</td>\n",
       "      <td>3.9</td>\n",
       "      <td>1606.2</td>\n",
       "      <td>64.94</td>\n",
       "      <td>46.2</td>\n",
       "      <td>republican</td>\n",
       "    </tr>\n",
       "    <tr>\n",
       "      <th>2017</th>\n",
       "      <td>69</td>\n",
       "      <td>3792</td>\n",
       "      <td>7669</td>\n",
       "      <td>538.0</td>\n",
       "      <td>11999.0</td>\n",
       "      <td>Waushara</td>\n",
       "      <td>WI</td>\n",
       "      <td>2016</td>\n",
       "      <td>10.50</td>\n",
       "      <td>5.0</td>\n",
       "      <td>1403.6</td>\n",
       "      <td>89.50</td>\n",
       "      <td>35.1</td>\n",
       "      <td>republican</td>\n",
       "    </tr>\n",
       "    <tr>\n",
       "      <th>2018</th>\n",
       "      <td>70</td>\n",
       "      <td>37054</td>\n",
       "      <td>43448</td>\n",
       "      <td>6642.0</td>\n",
       "      <td>87144.0</td>\n",
       "      <td>Winnebago</td>\n",
       "      <td>WI</td>\n",
       "      <td>2016</td>\n",
       "      <td>86.57</td>\n",
       "      <td>3.6</td>\n",
       "      <td>2269.9</td>\n",
       "      <td>13.43</td>\n",
       "      <td>60.5</td>\n",
       "      <td>republican</td>\n",
       "    </tr>\n",
       "    <tr>\n",
       "      <th>2019</th>\n",
       "      <td>71</td>\n",
       "      <td>14232</td>\n",
       "      <td>21503</td>\n",
       "      <td>2065.0</td>\n",
       "      <td>37800.0</td>\n",
       "      <td>Wood</td>\n",
       "      <td>WI</td>\n",
       "      <td>2016</td>\n",
       "      <td>63.32</td>\n",
       "      <td>4.7</td>\n",
       "      <td>1486.2</td>\n",
       "      <td>36.68</td>\n",
       "      <td>36.0</td>\n",
       "      <td>republican</td>\n",
       "    </tr>\n",
       "  </tbody>\n",
       "</table>\n",
       "<p>2020 rows × 14 columns</p>\n",
       "</div>"
      ],
      "text/plain": [
       "      index  blue_votes  red_votes  other_votes  total_votes     county state  \\\n",
       "0         0       13025       5947        484.0      19456.0     Apache    AZ   \n",
       "1         1       13360      18180       1701.0      33241.0    Cochise    AZ   \n",
       "2         2       20280      17562       3041.0      40883.0   Coconino    AZ   \n",
       "3         3        7700       9158        878.0      17736.0       Gila    AZ   \n",
       "4         4        3355       6007        302.0       9664.0     Graham    AZ   \n",
       "...     ...         ...        ...          ...          ...        ...   ...   \n",
       "2015     67       79200     142521      17321.0     239042.0   Waukesha    WI   \n",
       "2016     68        8440      16189       1395.0      26024.0    Waupaca    WI   \n",
       "2017     69        3792       7669        538.0      11999.0   Waushara    WI   \n",
       "2018     70       37054      43448       6642.0      87144.0  Winnebago    WI   \n",
       "2019     71       14232      21503       2065.0      37800.0       Wood    WI   \n",
       "\n",
       "      election_year  PopPct_Urban  Unemployment  PopDen_Urban  PopPct_Rural  \\\n",
       "0              2000         25.94           9.0        1080.7         74.06   \n",
       "1              2000         63.70           4.5        1933.4         36.30   \n",
       "2              2000         68.53           4.4        1939.8         31.47   \n",
       "3              2000         58.94           5.2        1625.0         41.06   \n",
       "4              2000         53.56           5.4        1430.2         46.44   \n",
       "...             ...           ...           ...           ...           ...   \n",
       "2015           2016         90.14           3.4        1314.5          9.86   \n",
       "2016           2016         35.06           3.9        1606.2         64.94   \n",
       "2017           2016         10.50           5.0        1403.6         89.50   \n",
       "2018           2016         86.57           3.6        2269.9         13.43   \n",
       "2019           2016         63.32           4.7        1486.2         36.68   \n",
       "\n",
       "      PopDen_Rural winning_party  \n",
       "0              4.7      democrat  \n",
       "1              7.8    republican  \n",
       "2              2.3      democrat  \n",
       "3              4.6    republican  \n",
       "4              3.8    republican  \n",
       "...            ...           ...  \n",
       "2015         136.2    republican  \n",
       "2016          46.2    republican  \n",
       "2017          35.1    republican  \n",
       "2018          60.5    republican  \n",
       "2019          36.0    republican  \n",
       "\n",
       "[2020 rows x 14 columns]"
      ]
     },
     "execution_count": 12,
     "metadata": {},
     "output_type": "execute_result"
    }
   ],
   "source": [
    "### Get voter data\n",
    "votes_df = pd.read_sql_query('select * from \"agg_county_votes\"',con=engine)\n",
    "votes_df"
   ]
  },
  {
   "cell_type": "code",
   "execution_count": 13,
   "metadata": {},
   "outputs": [],
   "source": [
    "#votes_df.drop(['index'], axis=1)"
   ]
  },
  {
   "cell_type": "code",
   "execution_count": 14,
   "metadata": {},
   "outputs": [
    {
     "data": {
      "text/plain": [
       "Index(['index', 'blue_votes', 'red_votes', 'other_votes', 'total_votes',\n",
       "       'county', 'state', 'election_year', 'PopPct_Urban', 'Unemployment',\n",
       "       'PopDen_Urban', 'PopPct_Rural', 'PopDen_Rural', 'winning_party'],\n",
       "      dtype='object')"
      ]
     },
     "execution_count": 14,
     "metadata": {},
     "output_type": "execute_result"
    }
   ],
   "source": [
    "# Index of column names in the Aggregate Votes dataset\n",
    "votes_df.columns"
   ]
  },
  {
   "cell_type": "markdown",
   "metadata": {},
   "source": [
    "# Data Exploration & Graphs"
   ]
  },
  {
   "cell_type": "code",
   "execution_count": 15,
   "metadata": {},
   "outputs": [
    {
     "data": {
      "image/png": "[encoded data removed]",
      "text/plain": [
       "<Figure size 1152x576 with 1 Axes>"
      ]
     },
     "metadata": {
      "needs_background": "light"
     },
     "output_type": "display_data"
    }
   ],
   "source": [
    "plt.figure(figsize=(16, 8))\n",
    "plt.scatter(\n",
    "    votes_df['red_votes'],\n",
    "    votes_df['total_votes'],\n",
    "    c='black'\n",
    ")\n",
    "plt.xlabel(\"Republican Votes\")\n",
    "plt.ylabel(\"All Votes\")\n",
    "plt.show()"
   ]
  },
  {
   "cell_type": "code",
   "execution_count": 16,
   "metadata": {},
   "outputs": [
    {
     "data": {
      "image/png": "[encoded data removed]",
      "text/plain": [
       "<Figure size 432x288 with 1 Axes>"
      ]
     },
     "metadata": {
      "needs_background": "light"
     },
     "output_type": "display_data"
    }
   ],
   "source": [
    "# Replubican votes compared to all votes\n",
    "plt.scatter(votes_df.red_votes, votes_df.total_votes)\n",
    "plt.xlabel('blue_votes')\n",
    "plt.ylabel('total_votes')\n",
    "plt.show()"
   ]
  },
  {
   "cell_type": "code",
   "execution_count": 32,
   "metadata": {},
   "outputs": [
    {
     "data": {
      "image/png": "[encoded data removed]",
      "text/plain": [
       "<Figure size 432x288 with 1 Axes>"
      ]
     },
     "metadata": {
      "needs_background": "light"
     },
     "output_type": "display_data"
    }
   ],
   "source": [
    "# Replubican votes by election year\n",
    "plt.scatter(votes_df.red_votes, votes_df.election_year)\n",
    "plt.xlabel('election_year')\n",
    "plt.ylabel('red_votes')\n",
    "plt.show()"
   ]
  },
  {
   "cell_type": "code",
   "execution_count": 33,
   "metadata": {},
   "outputs": [
    {
     "data": {
      "image/png": "[encoded data removed]",
      "text/plain": [
       "<Figure size 432x288 with 1 Axes>"
      ]
     },
     "metadata": {
      "needs_background": "light"
     },
     "output_type": "display_data"
    }
   ],
   "source": [
    "# Replubican votes by election year\n",
    "plt.scatter(votes_df.election_year, votes_df.red_votes)\n",
    "plt.xlabel('red_votes')\n",
    "plt.ylabel('election_year')\n",
    "plt.show()"
   ]
  },
  {
   "cell_type": "code",
   "execution_count": 19,
   "metadata": {},
   "outputs": [
    {
     "data": {
      "image/png": "[encoded data removed]",
      "text/plain": [
       "<Figure size 432x288 with 1 Axes>"
      ]
     },
     "metadata": {
      "needs_background": "light"
     },
     "output_type": "display_data"
    }
   ],
   "source": [
    "# Replubican votes compared to unemployment rate\n",
    "plt.scatter(votes_df.red_votes, votes_df.Unemployment)\n",
    "plt.xlabel('red_votes')\n",
    "plt.ylabel('Unemployment')\n",
    "plt.show()"
   ]
  },
  {
   "cell_type": "code",
   "execution_count": 20,
   "metadata": {},
   "outputs": [
    {
     "data": {
      "image/png": "[encoded data removed]",
      "text/plain": [
       "<Figure size 432x288 with 1 Axes>"
      ]
     },
     "metadata": {
      "needs_background": "light"
     },
     "output_type": "display_data"
    }
   ],
   "source": [
    "# Replubican votes compared to urban population density\n",
    "plt.scatter(votes_df.red_votes, votes_df.PopDen_Urban)\n",
    "plt.xlabel('red_votes')\n",
    "plt.ylabel('PopDen_Urban')\n",
    "plt.show()"
   ]
  },
  {
   "cell_type": "code",
   "execution_count": 21,
   "metadata": {},
   "outputs": [
    {
     "data": {
      "image/png": "[encoded data removed]",
      "text/plain": [
       "<Figure size 432x288 with 1 Axes>"
      ]
     },
     "metadata": {
      "needs_background": "light"
     },
     "output_type": "display_data"
    }
   ],
   "source": [
    "# Replubican votes compared to rural population density\n",
    "plt.scatter(votes_df.red_votes, votes_df.PopDen_Rural)\n",
    "plt.xlabel('red_votes')\n",
    "plt.ylabel('PopDen_Rural')\n",
    "plt.show()"
   ]
  },
  {
   "cell_type": "code",
   "execution_count": 22,
   "metadata": {
    "scrolled": true
   },
   "outputs": [
    {
     "data": {
      "image/png": "[encoded data removed]",
      "text/plain": [
       "<Figure size 432x288 with 1 Axes>"
      ]
     },
     "metadata": {
      "needs_background": "light"
     },
     "output_type": "display_data"
    }
   ],
   "source": [
    "# Replubican votes compared to rural population density\n",
    "plt.scatter(votes_df.red_votes, votes_df.blue_votes)\n",
    "plt.xlabel('red_votes')\n",
    "plt.ylabel('blue_votes')\n",
    "plt.show()"
   ]
  },
  {
   "cell_type": "markdown",
   "metadata": {},
   "source": [
    "# Create X/y for features & model"
   ]
  },
  {
   "cell_type": "code",
   "execution_count": 23,
   "metadata": {},
   "outputs": [
    {
     "data": {
      "text/html": [
       "<div>\n",
       "<style scoped>\n",
       "    .dataframe tbody tr th:only-of-type {\n",
       "        vertical-align: middle;\n",
       "    }\n",
       "\n",
       "    .dataframe tbody tr th {\n",
       "        vertical-align: top;\n",
       "    }\n",
       "\n",
       "    .dataframe thead th {\n",
       "        text-align: right;\n",
       "    }\n",
       "</style>\n",
       "<table border=\"1\" class=\"dataframe\">\n",
       "  <thead>\n",
       "    <tr style=\"text-align: right;\">\n",
       "      <th></th>\n",
       "      <th>index</th>\n",
       "      <th>blue_votes</th>\n",
       "      <th>other_votes</th>\n",
       "      <th>total_votes</th>\n",
       "      <th>county</th>\n",
       "      <th>state</th>\n",
       "      <th>election_year</th>\n",
       "      <th>PopPct_Urban</th>\n",
       "      <th>Unemployment</th>\n",
       "      <th>PopDen_Urban</th>\n",
       "      <th>PopPct_Rural</th>\n",
       "      <th>PopDen_Rural</th>\n",
       "      <th>winning_party</th>\n",
       "    </tr>\n",
       "  </thead>\n",
       "  <tbody>\n",
       "    <tr>\n",
       "      <th>0</th>\n",
       "      <td>0</td>\n",
       "      <td>13025</td>\n",
       "      <td>484.0</td>\n",
       "      <td>19456.0</td>\n",
       "      <td>Apache</td>\n",
       "      <td>AZ</td>\n",
       "      <td>2000</td>\n",
       "      <td>25.94</td>\n",
       "      <td>9.0</td>\n",
       "      <td>1080.7</td>\n",
       "      <td>74.06</td>\n",
       "      <td>4.7</td>\n",
       "      <td>democrat</td>\n",
       "    </tr>\n",
       "    <tr>\n",
       "      <th>1</th>\n",
       "      <td>1</td>\n",
       "      <td>13360</td>\n",
       "      <td>1701.0</td>\n",
       "      <td>33241.0</td>\n",
       "      <td>Cochise</td>\n",
       "      <td>AZ</td>\n",
       "      <td>2000</td>\n",
       "      <td>63.70</td>\n",
       "      <td>4.5</td>\n",
       "      <td>1933.4</td>\n",
       "      <td>36.30</td>\n",
       "      <td>7.8</td>\n",
       "      <td>republican</td>\n",
       "    </tr>\n",
       "    <tr>\n",
       "      <th>2</th>\n",
       "      <td>2</td>\n",
       "      <td>20280</td>\n",
       "      <td>3041.0</td>\n",
       "      <td>40883.0</td>\n",
       "      <td>Coconino</td>\n",
       "      <td>AZ</td>\n",
       "      <td>2000</td>\n",
       "      <td>68.53</td>\n",
       "      <td>4.4</td>\n",
       "      <td>1939.8</td>\n",
       "      <td>31.47</td>\n",
       "      <td>2.3</td>\n",
       "      <td>democrat</td>\n",
       "    </tr>\n",
       "    <tr>\n",
       "      <th>3</th>\n",
       "      <td>3</td>\n",
       "      <td>7700</td>\n",
       "      <td>878.0</td>\n",
       "      <td>17736.0</td>\n",
       "      <td>Gila</td>\n",
       "      <td>AZ</td>\n",
       "      <td>2000</td>\n",
       "      <td>58.94</td>\n",
       "      <td>5.2</td>\n",
       "      <td>1625.0</td>\n",
       "      <td>41.06</td>\n",
       "      <td>4.6</td>\n",
       "      <td>republican</td>\n",
       "    </tr>\n",
       "    <tr>\n",
       "      <th>4</th>\n",
       "      <td>4</td>\n",
       "      <td>3355</td>\n",
       "      <td>302.0</td>\n",
       "      <td>9664.0</td>\n",
       "      <td>Graham</td>\n",
       "      <td>AZ</td>\n",
       "      <td>2000</td>\n",
       "      <td>53.56</td>\n",
       "      <td>5.4</td>\n",
       "      <td>1430.2</td>\n",
       "      <td>46.44</td>\n",
       "      <td>3.8</td>\n",
       "      <td>republican</td>\n",
       "    </tr>\n",
       "  </tbody>\n",
       "</table>\n",
       "</div>"
      ],
      "text/plain": [
       "   index  blue_votes  other_votes  total_votes    county state  election_year  \\\n",
       "0      0       13025        484.0      19456.0    Apache    AZ           2000   \n",
       "1      1       13360       1701.0      33241.0   Cochise    AZ           2000   \n",
       "2      2       20280       3041.0      40883.0  Coconino    AZ           2000   \n",
       "3      3        7700        878.0      17736.0      Gila    AZ           2000   \n",
       "4      4        3355        302.0       9664.0    Graham    AZ           2000   \n",
       "\n",
       "   PopPct_Urban  Unemployment  PopDen_Urban  PopPct_Rural  PopDen_Rural  \\\n",
       "0         25.94           9.0        1080.7         74.06           4.7   \n",
       "1         63.70           4.5        1933.4         36.30           7.8   \n",
       "2         68.53           4.4        1939.8         31.47           2.3   \n",
       "3         58.94           5.2        1625.0         41.06           4.6   \n",
       "4         53.56           5.4        1430.2         46.44           3.8   \n",
       "\n",
       "  winning_party  \n",
       "0      democrat  \n",
       "1    republican  \n",
       "2      democrat  \n",
       "3    republican  \n",
       "4    republican  "
      ]
     },
     "execution_count": 23,
     "metadata": {},
     "output_type": "execute_result"
    }
   ],
   "source": [
    "# Create our features\n",
    "X = votes_df.copy()\n",
    "X = X.drop(\"red_votes\", axis=1)\n",
    "X.head()"
   ]
  },
  {
   "cell_type": "code",
   "execution_count": 24,
   "metadata": {},
   "outputs": [
    {
     "data": {
      "text/plain": [
       "0     5947\n",
       "1    18180\n",
       "2    17562\n",
       "3     9158\n",
       "4     6007\n",
       "Name: red_votes, dtype: int64"
      ]
     },
     "execution_count": 24,
     "metadata": {},
     "output_type": "execute_result"
    }
   ],
   "source": [
    "# Create our target, y-could also be set up as a series nested inside a df. Check \"loc\" feature https://pandas.pydata.org/pandas-docs/stable/reference/api/pandas.DataFrame.loc.html\n",
    "y = votes_df['red_votes']\n",
    "y[:5]\n",
    "#y.describe()\n",
    "#y.head"
   ]
  },
  {
   "cell_type": "code",
   "execution_count": 25,
   "metadata": {},
   "outputs": [],
   "source": [
    "# Change all columns, in X variable, to numeric values\n",
    "X = pd.get_dummies(['county', 'state', 'election_year','unemployment','PopPct_Urban','PopDen_Urban'])"
   ]
  },
  {
   "cell_type": "code",
   "execution_count": 26,
   "metadata": {},
   "outputs": [
    {
     "data": {
      "text/html": [
       "<div>\n",
       "<style scoped>\n",
       "    .dataframe tbody tr th:only-of-type {\n",
       "        vertical-align: middle;\n",
       "    }\n",
       "\n",
       "    .dataframe tbody tr th {\n",
       "        vertical-align: top;\n",
       "    }\n",
       "\n",
       "    .dataframe thead th {\n",
       "        text-align: right;\n",
       "    }\n",
       "</style>\n",
       "<table border=\"1\" class=\"dataframe\">\n",
       "  <thead>\n",
       "    <tr style=\"text-align: right;\">\n",
       "      <th></th>\n",
       "      <th>PopDen_Urban</th>\n",
       "      <th>PopPct_Urban</th>\n",
       "      <th>county</th>\n",
       "      <th>election_year</th>\n",
       "      <th>state</th>\n",
       "      <th>unemployment</th>\n",
       "    </tr>\n",
       "  </thead>\n",
       "  <tbody>\n",
       "    <tr>\n",
       "      <th>0</th>\n",
       "      <td>0</td>\n",
       "      <td>0</td>\n",
       "      <td>1</td>\n",
       "      <td>0</td>\n",
       "      <td>0</td>\n",
       "      <td>0</td>\n",
       "    </tr>\n",
       "    <tr>\n",
       "      <th>1</th>\n",
       "      <td>0</td>\n",
       "      <td>0</td>\n",
       "      <td>0</td>\n",
       "      <td>0</td>\n",
       "      <td>1</td>\n",
       "      <td>0</td>\n",
       "    </tr>\n",
       "    <tr>\n",
       "      <th>2</th>\n",
       "      <td>0</td>\n",
       "      <td>0</td>\n",
       "      <td>0</td>\n",
       "      <td>1</td>\n",
       "      <td>0</td>\n",
       "      <td>0</td>\n",
       "    </tr>\n",
       "    <tr>\n",
       "      <th>3</th>\n",
       "      <td>0</td>\n",
       "      <td>0</td>\n",
       "      <td>0</td>\n",
       "      <td>0</td>\n",
       "      <td>0</td>\n",
       "      <td>1</td>\n",
       "    </tr>\n",
       "    <tr>\n",
       "      <th>4</th>\n",
       "      <td>0</td>\n",
       "      <td>1</td>\n",
       "      <td>0</td>\n",
       "      <td>0</td>\n",
       "      <td>0</td>\n",
       "      <td>0</td>\n",
       "    </tr>\n",
       "    <tr>\n",
       "      <th>5</th>\n",
       "      <td>1</td>\n",
       "      <td>0</td>\n",
       "      <td>0</td>\n",
       "      <td>0</td>\n",
       "      <td>0</td>\n",
       "      <td>0</td>\n",
       "    </tr>\n",
       "  </tbody>\n",
       "</table>\n",
       "</div>"
      ],
      "text/plain": [
       "   PopDen_Urban  PopPct_Urban  county  election_year  state  unemployment\n",
       "0             0             0       1              0      0             0\n",
       "1             0             0       0              0      1             0\n",
       "2             0             0       0              1      0             0\n",
       "3             0             0       0              0      0             1\n",
       "4             0             1       0              0      0             0\n",
       "5             1             0       0              0      0             0"
      ]
     },
     "execution_count": 26,
     "metadata": {},
     "output_type": "execute_result"
    }
   ],
   "source": [
    "X"
   ]
  },
  {
   "cell_type": "code",
   "execution_count": 27,
   "metadata": {},
   "outputs": [
    {
     "data": {
      "image/png": "[encoded data removed]",
      "text/plain": [
       "<Figure size 1152x576 with 1 Axes>"
      ]
     },
     "metadata": {
      "needs_background": "light"
     },
     "output_type": "display_data"
    }
   ],
   "source": [
    "plt.figure(figsize=(16, 8))\n",
    "plt.scatter(\n",
    "    votes_df['total_votes'],\n",
    "    votes_df['red_votes'],\n",
    "    c='black'\n",
    ")\n",
    "plt.xlabel(\"All Votes\")\n",
    "plt.ylabel(\"Republicans\")\n",
    "plt.show()"
   ]
  },
  {
   "cell_type": "code",
   "execution_count": 28,
   "metadata": {},
   "outputs": [
    {
     "name": "stdout",
     "output_type": "stream",
     "text": [
      "The linear model is: Y = 76.293 + -2.8423X\n"
     ]
    }
   ],
   "source": [
    "X = votes_df['Unemployment'].values.reshape(-1,1)\n",
    "y = votes_df['PopDen_Rural'].values.reshape(-1,1)\n",
    "\n",
    "reg = LinearRegression()\n",
    "reg.fit(X, y)\n",
    "\n",
    "print(\"The linear model is: Y = {:.5} + {:.5}X\".format(reg.intercept_[0], reg.coef_[0][0]))"
   ]
  },
  {
   "cell_type": "code",
   "execution_count": 29,
   "metadata": {},
   "outputs": [
    {
     "data": {
      "image/png": "[encoded data removed]",
      "text/plain": [
       "<Figure size 1152x576 with 1 Axes>"
      ]
     },
     "metadata": {
      "needs_background": "light"
     },
     "output_type": "display_data"
    }
   ],
   "source": [
    "predictions = reg.predict(X)\n",
    "\n",
    "plt.figure(figsize=(16, 8))\n",
    "plt.scatter(\n",
    "    votes_df['Unemployment'],\n",
    "    votes_df['PopDen_Rural'],\n",
    "    c='black'\n",
    ")\n",
    "plt.plot(\n",
    "    votes_df['Unemployment'],\n",
    "    predictions,\n",
    "    c='blue',\n",
    "    linewidth=2\n",
    ")\n",
    "plt.xlabel(\"Unemployment\")\n",
    "plt.ylabel(\"Rural Population Density\")\n",
    "plt.show()"
   ]
  },
  {
   "cell_type": "code",
   "execution_count": 30,
   "metadata": {},
   "outputs": [
    {
     "name": "stdout",
     "output_type": "stream",
     "text": [
      "                            OLS Regression Results                            \n",
      "==============================================================================\n",
      "Dep. Variable:           PopDen_Rural   R-squared:                       0.028\n",
      "Model:                            OLS   Adj. R-squared:                  0.027\n",
      "Method:                 Least Squares   F-statistic:                     57.90\n",
      "Date:                Sun, 09 Aug 2020   Prob (F-statistic):           4.20e-14\n",
      "Time:                        06:20:09   Log-Likelihood:                -10376.\n",
      "No. Observations:                2020   AIC:                         2.076e+04\n",
      "Df Residuals:                    2018   BIC:                         2.077e+04\n",
      "Df Model:                           1                                         \n",
      "Covariance Type:            nonrobust                                         \n",
      "================================================================================\n",
      "                   coef    std err          t      P>|t|      [0.025      0.975]\n",
      "--------------------------------------------------------------------------------\n",
      "const           76.2932      2.542     30.018      0.000      71.309      81.278\n",
      "Unemployment    -2.8423      0.374     -7.609      0.000      -3.575      -2.110\n",
      "==============================================================================\n",
      "Omnibus:                      261.350   Durbin-Watson:                   1.494\n",
      "Prob(Omnibus):                  0.000   Jarque-Bera (JB):              371.471\n",
      "Skew:                           0.979   Prob(JB):                     2.17e-81\n",
      "Kurtosis:                       3.760   Cond. No.                         19.2\n",
      "==============================================================================\n",
      "\n",
      "Warnings:\n",
      "[1] Standard Errors assume that the covariance matrix of the errors is correctly specified.\n"
     ]
    }
   ],
   "source": [
    "X = votes_df['Unemployment']\n",
    "y = votes_df['PopDen_Rural']\n",
    "X2 = sm.add_constant(X)\n",
    "est = sm.OLS(y, X2)\n",
    "est2 = est.fit()\n",
    "print(est2.summary())\n",
    "\n",
    "#X = votes_df['Unemployment'].values.reshape(-1,1)\n",
    "#y = votes_df['PopDen_Rural'].values.reshape(-1,1)"
   ]
  },
  {
   "cell_type": "code",
   "execution_count": null,
   "metadata": {},
   "outputs": [],
   "source": []
  },
  {
   "cell_type": "code",
   "execution_count": null,
   "metadata": {},
   "outputs": [],
   "source": []
  },
  {
   "cell_type": "markdown",
   "metadata": {},
   "source": [
    "### End"
   ]
  }
 ],
 "metadata": {
  "kernelspec": {
   "display_name": "mlenv",
   "language": "python",
   "name": "mlenv"
  },
  "language_info": {
   "codemirror_mode": {
    "name": "ipython",
    "version": 3
   },
   "file_extension": ".py",
   "mimetype": "text/x-python",
   "name": "python",
   "nbconvert_exporter": "python",
   "pygments_lexer": "ipython3",
   "version": "3.7.8"
  }
 },
 "nbformat": 4,
 "nbformat_minor": 2
}
