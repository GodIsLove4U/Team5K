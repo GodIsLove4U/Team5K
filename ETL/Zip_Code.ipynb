{
  "nbformat": 4,
  "nbformat_minor": 0,
  "metadata": {
    "colab": {
      "name": "Zip Code.ipynb",
      "provenance": []
    },
    "kernelspec": {
      "name": "python3",
      "display_name": "Python 3"
    }
  },
  "cells": [
    {
      "cell_type": "code",
      "metadata": {
        "id": "stQi5VtabmTV",
        "colab_type": "code",
        "colab": {}
      },
      "source": [
        "# Install Java, Spark, and Findspark\n",
        "!apt-get install openjdk-8-jdk-headless -qq > /dev/null\n",
        "!wget -q http://www-us.apache.org/dist/spark/spark-2.4.6/spark-2.4.6-bin-hadoop2.7.tgz\n",
        "!tar xf spark-2.4.6-bin-hadoop2.7.tgz\n",
        "!pip install -q findspark\n",
        "\n",
        "# Set Environment Variables\n",
        "import os\n",
        "os.environ[\"JAVA_HOME\"] = \"/usr/lib/jvm/java-8-openjdk-amd64\"\n",
        "os.environ[\"SPARK_HOME\"] = \"/content/spark-2.4.6-bin-hadoop2.7\"\n",
        "\n",
        "# Start a SparkSession\n",
        "import findspark\n",
        "findspark.init()\n",
        "\n",
        "#from google.cloud import storage\n",
        "#!pip install gcsfs\n",
        "import pandas as pd"
      ],
      "execution_count": null,
      "outputs": []
    },
    {
      "cell_type": "code",
      "metadata": {
        "id": "VHlJG9y-byjo",
        "colab_type": "code",
        "colab": {}
      },
      "source": [
        "!wget https://jdbc.postgresql.org/download/postgresql-42.2.9.jar"
      ],
      "execution_count": null,
      "outputs": []
    },
    {
      "cell_type": "code",
      "metadata": {
        "id": "KZk0v6gsb1Zc",
        "colab_type": "code",
        "colab": {}
      },
      "source": [
        "from pyspark.sql import SparkSession\n",
        "spark = SparkSession.builder.appName(\"CloudETL\").config(\"spark.driver.extraClassPath\",\"/content/postgresql-42.2.9.jar\").getOrCreate()"
      ],
      "execution_count": null,
      "outputs": []
    },
    {
      "cell_type": "code",
      "metadata": {
        "id": "viQBP5jCb3SY",
        "colab_type": "code",
        "colab": {
          "base_uri": "https://localhost:8080/",
          "height": 459
        },
        "outputId": "07bb7ce0-3559-4946-b275-88fb30c57e05"
      },
      "source": [
        "# Read in data from S3 Buckets\n",
        "from pyspark import SparkFiles\n",
        "url =\"https://storage.googleapis.com/team5k/zip_codes/ZIP-COUNTY-FIPS_2017-06.csv\"\n",
        "spark.sparkContext.addFile(url)\n",
        "zip_df = spark.read.csv(SparkFiles.get(\"ZIP-COUNTY-FIPS_2017-06.csv\"), header=True, inferSchema=True)\n",
        "\n",
        "# Show DataFrame\n",
        "zip_df.show()"
      ],
      "execution_count": null,
      "outputs": [
        {
          "output_type": "stream",
          "text": [
            "+-----+--------------+-----+----------+-------+\n",
            "|  ZIP|    COUNTYNAME|STATE|STCOUNTYFP|CLASSFP|\n",
            "+-----+--------------+-----+----------+-------+\n",
            "|36003|Autauga County|   AL|      1001|     H1|\n",
            "|36006|Autauga County|   AL|      1001|     H1|\n",
            "|36067|Autauga County|   AL|      1001|     H1|\n",
            "|36066|Autauga County|   AL|      1001|     H1|\n",
            "|36703|Autauga County|   AL|      1001|     H1|\n",
            "|36701|Autauga County|   AL|      1001|     H1|\n",
            "|36091|Autauga County|   AL|      1001|     H1|\n",
            "|36051|Autauga County|   AL|      1001|     H1|\n",
            "|36068|Autauga County|   AL|      1001|     H1|\n",
            "|36008|Autauga County|   AL|      1001|     H1|\n",
            "|36022|Autauga County|   AL|      1001|     H1|\n",
            "|36749|Autauga County|   AL|      1001|     H1|\n",
            "|36758|Autauga County|   AL|      1001|     H1|\n",
            "|36550|Baldwin County|   AL|      1003|     H1|\n",
            "|36551|Baldwin County|   AL|      1003|     H1|\n",
            "|36527|Baldwin County|   AL|      1003|     H1|\n",
            "|36577|Baldwin County|   AL|      1003|     H1|\n",
            "|36559|Baldwin County|   AL|      1003|     H1|\n",
            "|36536|Baldwin County|   AL|      1003|     H1|\n",
            "|36576|Baldwin County|   AL|      1003|     H1|\n",
            "+-----+--------------+-----+----------+-------+\n",
            "only showing top 20 rows\n",
            "\n"
          ],
          "name": "stdout"
        }
      ]
    },
    {
      "cell_type": "code",
      "metadata": {
        "id": "EMzpQ2IrcOkM",
        "colab_type": "code",
        "colab": {
          "base_uri": "https://localhost:8080/",
          "height": 102
        },
        "outputId": "ec1f4ad8-d048-465b-cf33-f20e855dc5a6"
      },
      "source": [
        "zip_df.dtypes"
      ],
      "execution_count": null,
      "outputs": [
        {
          "output_type": "execute_result",
          "data": {
            "text/plain": [
              "[('ZIP', 'int'),\n",
              " ('COUNTYNAME', 'string'),\n",
              " ('STATE', 'string'),\n",
              " ('STCOUNTYFP', 'int'),\n",
              " ('CLASSFP', 'string')]"
            ]
          },
          "metadata": {
            "tags": []
          },
          "execution_count": 33
        }
      ]
    },
    {
      "cell_type": "code",
      "metadata": {
        "id": "qKMVrhzylval",
        "colab_type": "code",
        "colab": {}
      },
      "source": [
        "#from pyspark.sql.types import StringType\n",
        "#zip_df = zip_df.withColumn(\"zip\",zip_df[\"zip\"].cast(StringType()))\n",
        "#zip_df = zip_df.withColumn(\"stcountyfp\",zip_df[\"stcountyfp\"].cast(StringType()))"
      ],
      "execution_count": null,
      "outputs": []
    },
    {
      "cell_type": "code",
      "metadata": {
        "id": "IaLkLnO-cRNw",
        "colab_type": "code",
        "colab": {
          "base_uri": "https://localhost:8080/",
          "height": 459
        },
        "outputId": "64533b58-00d1-42fb-f6b7-31b333a04bb7"
      },
      "source": [
        "zip_df=zip_df.select(\"STATE\")\n",
        "zip_count=zip_df.groupby(\"STATE\").count()\n",
        "zip_count.show()"
      ],
      "execution_count": null,
      "outputs": [
        {
          "output_type": "stream",
          "text": [
            "+-----+-----+\n",
            "|STATE|count|\n",
            "+-----+-----+\n",
            "|   AZ|  529|\n",
            "|   SC|  738|\n",
            "|   LA|  874|\n",
            "|   MN| 1427|\n",
            "|   NJ|  806|\n",
            "|   DC|  219|\n",
            "|   OR|  562|\n",
            "|   VA| 1627|\n",
            "|   RI|   95|\n",
            "|   KY| 1418|\n",
            "|   WY|  215|\n",
            "|   NH|  312|\n",
            "|   MI| 1569|\n",
            "|   NV|  252|\n",
            "|   WI| 1297|\n",
            "|   ID|  394|\n",
            "|   CA| 2632|\n",
            "|   CT|  440|\n",
            "|   NE|  970|\n",
            "|   MT|  508|\n",
            "+-----+-----+\n",
            "only showing top 20 rows\n",
            "\n"
          ],
          "name": "stdout"
        }
      ]
    },
    {
      "cell_type": "code",
      "metadata": {
        "id": "X7NkQKfTcUyk",
        "colab_type": "code",
        "colab": {}
      },
      "source": [
        "#standardize column names\n",
        "#zip_df=zip_df.withColumnRenamed('ZIP', \"zip\").withColumnRenamed(\"COUNTYNAME\", \"county\").withColumnRenamed(\"STATE\", \"state\").withColumnRenamed(\"STCOUNTYFP\" ,\"stcountyfp\").withColumnRenamed(\"CLASSFP\" ,\"classfp\")"
      ],
      "execution_count": null,
      "outputs": []
    },
    {
      "cell_type": "code",
      "metadata": {
        "id": "1z_yTj5IemNT",
        "colab_type": "code",
        "colab": {}
      },
      "source": [
        "# Configure settings for RDS\n",
        "mode = \"append\"\n",
        "jdbc_url=\"jdbc:postgresql://34.67.52.115/team5k\"\n",
        "config = {\"user\":\"postgres\", \n",
        "          \"password\": \"team5kteam5k\", \n",
        "          \"driver\":\"org.postgresql.Driver\"}"
      ],
      "execution_count": null,
      "outputs": []
    },
    {
      "cell_type": "code",
      "metadata": {
        "id": "YIuM0qgteohC",
        "colab_type": "code",
        "colab": {}
      },
      "source": [
        "# Write DataFrame to RDS\n",
        "zip_count.write.jdbc(url=jdbc_url, table=\"postal_code\", mode=mode, properties=config)"
      ],
      "execution_count": null,
      "outputs": []
    },
    {
      "cell_type": "code",
      "metadata": {
        "id": "Mz8YgxZMkt1K",
        "colab_type": "code",
        "colab": {}
      },
      "source": [
        ""
      ],
      "execution_count": null,
      "outputs": []
    }
  ]
}